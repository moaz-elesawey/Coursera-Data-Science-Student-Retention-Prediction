{
 "cells": [
  {
   "attachments": {
    "COUR_IPO.png": {
     "image/png": "[encoded data removed]"
    }
   },
   "cell_type": "markdown",
   "metadata": {
    "deletable": false,
    "editable": false,
    "nbgrader": {
     "cell_type": "markdown",
     "checksum": "af0dab4bf493ffd94e2a70dabffd2917",
     "grade": false,
     "grade_id": "cell-c8032e643085d4b6",
     "locked": true,
     "schema_version": 3,
     "solution": false,
     "task": false
    }
   },
   "source": [
    "![COUR_IPO.png](attachment:COUR_IPO.png)"
   ]
  },
  {
   "cell_type": "markdown",
   "metadata": {
    "deletable": false,
    "editable": false,
    "nbgrader": {
     "cell_type": "markdown",
     "checksum": "6a90d4b4074329acaac1e7fa91b9b980",
     "grade": false,
     "grade_id": "cell-4bde05ab27ac14e5",
     "locked": true,
     "schema_version": 3,
     "solution": false,
     "task": false
    }
   },
   "source": [
    "# Welcome to Challenge Labs!"
   ]
  },
  {
   "cell_type": "markdown",
   "metadata": {
    "deletable": false,
    "editable": false,
    "nbgrader": {
     "cell_type": "markdown",
     "checksum": "3593976de03b80e5a2b5c26c55a91803",
     "grade": false,
     "grade_id": "cell-b9f749e4cd16dd21",
     "locked": true,
     "schema_version": 3,
     "solution": false,
     "task": false
    }
   },
   "source": [
    "Challenge labs provide CS & DS Coding Competitions with Prizes that Change Learners’ Lives!\n",
    "\n",
    "CS & DS learners want to be challenged as a way to evaluate if they’re job ready. So, why not create fun challenges and give winners something truly life changing like job interviews at real companies."
   ]
  },
  {
   "cell_type": "markdown",
   "metadata": {
    "deletable": false,
    "editable": false,
    "nbgrader": {
     "cell_type": "markdown",
     "checksum": "cce61eed273968fe449ecc3011bc8490",
     "grade": false,
     "grade_id": "cell-4776224638b5033e",
     "locked": true,
     "schema_version": 3,
     "solution": false,
     "task": false
    }
   },
   "source": [
    "## Introduction"
   ]
  },
  {
   "cell_type": "markdown",
   "metadata": {
    "deletable": false,
    "editable": false,
    "nbgrader": {
     "cell_type": "markdown",
     "checksum": "0564ef8029a9f0555d3c31c5e1ce9703",
     "grade": false,
     "grade_id": "cell-33f440a751a3ce26",
     "locked": true,
     "schema_version": 3,
     "solution": false,
     "task": false
    }
   },
   "source": [
    "In this challenge, you'll get the opportunity to tackle one of the most industry-relevant maching learning problems with a unique dataset that will put your modeling skills to the test. Subscription services are leveraged by companies across many industries, from fitness to video streaming to retail. One of the primary objectives of companies with subscription services is to decrease churn and ensure that users are retained as subscribers. In order to do this efficiently and systematically, many companies employ machine learning to predict which users are at the highest risk of churn, so that proper interventions can be effectively deployed to the right audience.\n",
    "\n",
    "In this challenge, we will be tackling the retention prediction problem on a very unique and interesting group of subscribers, Coursera learners! On Coursera, learners can subscribe to sets of courses in order to gain full access to graded assignments, hands-on projects, and course completion certificates. One of the most common ways that learners subscribe to content is via [Specialization Subscriptions](https://www.coursera.support/s/article/216348103-Coursera-subscriptions?language=en_US#specialization), which give learners unlimited access to the courses in a specific specialization on a month-to-month basis.\n",
    "\n",
    "Imagine that you are a new data scientist at Coursera and you are tasked with building a model that can predict which existing specialization subscribers will continue their subscriptions for another month. We have provided a dataset that is a sample of subscriptions that were initiated in 2021, all snapshotted at a particular date before the subscription was cancelled. Subscription cancellation can happen for a multitude of reasons, including:\n",
    "* the learner completes the specialization or reaches their learning goal and no longer needs the subscription\n",
    "* the learner finds themselves to be too busy and cancels their subscription until a later time\n",
    "* the learner determines that the specialization is not the best fit for their learning goals, so they cancel and look for something better suited\n",
    "\n",
    "Regardless the reason, Coursera has a vested interest in understanding the likelihood of each individual learner to retain in their subscription so that resources can be allocated appropriately to support learners across the various stages of their learning journeys. In this challenge, you will use your machine learning toolkit to do just that!"
   ]
  },
  {
   "cell_type": "markdown",
   "metadata": {
    "deletable": false,
    "editable": false,
    "nbgrader": {
     "cell_type": "markdown",
     "checksum": "87469a362d507970e7455ca80365acc7",
     "grade": false,
     "grade_id": "cell-d0659a425f85c8d9",
     "locked": true,
     "schema_version": 3,
     "solution": false,
     "task": false
    }
   },
   "source": [
    "## Understanding the Datasets"
   ]
  },
  {
   "cell_type": "markdown",
   "metadata": {
    "deletable": false,
    "editable": false,
    "nbgrader": {
     "cell_type": "markdown",
     "checksum": "e374f874bdb3b6d37eacf6ee66dc3e1f",
     "grade": false,
     "grade_id": "cell-2267b885b0d27197",
     "locked": true,
     "schema_version": 3,
     "solution": false,
     "task": false
    }
   },
   "source": [
    "### Train vs. Test\n",
    "In this competition, you’ll gain access to two datasets that are samples of past specialization subscriptions that contain information about the learner, the specialization, and the learner's activity in the subscription thus far. One dataset is titled `train.csv` and the other is titled `test.csv`.\n",
    "\n",
    "`train.csv` contains 70% of the overall sample (509,837 subscriptions to be exact) and importantly, will reveal whether or not the subscription was continued into the next month (the “ground truth”).\n",
    "\n",
    "The `test.csv` dataset contains the exact same information about the remaining segment of the overall sample (217,921 subscriptions to be exact), but does not disclose the “ground truth” for each subscription. It’s your job to predict this outcome!\n",
    "\n",
    "Using the patterns you find in the `train.csv` data, predict whether the subscriptions in `test.csv` will be continued for another month, or not."
   ]
  },
  {
   "cell_type": "markdown",
   "metadata": {
    "deletable": false,
    "editable": false,
    "nbgrader": {
     "cell_type": "markdown",
     "checksum": "fb53da2c25183274e25e8e8505a50594",
     "grade": false,
     "grade_id": "cell-fb82d30972bbe619",
     "locked": true,
     "schema_version": 3,
     "solution": false,
     "task": false
    }
   },
   "source": [
    "### Dataset descriptions\n",
    "Both `train.csv` and `test.csv` contain one row for each unique specialization subscription. For each subscription, a single observation (`subscription_id`) is included as of a particular date (`observation_dt`) during which the subscription was active. This date was chosen at random from all the dates during which the subscription was active. In some instances it is soon after the subscription was initiated; in other instances, it is several months after the subscription was initiated and after several previous payments were made. Therefore, your model will have to be able to adapt to different stages of the subscription.\n",
    "\n",
    "In addition to those identifier columns, the `train.csv` dataset also contains the target label for the task, a binary column `is_retained`.\n",
    "\n",
    "Besides that column, both datasets have an identical set of features that can be used to train your model to make predictions. Below you can see descriptions of each feature. Familiarize yourself with them so that you can harness them most effectively for this machine learning task!"
   ]
  },
  {
   "cell_type": "code",
   "execution_count": 1,
   "metadata": {},
   "outputs": [
    {
     "data": {
      "text/html": [
       "<div>\n",
       "<style scoped>\n",
       "    .dataframe tbody tr th:only-of-type {\n",
       "        vertical-align: middle;\n",
       "    }\n",
       "\n",
       "    .dataframe tbody tr th {\n",
       "        vertical-align: top;\n",
       "    }\n",
       "\n",
       "    .dataframe thead th {\n",
       "        text-align: right;\n",
       "    }\n",
       "</style>\n",
       "<table border=\"1\" class=\"dataframe\">\n",
       "  <thead>\n",
       "    <tr style=\"text-align: right;\">\n",
       "      <th></th>\n",
       "      <th>Column_name</th>\n",
       "      <th>Column_type</th>\n",
       "      <th>Data_type</th>\n",
       "      <th>Description</th>\n",
       "    </tr>\n",
       "  </thead>\n",
       "  <tbody>\n",
       "    <tr>\n",
       "      <th>0</th>\n",
       "      <td>subscription_id</td>\n",
       "      <td>Identifier</td>\n",
       "      <td>character</td>\n",
       "      <td>Unique identifier of each subscription</td>\n",
       "    </tr>\n",
       "    <tr>\n",
       "      <th>1</th>\n",
       "      <td>observation_dt</td>\n",
       "      <td>Identifier</td>\n",
       "      <td>date</td>\n",
       "      <td>The date on which the subscription was observed to calculate the features in the dataset. It was chosen at random amongst all the dates between the start of the subscription and the end of the subscription (before cancellation)</td>\n",
       "    </tr>\n",
       "    <tr>\n",
       "      <th>2</th>\n",
       "      <td>is_retained</td>\n",
       "      <td>Target</td>\n",
       "      <td>Integer</td>\n",
       "      <td>TRAINING SET ONLY! 0 = the learner cancelled their subscription before next payment, 1 = the learner made an additional payment in this subscription</td>\n",
       "    </tr>\n",
       "    <tr>\n",
       "      <th>3</th>\n",
       "      <td>specialization_id</td>\n",
       "      <td>Feature - Specialization Info</td>\n",
       "      <td>character</td>\n",
       "      <td>Unique identifier of a specialization (each subscription gives a learner access to a particular specialization)</td>\n",
       "    </tr>\n",
       "    <tr>\n",
       "      <th>4</th>\n",
       "      <td>cnt_courses_in_specialization</td>\n",
       "      <td>Feature - Specialization Info</td>\n",
       "      <td>integer</td>\n",
       "      <td>number of courses in the specialization</td>\n",
       "    </tr>\n",
       "    <tr>\n",
       "      <th>5</th>\n",
       "      <td>specialization_domain</td>\n",
       "      <td>Feature - Specialization Info</td>\n",
       "      <td>character</td>\n",
       "      <td>primary domain of the specialization (Computer Science, Data Science, etc.)</td>\n",
       "    </tr>\n",
       "    <tr>\n",
       "      <th>6</th>\n",
       "      <td>is_professional_certificate</td>\n",
       "      <td>Feature - Specialization Info</td>\n",
       "      <td>boolean</td>\n",
       "      <td>BOOLEAN for whether the specialization is a \"professional certicate\" (a special type of specialization that awards completers with an industry-sponsored credential)</td>\n",
       "    </tr>\n",
       "    <tr>\n",
       "      <th>7</th>\n",
       "      <td>is_gateway_certificate</td>\n",
       "      <td>Feature - Specialization Info</td>\n",
       "      <td>boolean</td>\n",
       "      <td>BOOLEAN for whether the specialization is a \"gateway certificate\" (a special type of specialization geared towards learners starting in a new field)</td>\n",
       "    </tr>\n",
       "    <tr>\n",
       "      <th>8</th>\n",
       "      <td>learner_days_since_registration</td>\n",
       "      <td>Feature - Learner Info</td>\n",
       "      <td>integer</td>\n",
       "      <td>Days from coursera registration date to the date on which the observation is made</td>\n",
       "    </tr>\n",
       "    <tr>\n",
       "      <th>9</th>\n",
       "      <td>learner_country_group</td>\n",
       "      <td>Feature - Learner Info</td>\n",
       "      <td>character</td>\n",
       "      <td>the region of the world that the learner is from (United States, East Asia, etc.)</td>\n",
       "    </tr>\n",
       "    <tr>\n",
       "      <th>10</th>\n",
       "      <td>learner_gender</td>\n",
       "      <td>Feature - Learner Info</td>\n",
       "      <td>character</td>\n",
       "      <td>the reported gender of the learner (if not available, then \"unknown\")</td>\n",
       "    </tr>\n",
       "    <tr>\n",
       "      <th>11</th>\n",
       "      <td>learner_cnt_other_courses_active</td>\n",
       "      <td>Feature - Learner Info</td>\n",
       "      <td>integer</td>\n",
       "      <td>Other courses (not in this specialization) in which the learner was active prior to observation_dt</td>\n",
       "    </tr>\n",
       "    <tr>\n",
       "      <th>12</th>\n",
       "      <td>learner_cnt_other_courses_paid_active</td>\n",
       "      <td>Feature - Learner Info</td>\n",
       "      <td>integer</td>\n",
       "      <td>Other courses (not in this specialization) in which the learner was active prior to observation_dt and was a paid enrollee</td>\n",
       "    </tr>\n",
       "    <tr>\n",
       "      <th>13</th>\n",
       "      <td>learner_cnt_other_courses_items_completed</td>\n",
       "      <td>Feature - Learner Info</td>\n",
       "      <td>integer</td>\n",
       "      <td>Items completed in other courses (not in this specialization) prior to the observation_dt</td>\n",
       "    </tr>\n",
       "    <tr>\n",
       "      <th>14</th>\n",
       "      <td>learner_cnt_other_courses_paid_items_completed</td>\n",
       "      <td>Feature - Learner Info</td>\n",
       "      <td>integer</td>\n",
       "      <td>Items completed in other courses (not in this specialization) prior to the observation_dt, where the learner was a paid enrollee</td>\n",
       "    </tr>\n",
       "    <tr>\n",
       "      <th>15</th>\n",
       "      <td>learner_cnt_other_transactions_past</td>\n",
       "      <td>Feature - Learner Info</td>\n",
       "      <td>integer</td>\n",
       "      <td>Other payments that the learner made on Coursera separate from this subscription</td>\n",
       "    </tr>\n",
       "    <tr>\n",
       "      <th>16</th>\n",
       "      <td>learner_other_revenue</td>\n",
       "      <td>Feature - Learner Info</td>\n",
       "      <td>numeric</td>\n",
       "      <td>US Dollar estimate of other payments that the learner made on Coursera separate from this subscription</td>\n",
       "    </tr>\n",
       "    <tr>\n",
       "      <th>17</th>\n",
       "      <td>subscription_period_order</td>\n",
       "      <td>Feature - Subscription Status</td>\n",
       "      <td>integer</td>\n",
       "      <td>An index of the \"month\" of the subcription; 1 = first month of payment, 2 = second month of payment</td>\n",
       "    </tr>\n",
       "    <tr>\n",
       "      <th>18</th>\n",
       "      <td>days_since_last_payment</td>\n",
       "      <td>Feature - Subscription Status</td>\n",
       "      <td>integer</td>\n",
       "      <td>Days since the last payment in the subscription</td>\n",
       "    </tr>\n",
       "    <tr>\n",
       "      <th>19</th>\n",
       "      <td>days_til_next_payment_due</td>\n",
       "      <td>Feature - Subscription Status</td>\n",
       "      <td>integer</td>\n",
       "      <td>Days until the next payment in the subsciption is due</td>\n",
       "    </tr>\n",
       "    <tr>\n",
       "      <th>20</th>\n",
       "      <td>cnt_enrollments_started_before_payment_period</td>\n",
       "      <td>Feature - Prior Subscription Activity</td>\n",
       "      <td>integer</td>\n",
       "      <td>Courses in the subscription specialization that were enrolled prior to the start of this subscription period</td>\n",
       "    </tr>\n",
       "    <tr>\n",
       "      <th>21</th>\n",
       "      <td>cnt_enrollments_completed_before_payment_period</td>\n",
       "      <td>Feature - Prior Subscription Activity</td>\n",
       "      <td>integer</td>\n",
       "      <td>Courses in the subscription specialization that were completed prior to the start of this subscription period</td>\n",
       "    </tr>\n",
       "    <tr>\n",
       "      <th>22</th>\n",
       "      <td>cnt_enrollments_active_before_payment_period</td>\n",
       "      <td>Feature - Prior Subscription Activity</td>\n",
       "      <td>integer</td>\n",
       "      <td>Courses in the subscription specialization that were active prior to the start of this subscription period</td>\n",
       "    </tr>\n",
       "    <tr>\n",
       "      <th>23</th>\n",
       "      <td>cnt_items_completed_before_payment_period</td>\n",
       "      <td>Feature - Prior Subscription Activity</td>\n",
       "      <td>integer</td>\n",
       "      <td>Items in the subscription specialization that were completed prior to the start of the subscription period</td>\n",
       "    </tr>\n",
       "    <tr>\n",
       "      <th>24</th>\n",
       "      <td>cnt_graded_items_completed_before_payment_period</td>\n",
       "      <td>Feature - Prior Subscription Activity</td>\n",
       "      <td>integer</td>\n",
       "      <td>Graded items (assignments) in the subscription speciallzation that were completed prior to the start of the subscription period</td>\n",
       "    </tr>\n",
       "    <tr>\n",
       "      <th>25</th>\n",
       "      <td>is_subscription_started_with_free_trial</td>\n",
       "      <td>Feature - Prior Subscription Activity</td>\n",
       "      <td>boolean</td>\n",
       "      <td>BOOLEAN for whether or not the subscription started with a free trial (7-day period for the learner to sample the specialization before paying)</td>\n",
       "    </tr>\n",
       "    <tr>\n",
       "      <th>26</th>\n",
       "      <td>cnt_enrollments_started_during_payment_period</td>\n",
       "      <td>Feature - Current Subscription Activity</td>\n",
       "      <td>integer</td>\n",
       "      <td>Courses in the subscription specialization that were enrolled during this subscription period (before observation_dt)</td>\n",
       "    </tr>\n",
       "    <tr>\n",
       "      <th>27</th>\n",
       "      <td>cnt_enrollments_completed_during_payment_period</td>\n",
       "      <td>Feature - Current Subscription Activity</td>\n",
       "      <td>integer</td>\n",
       "      <td>Courses in the subscription specialization that were completed during this subscription period (before observation_dt)</td>\n",
       "    </tr>\n",
       "    <tr>\n",
       "      <th>28</th>\n",
       "      <td>cnt_enrollments_active_during_payment_period</td>\n",
       "      <td>Feature - Current Subscription Activity</td>\n",
       "      <td>integer</td>\n",
       "      <td>Courses in the subscription specialization that were active during this subscription period (before observation_dt)</td>\n",
       "    </tr>\n",
       "    <tr>\n",
       "      <th>29</th>\n",
       "      <td>cnt_items_completed_during_payment_period</td>\n",
       "      <td>Feature - Current Subscription Activity</td>\n",
       "      <td>integer</td>\n",
       "      <td>Items in the subscription specialization that were completed during this subscription period (before observation_dt)</td>\n",
       "    </tr>\n",
       "    <tr>\n",
       "      <th>30</th>\n",
       "      <td>cnt_graded_items_completed_during_payment_period</td>\n",
       "      <td>Feature - Current Subscription Activity</td>\n",
       "      <td>integer</td>\n",
       "      <td>Graded items (assignments) in the subscription speciallzation that were completed during this subscription period (before observation_dt)</td>\n",
       "    </tr>\n",
       "    <tr>\n",
       "      <th>31</th>\n",
       "      <td>is_active_capstone_during_pay_period</td>\n",
       "      <td>Feature - Current Subscription Activity</td>\n",
       "      <td>boolean</td>\n",
       "      <td>BOOLEAN for whether the learner was active in a capstone course during this subscription period. The last course in some specializations is called a \"captone\" course as allows the learner to apply the skills they have learned in the prior courses up to that point.</td>\n",
       "    </tr>\n",
       "    <tr>\n",
       "      <th>32</th>\n",
       "      <td>sum_hours_learning_before_payment_period</td>\n",
       "      <td>Feature - Current Subscription Activity</td>\n",
       "      <td>numeric</td>\n",
       "      <td>Hours spent learning in subscription specialization courses prior to the subscription period</td>\n",
       "    </tr>\n",
       "    <tr>\n",
       "      <th>33</th>\n",
       "      <td>sum_hours_learning_during_payment_period</td>\n",
       "      <td>Feature - Current Subscription Activity</td>\n",
       "      <td>numeric</td>\n",
       "      <td>Hours spent learning in subscription specialization courses during the subscription period (before observation_dt)</td>\n",
       "    </tr>\n",
       "    <tr>\n",
       "      <th>34</th>\n",
       "      <td>cnt_days_active_before_payment_period</td>\n",
       "      <td>Feature - Current Subscription Activity</td>\n",
       "      <td>integer</td>\n",
       "      <td>Days active in the subscription specialization prior to the subscription period</td>\n",
       "    </tr>\n",
       "    <tr>\n",
       "      <th>35</th>\n",
       "      <td>cnt_days_active_during_payment_period</td>\n",
       "      <td>Feature - Current Subscription Activity</td>\n",
       "      <td>integer</td>\n",
       "      <td>Days active thus far in the subscription period (before observation_dt)</td>\n",
       "    </tr>\n",
       "    <tr>\n",
       "      <th>36</th>\n",
       "      <td>cnt_days_since_last_activity</td>\n",
       "      <td>Feature - Current Subscription Activity</td>\n",
       "      <td>integer</td>\n",
       "      <td>Days since the most recent activity date in the subscription (if never active, defaults to the number of days since the start of the subscription)</td>\n",
       "    </tr>\n",
       "  </tbody>\n",
       "</table>\n",
       "</div>"
      ],
      "text/plain": [
       "                                         Column_name  \\\n",
       "0                                    subscription_id   \n",
       "1                                     observation_dt   \n",
       "2                                        is_retained   \n",
       "3                                  specialization_id   \n",
       "4                      cnt_courses_in_specialization   \n",
       "5                              specialization_domain   \n",
       "6                        is_professional_certificate   \n",
       "7                             is_gateway_certificate   \n",
       "8                    learner_days_since_registration   \n",
       "9                              learner_country_group   \n",
       "10                                    learner_gender   \n",
       "11                  learner_cnt_other_courses_active   \n",
       "12             learner_cnt_other_courses_paid_active   \n",
       "13         learner_cnt_other_courses_items_completed   \n",
       "14    learner_cnt_other_courses_paid_items_completed   \n",
       "15               learner_cnt_other_transactions_past   \n",
       "16                             learner_other_revenue   \n",
       "17                         subscription_period_order   \n",
       "18                           days_since_last_payment   \n",
       "19                         days_til_next_payment_due   \n",
       "20     cnt_enrollments_started_before_payment_period   \n",
       "21   cnt_enrollments_completed_before_payment_period   \n",
       "22      cnt_enrollments_active_before_payment_period   \n",
       "23         cnt_items_completed_before_payment_period   \n",
       "24  cnt_graded_items_completed_before_payment_period   \n",
       "25           is_subscription_started_with_free_trial   \n",
       "26     cnt_enrollments_started_during_payment_period   \n",
       "27   cnt_enrollments_completed_during_payment_period   \n",
       "28      cnt_enrollments_active_during_payment_period   \n",
       "29         cnt_items_completed_during_payment_period   \n",
       "30  cnt_graded_items_completed_during_payment_period   \n",
       "31              is_active_capstone_during_pay_period   \n",
       "32          sum_hours_learning_before_payment_period   \n",
       "33          sum_hours_learning_during_payment_period   \n",
       "34             cnt_days_active_before_payment_period   \n",
       "35             cnt_days_active_during_payment_period   \n",
       "36                      cnt_days_since_last_activity   \n",
       "\n",
       "                                Column_type  Data_type  \\\n",
       "0                                Identifier  character   \n",
       "1                                Identifier       date   \n",
       "2                                    Target    Integer   \n",
       "3             Feature - Specialization Info  character   \n",
       "4             Feature - Specialization Info    integer   \n",
       "5             Feature - Specialization Info  character   \n",
       "6             Feature - Specialization Info    boolean   \n",
       "7             Feature - Specialization Info    boolean   \n",
       "8                    Feature - Learner Info    integer   \n",
       "9                    Feature - Learner Info  character   \n",
       "10                   Feature - Learner Info  character   \n",
       "11                   Feature - Learner Info    integer   \n",
       "12                   Feature - Learner Info    integer   \n",
       "13                   Feature - Learner Info    integer   \n",
       "14                   Feature - Learner Info    integer   \n",
       "15                   Feature - Learner Info    integer   \n",
       "16                   Feature - Learner Info    numeric   \n",
       "17            Feature - Subscription Status    integer   \n",
       "18            Feature - Subscription Status    integer   \n",
       "19            Feature - Subscription Status    integer   \n",
       "20    Feature - Prior Subscription Activity    integer   \n",
       "21    Feature - Prior Subscription Activity    integer   \n",
       "22    Feature - Prior Subscription Activity    integer   \n",
       "23    Feature - Prior Subscription Activity    integer   \n",
       "24    Feature - Prior Subscription Activity    integer   \n",
       "25    Feature - Prior Subscription Activity    boolean   \n",
       "26  Feature - Current Subscription Activity    integer   \n",
       "27  Feature - Current Subscription Activity    integer   \n",
       "28  Feature - Current Subscription Activity    integer   \n",
       "29  Feature - Current Subscription Activity    integer   \n",
       "30  Feature - Current Subscription Activity    integer   \n",
       "31  Feature - Current Subscription Activity    boolean   \n",
       "32  Feature - Current Subscription Activity    numeric   \n",
       "33  Feature - Current Subscription Activity    numeric   \n",
       "34  Feature - Current Subscription Activity    integer   \n",
       "35  Feature - Current Subscription Activity    integer   \n",
       "36  Feature - Current Subscription Activity    integer   \n",
       "\n",
       "                                                                                                                                                                                                                                                                 Description  \n",
       "0                                                                                                                                                                                                                                     Unique identifier of each subscription  \n",
       "1                                        The date on which the subscription was observed to calculate the features in the dataset. It was chosen at random amongst all the dates between the start of the subscription and the end of the subscription (before cancellation)  \n",
       "2                                                                                                                       TRAINING SET ONLY! 0 = the learner cancelled their subscription before next payment, 1 = the learner made an additional payment in this subscription  \n",
       "3                                                                                                                                                            Unique identifier of a specialization (each subscription gives a learner access to a particular specialization)  \n",
       "4                                                                                                                                                                                                                                    number of courses in the specialization  \n",
       "5                                                                                                                                                                                                primary domain of the specialization (Computer Science, Data Science, etc.)  \n",
       "6                                                                                                       BOOLEAN for whether the specialization is a \"professional certicate\" (a special type of specialization that awards completers with an industry-sponsored credential)  \n",
       "7                                                                                                                       BOOLEAN for whether the specialization is a \"gateway certificate\" (a special type of specialization geared towards learners starting in a new field)  \n",
       "8                                                                                                                                                                                          Days from coursera registration date to the date on which the observation is made  \n",
       "9                                                                                                                                                                                          the region of the world that the learner is from (United States, East Asia, etc.)  \n",
       "10                                                                                                                                                                                                     the reported gender of the learner (if not available, then \"unknown\")  \n",
       "11                                                                                                                                                                        Other courses (not in this specialization) in which the learner was active prior to observation_dt  \n",
       "12                                                                                                                                                Other courses (not in this specialization) in which the learner was active prior to observation_dt and was a paid enrollee  \n",
       "13                                                                                                                                                                                 Items completed in other courses (not in this specialization) prior to the observation_dt  \n",
       "14                                                                                                                                          Items completed in other courses (not in this specialization) prior to the observation_dt, where the learner was a paid enrollee  \n",
       "15                                                                                                                                                                                          Other payments that the learner made on Coursera separate from this subscription  \n",
       "16                                                                                                                                                                    US Dollar estimate of other payments that the learner made on Coursera separate from this subscription  \n",
       "17                                                                                                                                                                       An index of the \"month\" of the subcription; 1 = first month of payment, 2 = second month of payment  \n",
       "18                                                                                                                                                                                                                           Days since the last payment in the subscription  \n",
       "19                                                                                                                                                                                                                     Days until the next payment in the subsciption is due  \n",
       "20                                                                                                                                                              Courses in the subscription specialization that were enrolled prior to the start of this subscription period  \n",
       "21                                                                                                                                                             Courses in the subscription specialization that were completed prior to the start of this subscription period  \n",
       "22                                                                                                                                                                Courses in the subscription specialization that were active prior to the start of this subscription period  \n",
       "23                                                                                                                                                                Items in the subscription specialization that were completed prior to the start of the subscription period  \n",
       "24                                                                                                                                           Graded items (assignments) in the subscription speciallzation that were completed prior to the start of the subscription period  \n",
       "25                                                                                                                           BOOLEAN for whether or not the subscription started with a free trial (7-day period for the learner to sample the specialization before paying)  \n",
       "26                                                                                                                                                     Courses in the subscription specialization that were enrolled during this subscription period (before observation_dt)  \n",
       "27                                                                                                                                                    Courses in the subscription specialization that were completed during this subscription period (before observation_dt)  \n",
       "28                                                                                                                                                       Courses in the subscription specialization that were active during this subscription period (before observation_dt)  \n",
       "29                                                                                                                                                      Items in the subscription specialization that were completed during this subscription period (before observation_dt)  \n",
       "30                                                                                                                                 Graded items (assignments) in the subscription speciallzation that were completed during this subscription period (before observation_dt)  \n",
       "31  BOOLEAN for whether the learner was active in a capstone course during this subscription period. The last course in some specializations is called a \"captone\" course as allows the learner to apply the skills they have learned in the prior courses up to that point.  \n",
       "32                                                                                                                                                                              Hours spent learning in subscription specialization courses prior to the subscription period  \n",
       "33                                                                                                                                                        Hours spent learning in subscription specialization courses during the subscription period (before observation_dt)  \n",
       "34                                                                                                                                                                                           Days active in the subscription specialization prior to the subscription period  \n",
       "35                                                                                                                                                                                                   Days active thus far in the subscription period (before observation_dt)  \n",
       "36                                                                                                                        Days since the most recent activity date in the subscription (if never active, defaults to the number of days since the start of the subscription)  "
      ]
     },
     "execution_count": 1,
     "metadata": {},
     "output_type": "execute_result"
    }
   ],
   "source": [
    "import pandas as pd\n",
    "data_descriptions = pd.read_csv('data_descriptions.csv')\n",
    "pd.set_option('display.max_colwidth', None)\n",
    "data_descriptions"
   ]
  },
  {
   "cell_type": "markdown",
   "metadata": {
    "deletable": false,
    "editable": false,
    "nbgrader": {
     "cell_type": "markdown",
     "checksum": "290554e710ea4a14691f86a042dc3742",
     "grade": false,
     "grade_id": "cell-8df13316a3d127f2",
     "locked": true,
     "schema_version": 3,
     "solution": false,
     "task": false
    }
   },
   "source": [
    "## How to Submit your Predictions to Coursera"
   ]
  },
  {
   "cell_type": "markdown",
   "metadata": {
    "deletable": false,
    "editable": false,
    "nbgrader": {
     "cell_type": "markdown",
     "checksum": "e70ec115a8a40cc92e21868059a7e200",
     "grade": false,
     "grade_id": "cell-4bb6bad6792180bc",
     "locked": true,
     "schema_version": 3,
     "solution": false,
     "task": false
    }
   },
   "source": [
    "Submission Format:\n",
    "\n",
    "In this notebook you should follow the steps below to explore the data, train a model using the data in `train.csv`, and then score your model using the data in `test.csv`. Your final submission should be a dataframe (call it `prediction_df` with two columns and exactly 217,921 rows (plus a header row). The first column should be `subscription_id` so that we know which prediction belongs to which observation. The second column should be called `predicted_probability` and should be a numeric column representing the __likellihood that the subscription is retained__.\n",
    "\n",
    "Your submission will show an error if you have extra columns (beyond `subscription_id` and `predicted_probability`) or extra rows. The order of the rows does not matter.\n",
    "\n",
    "The naming convention of the dataframe and columns are critical for our autograding, so please make sure to use the exact naming conventions of `prediction_df` with column names `subscription_id` and `predicted_probability`!\n",
    "\n",
    "To determine your final score, we will compare your `predicted_probability` predictions to the source of truth labels for the observations in `test.csv` and calculate the [ROC AUC](https://scikit-learn.org/stable/modules/generated/sklearn.metrics.roc_auc_score.html). We choose this metric because we not only want to be able to predict which subscriptions will be retained, but also want a well-calibrated likelihood score that can be used to target interventions and support most accurately."
   ]
  },
  {
   "cell_type": "markdown",
   "metadata": {
    "deletable": false,
    "editable": false,
    "nbgrader": {
     "cell_type": "markdown",
     "checksum": "4db30c254b95fca31a7f099bc6658dd2",
     "grade": false,
     "grade_id": "cell-ac94aa11c2b5afc4",
     "locked": true,
     "schema_version": 3,
     "solution": false,
     "task": false
    }
   },
   "source": [
    "## Import Python Modules"
   ]
  },
  {
   "cell_type": "markdown",
   "metadata": {
    "deletable": false,
    "editable": false,
    "nbgrader": {
     "cell_type": "markdown",
     "checksum": "f8e6d1dfbb79e906d6c0e06487709bcb",
     "grade": false,
     "grade_id": "cell-6fdaf33f1dfb7a4e",
     "locked": true,
     "schema_version": 3,
     "solution": false,
     "task": false
    }
   },
   "source": [
    "First, import the primary modules that will be used in this project. Remember as this is an open-ended project please feel free to make use of any of your favorite libraries that you feel may be useful for this challenge. For example some of the following popular packages may be useful:\n",
    "\n",
    "- pandas\n",
    "- numpy\n",
    "- Scipy\n",
    "- Scikit-learn\n",
    "- keras\n",
    "- maplotlib\n",
    "- seaborn\n",
    "- etc, etc"
   ]
  },
  {
   "cell_type": "code",
   "execution_count": 1,
   "metadata": {},
   "outputs": [],
   "source": [
    "# Import required packages\n",
    "\n",
    "# Data packages\n",
    "import pandas as pd\n",
    "import numpy as np\n",
    "\n",
    "# Machine Learning / Classification packages\n",
    "from sklearn.metrics import roc_auc_score\n",
    "from sklearn.model_selection import train_test_split\n",
    "from sklearn.dummy import DummyClassifier\n",
    "\n",
    "# Visualization Packages\n",
    "from matplotlib import pyplot as plt\n",
    "import seaborn as sns\n",
    "%matplotlib inline"
   ]
  },
  {
   "cell_type": "code",
   "execution_count": 6,
   "metadata": {},
   "outputs": [],
   "source": [
    "# Import any other packages you may want to use\n",
    "from sklearn.model_selection import train_test_split\n",
    "from sklearn.model_selection import RandomizedSearchCV, GridSearchCV\n",
    "from sklearn.linear_model import LogisticRegression\n",
    "from sklearn.ensemble import RandomForestClassifier, GradientBoostingClassifier\n",
    "from sklearn.metrics import roc_auc_score, classification_report, plot_roc_curve, accuracy_score, make_scorer\n",
    "\n",
    "from sklearn.preprocessing import StandardScaler\n",
    "from sklearn.preprocessing import FunctionTransformer\n",
    "from sklearn.preprocessing import OneHotEncoder\n",
    "from sklearn.preprocessing import MinMaxScaler\n",
    "\n",
    "from sklearn.pipeline import Pipeline\n",
    "from sklearn import set_config"
   ]
  },
  {
   "cell_type": "code",
   "execution_count": 7,
   "metadata": {},
   "outputs": [],
   "source": [
    "from sklearn.base import TransformerMixin\n",
    "from sklearn.compose import ColumnTransformer\n",
    "from scipy import stats"
   ]
  },
  {
   "cell_type": "code",
   "execution_count": 8,
   "metadata": {},
   "outputs": [],
   "source": [
    "import tensorflow as tf"
   ]
  },
  {
   "cell_type": "code",
   "execution_count": 50,
   "metadata": {},
   "outputs": [],
   "source": [
    "set_config(display='diagram')"
   ]
  },
  {
   "cell_type": "markdown",
   "metadata": {
    "deletable": false,
    "editable": false,
    "nbgrader": {
     "cell_type": "markdown",
     "checksum": "fd404259257020eec5cf238d6b7e0716",
     "grade": false,
     "grade_id": "cell-681adc5ef9141365",
     "locked": true,
     "schema_version": 3,
     "solution": false,
     "task": false
    }
   },
   "source": [
    "## Load the Data"
   ]
  },
  {
   "cell_type": "markdown",
   "metadata": {
    "deletable": false,
    "editable": false,
    "nbgrader": {
     "cell_type": "markdown",
     "checksum": "3662946a47dc4b9228926d2c41c2507e",
     "grade": false,
     "grade_id": "cell-f51d64738256f064",
     "locked": true,
     "schema_version": 3,
     "solution": false,
     "task": false
    }
   },
   "source": [
    "Let's start by loading the dataset `train.csv` into a dataframe `train_df`, and `test.csv` into a dataframe `test_df` and display the shape of the dataframes."
   ]
  },
  {
   "cell_type": "code",
   "execution_count": 10,
   "metadata": {},
   "outputs": [
    {
     "name": "stderr",
     "output_type": "stream",
     "text": [
      "/tmp/ipykernel_118303/3935830336.py:1: DtypeWarning: Columns (6,7,25,31) have mixed types. Specify dtype option on import or set low_memory=False.\n",
      "  train_df = pd.read_csv(\"train.csv\")\n"
     ]
    },
    {
     "data": {
      "text/plain": [
       "(413955, 37)"
      ]
     },
     "execution_count": 10,
     "metadata": {},
     "output_type": "execute_result"
    }
   ],
   "source": [
    "train_df = pd.read_csv(\"train.csv\")\n",
    "train_df.shape"
   ]
  },
  {
   "cell_type": "code",
   "execution_count": 11,
   "metadata": {},
   "outputs": [
    {
     "data": {
      "text/plain": [
       "(217921, 36)"
      ]
     },
     "execution_count": 11,
     "metadata": {},
     "output_type": "execute_result"
    }
   ],
   "source": [
    "test_df = pd.read_csv(\"test.csv\")\n",
    "test_df.shape"
   ]
  },
  {
   "cell_type": "markdown",
   "metadata": {
    "deletable": false,
    "editable": false,
    "nbgrader": {
     "cell_type": "markdown",
     "checksum": "4baa0e0ae0b43e3e1ba1aafd6502f541",
     "grade": false,
     "grade_id": "cell-845f8ee4c50e9ae1",
     "locked": true,
     "schema_version": 3,
     "solution": false,
     "task": false
    }
   },
   "source": [
    "## Explore, Clean, Validate, and Visualize the Data (optional)\n",
    "\n",
    "Feel free to explore, clean, validate, and visualize the data however you see fit for this competition to help determine or optimize your predictive model. Please note - the final autograding will only be on the accuracy of the `prediction_df` predictions."
   ]
  },
  {
   "cell_type": "code",
   "execution_count": 12,
   "metadata": {},
   "outputs": [
    {
     "data": {
      "text/html": [
       "<div>\n",
       "<style scoped>\n",
       "    .dataframe tbody tr th:only-of-type {\n",
       "        vertical-align: middle;\n",
       "    }\n",
       "\n",
       "    .dataframe tbody tr th {\n",
       "        vertical-align: top;\n",
       "    }\n",
       "\n",
       "    .dataframe thead th {\n",
       "        text-align: right;\n",
       "    }\n",
       "</style>\n",
       "<table border=\"1\" class=\"dataframe\">\n",
       "  <thead>\n",
       "    <tr style=\"text-align: right;\">\n",
       "      <th></th>\n",
       "      <th>subscription_id</th>\n",
       "      <th>observation_dt</th>\n",
       "      <th>is_retained</th>\n",
       "      <th>specialization_id</th>\n",
       "      <th>cnt_courses_in_specialization</th>\n",
       "      <th>specialization_domain</th>\n",
       "      <th>is_professional_certificate</th>\n",
       "      <th>is_gateway_certificate</th>\n",
       "      <th>learner_days_since_registration</th>\n",
       "      <th>learner_country_group</th>\n",
       "      <th>...</th>\n",
       "      <th>cnt_enrollments_completed_during_payment_period</th>\n",
       "      <th>cnt_enrollments_active_during_payment_period</th>\n",
       "      <th>cnt_items_completed_during_payment_period</th>\n",
       "      <th>cnt_graded_items_completed_during_payment_period</th>\n",
       "      <th>is_active_capstone_during_pay_period</th>\n",
       "      <th>sum_hours_learning_before_payment_period</th>\n",
       "      <th>sum_hours_learning_during_payment_period</th>\n",
       "      <th>cnt_days_active_before_payment_period</th>\n",
       "      <th>cnt_days_active_during_payment_period</th>\n",
       "      <th>cnt_days_since_last_activity</th>\n",
       "    </tr>\n",
       "  </thead>\n",
       "  <tbody>\n",
       "    <tr>\n",
       "      <th>0</th>\n",
       "      <td>--rKikbGEeyQHQqIvaM5IQ</td>\n",
       "      <td>2022-05-04</td>\n",
       "      <td>1.0</td>\n",
       "      <td>kr43OcbTEeqeNBKhfgCLyw</td>\n",
       "      <td>8.0</td>\n",
       "      <td>Data Science</td>\n",
       "      <td>True</td>\n",
       "      <td>True</td>\n",
       "      <td>2321.0</td>\n",
       "      <td>Northern Europe</td>\n",
       "      <td>...</td>\n",
       "      <td>0.0</td>\n",
       "      <td>0.0</td>\n",
       "      <td>0.0</td>\n",
       "      <td>0.0</td>\n",
       "      <td>False</td>\n",
       "      <td>73.783333</td>\n",
       "      <td>0.000000</td>\n",
       "      <td>68.0</td>\n",
       "      <td>0.0</td>\n",
       "      <td>20.0</td>\n",
       "    </tr>\n",
       "    <tr>\n",
       "      <th>1</th>\n",
       "      <td>-0XGzEq2EeyimBISGRuNeQ</td>\n",
       "      <td>2021-11-30</td>\n",
       "      <td>0.0</td>\n",
       "      <td>Q0Fc_Yl0EeqdTApgQ4tM7Q</td>\n",
       "      <td>6.0</td>\n",
       "      <td>Data Science</td>\n",
       "      <td>True</td>\n",
       "      <td>False</td>\n",
       "      <td>612.0</td>\n",
       "      <td>Northern Europe</td>\n",
       "      <td>...</td>\n",
       "      <td>0.0</td>\n",
       "      <td>0.0</td>\n",
       "      <td>0.0</td>\n",
       "      <td>0.0</td>\n",
       "      <td>False</td>\n",
       "      <td>0.850000</td>\n",
       "      <td>0.000000</td>\n",
       "      <td>7.0</td>\n",
       "      <td>2.0</td>\n",
       "      <td>0.0</td>\n",
       "    </tr>\n",
       "    <tr>\n",
       "      <th>2</th>\n",
       "      <td>-1P9kOb6EeuRugq1Liq62w</td>\n",
       "      <td>2021-08-13</td>\n",
       "      <td>0.0</td>\n",
       "      <td>9kmimrDIEeqxzQqieMm42w</td>\n",
       "      <td>6.0</td>\n",
       "      <td>Business</td>\n",
       "      <td>True</td>\n",
       "      <td>True</td>\n",
       "      <td>27.0</td>\n",
       "      <td>Australia and New Zealand</td>\n",
       "      <td>...</td>\n",
       "      <td>0.0</td>\n",
       "      <td>1.0</td>\n",
       "      <td>12.0</td>\n",
       "      <td>2.0</td>\n",
       "      <td>False</td>\n",
       "      <td>1.833333</td>\n",
       "      <td>2.983333</td>\n",
       "      <td>2.0</td>\n",
       "      <td>1.0</td>\n",
       "      <td>18.0</td>\n",
       "    </tr>\n",
       "    <tr>\n",
       "      <th>3</th>\n",
       "      <td>-2ifTJZbEeuIuRKpAhovaw</td>\n",
       "      <td>2021-08-03</td>\n",
       "      <td>1.0</td>\n",
       "      <td>7lHCSlFIEeeffRIHljDI_g</td>\n",
       "      <td>5.0</td>\n",
       "      <td>Information Technology</td>\n",
       "      <td>True</td>\n",
       "      <td>True</td>\n",
       "      <td>120.0</td>\n",
       "      <td>United States</td>\n",
       "      <td>...</td>\n",
       "      <td>0.0</td>\n",
       "      <td>2.0</td>\n",
       "      <td>83.0</td>\n",
       "      <td>9.0</td>\n",
       "      <td>False</td>\n",
       "      <td>18.450000</td>\n",
       "      <td>7.100000</td>\n",
       "      <td>18.0</td>\n",
       "      <td>4.0</td>\n",
       "      <td>3.0</td>\n",
       "    </tr>\n",
       "    <tr>\n",
       "      <th>4</th>\n",
       "      <td>-5YKZbchEeufeAq6C_fAOw</td>\n",
       "      <td>2021-06-04</td>\n",
       "      <td>0.0</td>\n",
       "      <td>kr43OcbTEeqeNBKhfgCLyw</td>\n",
       "      <td>8.0</td>\n",
       "      <td>Data Science</td>\n",
       "      <td>True</td>\n",
       "      <td>True</td>\n",
       "      <td>1228.0</td>\n",
       "      <td>India</td>\n",
       "      <td>...</td>\n",
       "      <td>1.0</td>\n",
       "      <td>1.0</td>\n",
       "      <td>61.0</td>\n",
       "      <td>4.0</td>\n",
       "      <td>False</td>\n",
       "      <td>29.566667</td>\n",
       "      <td>15.250000</td>\n",
       "      <td>18.0</td>\n",
       "      <td>8.0</td>\n",
       "      <td>1.0</td>\n",
       "    </tr>\n",
       "  </tbody>\n",
       "</table>\n",
       "<p>5 rows × 37 columns</p>\n",
       "</div>"
      ],
      "text/plain": [
       "          subscription_id observation_dt  is_retained       specialization_id  \\\n",
       "0  --rKikbGEeyQHQqIvaM5IQ     2022-05-04          1.0  kr43OcbTEeqeNBKhfgCLyw   \n",
       "1  -0XGzEq2EeyimBISGRuNeQ     2021-11-30          0.0  Q0Fc_Yl0EeqdTApgQ4tM7Q   \n",
       "2  -1P9kOb6EeuRugq1Liq62w     2021-08-13          0.0  9kmimrDIEeqxzQqieMm42w   \n",
       "3  -2ifTJZbEeuIuRKpAhovaw     2021-08-03          1.0  7lHCSlFIEeeffRIHljDI_g   \n",
       "4  -5YKZbchEeufeAq6C_fAOw     2021-06-04          0.0  kr43OcbTEeqeNBKhfgCLyw   \n",
       "\n",
       "   cnt_courses_in_specialization   specialization_domain  \\\n",
       "0                            8.0            Data Science   \n",
       "1                            6.0            Data Science   \n",
       "2                            6.0                Business   \n",
       "3                            5.0  Information Technology   \n",
       "4                            8.0            Data Science   \n",
       "\n",
       "  is_professional_certificate is_gateway_certificate  \\\n",
       "0                        True                   True   \n",
       "1                        True                  False   \n",
       "2                        True                   True   \n",
       "3                        True                   True   \n",
       "4                        True                   True   \n",
       "\n",
       "   learner_days_since_registration      learner_country_group  ...  \\\n",
       "0                           2321.0            Northern Europe  ...   \n",
       "1                            612.0            Northern Europe  ...   \n",
       "2                             27.0  Australia and New Zealand  ...   \n",
       "3                            120.0              United States  ...   \n",
       "4                           1228.0                      India  ...   \n",
       "\n",
       "  cnt_enrollments_completed_during_payment_period  \\\n",
       "0                                             0.0   \n",
       "1                                             0.0   \n",
       "2                                             0.0   \n",
       "3                                             0.0   \n",
       "4                                             1.0   \n",
       "\n",
       "   cnt_enrollments_active_during_payment_period  \\\n",
       "0                                           0.0   \n",
       "1                                           0.0   \n",
       "2                                           1.0   \n",
       "3                                           2.0   \n",
       "4                                           1.0   \n",
       "\n",
       "   cnt_items_completed_during_payment_period  \\\n",
       "0                                        0.0   \n",
       "1                                        0.0   \n",
       "2                                       12.0   \n",
       "3                                       83.0   \n",
       "4                                       61.0   \n",
       "\n",
       "   cnt_graded_items_completed_during_payment_period  \\\n",
       "0                                               0.0   \n",
       "1                                               0.0   \n",
       "2                                               2.0   \n",
       "3                                               9.0   \n",
       "4                                               4.0   \n",
       "\n",
       "   is_active_capstone_during_pay_period  \\\n",
       "0                                 False   \n",
       "1                                 False   \n",
       "2                                 False   \n",
       "3                                 False   \n",
       "4                                 False   \n",
       "\n",
       "   sum_hours_learning_before_payment_period  \\\n",
       "0                                 73.783333   \n",
       "1                                  0.850000   \n",
       "2                                  1.833333   \n",
       "3                                 18.450000   \n",
       "4                                 29.566667   \n",
       "\n",
       "   sum_hours_learning_during_payment_period  \\\n",
       "0                                  0.000000   \n",
       "1                                  0.000000   \n",
       "2                                  2.983333   \n",
       "3                                  7.100000   \n",
       "4                                 15.250000   \n",
       "\n",
       "   cnt_days_active_before_payment_period  \\\n",
       "0                                   68.0   \n",
       "1                                    7.0   \n",
       "2                                    2.0   \n",
       "3                                   18.0   \n",
       "4                                   18.0   \n",
       "\n",
       "   cnt_days_active_during_payment_period  cnt_days_since_last_activity  \n",
       "0                                    0.0                          20.0  \n",
       "1                                    2.0                           0.0  \n",
       "2                                    1.0                          18.0  \n",
       "3                                    4.0                           3.0  \n",
       "4                                    8.0                           1.0  \n",
       "\n",
       "[5 rows x 37 columns]"
      ]
     },
     "execution_count": 12,
     "metadata": {},
     "output_type": "execute_result"
    }
   ],
   "source": [
    "# your code here (optional)\n",
    "train_df.head()"
   ]
  },
  {
   "cell_type": "code",
   "execution_count": 13,
   "metadata": {},
   "outputs": [
    {
     "name": "stdout",
     "output_type": "stream",
     "text": [
      "<class 'pandas.core.frame.DataFrame'>\n",
      "RangeIndex: 413955 entries, 0 to 413954\n",
      "Data columns (total 37 columns):\n",
      " #   Column                                            Non-Null Count   Dtype  \n",
      "---  ------                                            --------------   -----  \n",
      " 0   subscription_id                                   413955 non-null  object \n",
      " 1   observation_dt                                    413955 non-null  object \n",
      " 2   is_retained                                       413954 non-null  float64\n",
      " 3   specialization_id                                 413954 non-null  object \n",
      " 4   cnt_courses_in_specialization                     413954 non-null  float64\n",
      " 5   specialization_domain                             413953 non-null  object \n",
      " 6   is_professional_certificate                       413954 non-null  object \n",
      " 7   is_gateway_certificate                            413954 non-null  object \n",
      " 8   learner_days_since_registration                   413954 non-null  float64\n",
      " 9   learner_country_group                             413954 non-null  object \n",
      " 10  learner_gender                                    413954 non-null  object \n",
      " 11  learner_cnt_other_courses_active                  413954 non-null  float64\n",
      " 12  learner_cnt_other_courses_paid_active             413954 non-null  float64\n",
      " 13  learner_cnt_other_courses_items_completed         413954 non-null  float64\n",
      " 14  learner_cnt_other_courses_paid_items_completed    413954 non-null  float64\n",
      " 15  learner_cnt_other_transactions_past               413954 non-null  float64\n",
      " 16  learner_other_revenue                             413954 non-null  float64\n",
      " 17  subscription_period_order                         413954 non-null  float64\n",
      " 18  days_since_last_payment                           413954 non-null  float64\n",
      " 19  days_til_next_payment_due                         413954 non-null  float64\n",
      " 20  cnt_enrollments_started_before_payment_period     413954 non-null  float64\n",
      " 21  cnt_enrollments_completed_before_payment_period   413954 non-null  float64\n",
      " 22  cnt_enrollments_active_before_payment_period      413954 non-null  float64\n",
      " 23  cnt_items_completed_before_payment_period         413954 non-null  float64\n",
      " 24  cnt_graded_items_completed_before_payment_period  413954 non-null  float64\n",
      " 25  is_subscription_started_with_free_trial           413954 non-null  object \n",
      " 26  cnt_enrollments_started_during_payment_period     413954 non-null  float64\n",
      " 27  cnt_enrollments_completed_during_payment_period   413954 non-null  float64\n",
      " 28  cnt_enrollments_active_during_payment_period      413954 non-null  float64\n",
      " 29  cnt_items_completed_during_payment_period         413954 non-null  float64\n",
      " 30  cnt_graded_items_completed_during_payment_period  413954 non-null  float64\n",
      " 31  is_active_capstone_during_pay_period              413954 non-null  object \n",
      " 32  sum_hours_learning_before_payment_period          413954 non-null  float64\n",
      " 33  sum_hours_learning_during_payment_period          413954 non-null  float64\n",
      " 34  cnt_days_active_before_payment_period             413954 non-null  float64\n",
      " 35  cnt_days_active_during_payment_period             413954 non-null  float64\n",
      " 36  cnt_days_since_last_activity                      413954 non-null  float64\n",
      "dtypes: float64(27), object(10)\n",
      "memory usage: 116.9+ MB\n"
     ]
    }
   ],
   "source": [
    "train_df.info()"
   ]
  },
  {
   "cell_type": "code",
   "execution_count": 14,
   "metadata": {},
   "outputs": [
    {
     "data": {
      "text/plain": [
       "cnt_courses_in_specialization                       1\n",
       "cnt_days_active_before_payment_period               1\n",
       "cnt_days_active_during_payment_period               1\n",
       "cnt_days_since_last_activity                        1\n",
       "cnt_enrollments_active_before_payment_period        1\n",
       "cnt_enrollments_active_during_payment_period        1\n",
       "cnt_enrollments_completed_before_payment_period     1\n",
       "cnt_enrollments_completed_during_payment_period     1\n",
       "cnt_enrollments_started_before_payment_period       1\n",
       "cnt_enrollments_started_during_payment_period       1\n",
       "cnt_graded_items_completed_before_payment_period    1\n",
       "cnt_graded_items_completed_during_payment_period    1\n",
       "cnt_items_completed_before_payment_period           1\n",
       "cnt_items_completed_during_payment_period           1\n",
       "days_since_last_payment                             1\n",
       "days_til_next_payment_due                           1\n",
       "is_active_capstone_during_pay_period                1\n",
       "is_gateway_certificate                              1\n",
       "is_professional_certificate                         1\n",
       "is_retained                                         1\n",
       "is_subscription_started_with_free_trial             1\n",
       "learner_cnt_other_courses_active                    1\n",
       "learner_cnt_other_courses_items_completed           1\n",
       "learner_cnt_other_courses_paid_active               1\n",
       "learner_cnt_other_courses_paid_items_completed      1\n",
       "learner_cnt_other_transactions_past                 1\n",
       "learner_country_group                               1\n",
       "learner_days_since_registration                     1\n",
       "learner_gender                                      1\n",
       "learner_other_revenue                               1\n",
       "observation_dt                                      0\n",
       "specialization_domain                               2\n",
       "specialization_id                                   1\n",
       "subscription_id                                     0\n",
       "subscription_period_order                           1\n",
       "sum_hours_learning_before_payment_period            1\n",
       "sum_hours_learning_during_payment_period            1\n",
       "dtype: int64"
      ]
     },
     "execution_count": 14,
     "metadata": {},
     "output_type": "execute_result"
    }
   ],
   "source": [
    "train_df.isna().sum().sort_index()"
   ]
  },
  {
   "cell_type": "code",
   "execution_count": 15,
   "metadata": {},
   "outputs": [],
   "source": [
    "## since the NaN values in the train set is very samll compared to the entire data.\n",
    "## I will choose to drop them.\n",
    "train_df.dropna(inplace=True)\n",
    "\n",
    "## check that the data has no NaN values\n",
    "assert train_df.isna().sum().sum() == 0"
   ]
  },
  {
   "cell_type": "code",
   "execution_count": 16,
   "metadata": {},
   "outputs": [],
   "source": [
    "assert test_df.isna().sum().sum() == 0"
   ]
  },
  {
   "cell_type": "code",
   "execution_count": 17,
   "metadata": {},
   "outputs": [
    {
     "data": {
      "text/plain": [
       "Index(['subscription_id', 'observation_dt', 'specialization_id',\n",
       "       'specialization_domain', 'is_professional_certificate',\n",
       "       'is_gateway_certificate', 'learner_country_group', 'learner_gender',\n",
       "       'is_subscription_started_with_free_trial',\n",
       "       'is_active_capstone_during_pay_period'],\n",
       "      dtype='object')"
      ]
     },
     "execution_count": 17,
     "metadata": {},
     "output_type": "execute_result"
    }
   ],
   "source": [
    "## get the columns that has object data type\n",
    "object_type_columns = train_df.select_dtypes(\"object\").columns\n",
    "object_type_columns"
   ]
  },
  {
   "cell_type": "code",
   "execution_count": 18,
   "metadata": {},
   "outputs": [
    {
     "data": {
      "text/html": [
       "<div>\n",
       "<style scoped>\n",
       "    .dataframe tbody tr th:only-of-type {\n",
       "        vertical-align: middle;\n",
       "    }\n",
       "\n",
       "    .dataframe tbody tr th {\n",
       "        vertical-align: top;\n",
       "    }\n",
       "\n",
       "    .dataframe thead th {\n",
       "        text-align: right;\n",
       "    }\n",
       "</style>\n",
       "<table border=\"1\" class=\"dataframe\">\n",
       "  <thead>\n",
       "    <tr style=\"text-align: right;\">\n",
       "      <th></th>\n",
       "      <th>subscription_id</th>\n",
       "      <th>observation_dt</th>\n",
       "      <th>specialization_id</th>\n",
       "      <th>specialization_domain</th>\n",
       "      <th>is_professional_certificate</th>\n",
       "      <th>is_gateway_certificate</th>\n",
       "      <th>learner_country_group</th>\n",
       "      <th>learner_gender</th>\n",
       "      <th>is_subscription_started_with_free_trial</th>\n",
       "      <th>is_active_capstone_during_pay_period</th>\n",
       "    </tr>\n",
       "  </thead>\n",
       "  <tbody>\n",
       "    <tr>\n",
       "      <th>309514</th>\n",
       "      <td>O0XeGWFOEeuouwqtljuFNw</td>\n",
       "      <td>2021-03-25</td>\n",
       "      <td>9FcEl2x7EeeiKQ48uoMEhg</td>\n",
       "      <td>Health</td>\n",
       "      <td>False</td>\n",
       "      <td>False</td>\n",
       "      <td>Eastern Europe</td>\n",
       "      <td>male</td>\n",
       "      <td>True</td>\n",
       "      <td>False</td>\n",
       "    </tr>\n",
       "  </tbody>\n",
       "</table>\n",
       "</div>"
      ],
      "text/plain": [
       "               subscription_id observation_dt       specialization_id  \\\n",
       "309514  O0XeGWFOEeuouwqtljuFNw     2021-03-25  9FcEl2x7EeeiKQ48uoMEhg   \n",
       "\n",
       "       specialization_domain is_professional_certificate  \\\n",
       "309514                Health                       False   \n",
       "\n",
       "       is_gateway_certificate learner_country_group learner_gender  \\\n",
       "309514                  False        Eastern Europe           male   \n",
       "\n",
       "       is_subscription_started_with_free_trial  \\\n",
       "309514                                    True   \n",
       "\n",
       "       is_active_capstone_during_pay_period  \n",
       "309514                                False  "
      ]
     },
     "execution_count": 18,
     "metadata": {},
     "output_type": "execute_result"
    }
   ],
   "source": [
    "train_df[object_type_columns].sample()"
   ]
  },
  {
   "cell_type": "code",
   "execution_count": 19,
   "metadata": {},
   "outputs": [],
   "source": [
    "## There is something wrong with the types in in these columns\n",
    "## the columns ..._id : has the right data type\n",
    "## the columns is_... : has wrong data type should be <boolean>\n",
    "## the observation_dt : should have a datetime column type\n",
    "\n",
    "## convert is_... columns to boolean datatype\n",
    "boolean_type_columns = list(filter(lambda x: x.startswith(\"is_\"), object_type_columns))\n",
    "train_df[boolean_type_columns] = train_df[boolean_type_columns].astype(np.bool_)\n",
    "\n",
    "## convert the observation_dt column to datetime\n",
    "train_df[\"observation_dt\"] = pd.to_datetime(train_df[\"observation_dt\"])"
   ]
  },
  {
   "cell_type": "code",
   "execution_count": 20,
   "metadata": {},
   "outputs": [],
   "source": [
    "## apply the same above cleaning to the test dataset\n",
    "test_df[boolean_type_columns] = test_df[boolean_type_columns].astype(np.bool_)\n",
    "\n",
    "test_df[\"observation_dt\"] = pd.to_datetime(test_df[\"observation_dt\"])"
   ]
  },
  {
   "cell_type": "code",
   "execution_count": 21,
   "metadata": {},
   "outputs": [],
   "source": [
    "## Now for the other columns (country_group, gender) these columns\n",
    "## will convert to numeric columns using OneHotEncoding (sklearn)\n",
    "## TODO: convert (specialization_id, learner_country_group, learner_gender) -> OneHotEncoding"
   ]
  },
  {
   "cell_type": "code",
   "execution_count": 22,
   "metadata": {},
   "outputs": [
    {
     "data": {
      "text/html": [
       "<div>\n",
       "<style scoped>\n",
       "    .dataframe tbody tr th:only-of-type {\n",
       "        vertical-align: middle;\n",
       "    }\n",
       "\n",
       "    .dataframe tbody tr th {\n",
       "        vertical-align: top;\n",
       "    }\n",
       "\n",
       "    .dataframe thead th {\n",
       "        text-align: right;\n",
       "    }\n",
       "</style>\n",
       "<table border=\"1\" class=\"dataframe\">\n",
       "  <thead>\n",
       "    <tr style=\"text-align: right;\">\n",
       "      <th></th>\n",
       "      <th>subscription_id</th>\n",
       "      <th>observation_dt</th>\n",
       "      <th>is_retained</th>\n",
       "      <th>specialization_id</th>\n",
       "      <th>cnt_courses_in_specialization</th>\n",
       "      <th>specialization_domain</th>\n",
       "      <th>is_professional_certificate</th>\n",
       "      <th>is_gateway_certificate</th>\n",
       "      <th>learner_days_since_registration</th>\n",
       "      <th>learner_country_group</th>\n",
       "      <th>...</th>\n",
       "      <th>cnt_enrollments_completed_during_payment_period</th>\n",
       "      <th>cnt_enrollments_active_during_payment_period</th>\n",
       "      <th>cnt_items_completed_during_payment_period</th>\n",
       "      <th>cnt_graded_items_completed_during_payment_period</th>\n",
       "      <th>is_active_capstone_during_pay_period</th>\n",
       "      <th>sum_hours_learning_before_payment_period</th>\n",
       "      <th>sum_hours_learning_during_payment_period</th>\n",
       "      <th>cnt_days_active_before_payment_period</th>\n",
       "      <th>cnt_days_active_during_payment_period</th>\n",
       "      <th>cnt_days_since_last_activity</th>\n",
       "    </tr>\n",
       "  </thead>\n",
       "  <tbody>\n",
       "    <tr>\n",
       "      <th>282558</th>\n",
       "      <td>Sn-oyShpEey-kQqCHXpg7w</td>\n",
       "      <td>2021-10-30</td>\n",
       "      <td>1.0</td>\n",
       "      <td>dwzq23ZLEei12goo904QNg</td>\n",
       "      <td>10.0</td>\n",
       "      <td>Data Science</td>\n",
       "      <td>True</td>\n",
       "      <td>True</td>\n",
       "      <td>1805.0</td>\n",
       "      <td>Eastern Europe</td>\n",
       "      <td>...</td>\n",
       "      <td>0.0</td>\n",
       "      <td>0.0</td>\n",
       "      <td>0.0</td>\n",
       "      <td>0.0</td>\n",
       "      <td>False</td>\n",
       "      <td>3.600000</td>\n",
       "      <td>0.0</td>\n",
       "      <td>5.0</td>\n",
       "      <td>0.0</td>\n",
       "      <td>16.0</td>\n",
       "    </tr>\n",
       "    <tr>\n",
       "      <th>350323</th>\n",
       "      <td>yUi-0QUWEeyakQqH-Zt6pQ</td>\n",
       "      <td>2022-03-19</td>\n",
       "      <td>1.0</td>\n",
       "      <td>kr43OcbTEeqeNBKhfgCLyw</td>\n",
       "      <td>8.0</td>\n",
       "      <td>Data Science</td>\n",
       "      <td>True</td>\n",
       "      <td>True</td>\n",
       "      <td>207.0</td>\n",
       "      <td>United States</td>\n",
       "      <td>...</td>\n",
       "      <td>0.0</td>\n",
       "      <td>0.0</td>\n",
       "      <td>0.0</td>\n",
       "      <td>0.0</td>\n",
       "      <td>False</td>\n",
       "      <td>5.533333</td>\n",
       "      <td>0.0</td>\n",
       "      <td>4.0</td>\n",
       "      <td>0.0</td>\n",
       "      <td>185.0</td>\n",
       "    </tr>\n",
       "  </tbody>\n",
       "</table>\n",
       "<p>2 rows × 37 columns</p>\n",
       "</div>"
      ],
      "text/plain": [
       "               subscription_id observation_dt  is_retained  \\\n",
       "282558  Sn-oyShpEey-kQqCHXpg7w     2021-10-30          1.0   \n",
       "350323  yUi-0QUWEeyakQqH-Zt6pQ     2022-03-19          1.0   \n",
       "\n",
       "             specialization_id  cnt_courses_in_specialization  \\\n",
       "282558  dwzq23ZLEei12goo904QNg                           10.0   \n",
       "350323  kr43OcbTEeqeNBKhfgCLyw                            8.0   \n",
       "\n",
       "       specialization_domain  is_professional_certificate  \\\n",
       "282558          Data Science                         True   \n",
       "350323          Data Science                         True   \n",
       "\n",
       "        is_gateway_certificate  learner_days_since_registration  \\\n",
       "282558                    True                           1805.0   \n",
       "350323                    True                            207.0   \n",
       "\n",
       "       learner_country_group  ...  \\\n",
       "282558        Eastern Europe  ...   \n",
       "350323         United States  ...   \n",
       "\n",
       "       cnt_enrollments_completed_during_payment_period  \\\n",
       "282558                                             0.0   \n",
       "350323                                             0.0   \n",
       "\n",
       "        cnt_enrollments_active_during_payment_period  \\\n",
       "282558                                           0.0   \n",
       "350323                                           0.0   \n",
       "\n",
       "        cnt_items_completed_during_payment_period  \\\n",
       "282558                                        0.0   \n",
       "350323                                        0.0   \n",
       "\n",
       "        cnt_graded_items_completed_during_payment_period  \\\n",
       "282558                                               0.0   \n",
       "350323                                               0.0   \n",
       "\n",
       "        is_active_capstone_during_pay_period  \\\n",
       "282558                                 False   \n",
       "350323                                 False   \n",
       "\n",
       "        sum_hours_learning_before_payment_period  \\\n",
       "282558                                  3.600000   \n",
       "350323                                  5.533333   \n",
       "\n",
       "        sum_hours_learning_during_payment_period  \\\n",
       "282558                                       0.0   \n",
       "350323                                       0.0   \n",
       "\n",
       "        cnt_days_active_before_payment_period  \\\n",
       "282558                                    5.0   \n",
       "350323                                    4.0   \n",
       "\n",
       "        cnt_days_active_during_payment_period  cnt_days_since_last_activity  \n",
       "282558                                    0.0                          16.0  \n",
       "350323                                    0.0                         185.0  \n",
       "\n",
       "[2 rows x 37 columns]"
      ]
     },
     "execution_count": 22,
     "metadata": {},
     "output_type": "execute_result"
    }
   ],
   "source": [
    "train_df.sample(2)"
   ]
  },
  {
   "cell_type": "code",
   "execution_count": 23,
   "metadata": {},
   "outputs": [],
   "source": [
    "## EDA\n",
    "## Now due to the data is contain many columns (aka variables) performing EDA will be quite annoying\n",
    "## So, I will divied the work in this process into categories depending on the columns group as.\n",
    "## we can see all the columns have a prefix donating it group like (learner -> all info about the learner),\n",
    "## is_ (all the boolean values).\n",
    "\n",
    "## So, I will start with each group alone and this try to combine thing at the end."
   ]
  },
  {
   "cell_type": "code",
   "execution_count": 24,
   "metadata": {},
   "outputs": [
    {
     "data": {
      "text/plain": [
       "['learner_days_since_registration',\n",
       " 'learner_country_group',\n",
       " 'learner_gender',\n",
       " 'learner_cnt_other_courses_active',\n",
       " 'learner_cnt_other_courses_paid_active',\n",
       " 'learner_cnt_other_courses_items_completed',\n",
       " 'learner_cnt_other_courses_paid_items_completed',\n",
       " 'learner_cnt_other_transactions_past',\n",
       " 'learner_other_revenue']"
      ]
     },
     "execution_count": 24,
     "metadata": {},
     "output_type": "execute_result"
    }
   ],
   "source": [
    "learner_columns = list(filter(lambda x: x.startswith(\"learner_\"), train_df.columns))\n",
    "learner_columns"
   ]
  },
  {
   "cell_type": "code",
   "execution_count": 25,
   "metadata": {},
   "outputs": [
    {
     "data": {
      "text/html": [
       "<div>\n",
       "<style scoped>\n",
       "    .dataframe tbody tr th:only-of-type {\n",
       "        vertical-align: middle;\n",
       "    }\n",
       "\n",
       "    .dataframe tbody tr th {\n",
       "        vertical-align: top;\n",
       "    }\n",
       "\n",
       "    .dataframe thead th {\n",
       "        text-align: right;\n",
       "    }\n",
       "</style>\n",
       "<table border=\"1\" class=\"dataframe\">\n",
       "  <thead>\n",
       "    <tr style=\"text-align: right;\">\n",
       "      <th></th>\n",
       "      <th>count</th>\n",
       "      <th>mean</th>\n",
       "      <th>std</th>\n",
       "      <th>min</th>\n",
       "      <th>25%</th>\n",
       "      <th>50%</th>\n",
       "      <th>75%</th>\n",
       "      <th>max</th>\n",
       "    </tr>\n",
       "  </thead>\n",
       "  <tbody>\n",
       "    <tr>\n",
       "      <th>learner_days_since_registration</th>\n",
       "      <td>413953.0</td>\n",
       "      <td>745.107128</td>\n",
       "      <td>950.801071</td>\n",
       "      <td>0.0</td>\n",
       "      <td>71.0</td>\n",
       "      <td>279.0</td>\n",
       "      <td>1109.0</td>\n",
       "      <td>3857.00</td>\n",
       "    </tr>\n",
       "    <tr>\n",
       "      <th>learner_cnt_other_courses_active</th>\n",
       "      <td>413953.0</td>\n",
       "      <td>5.421739</td>\n",
       "      <td>13.819050</td>\n",
       "      <td>0.0</td>\n",
       "      <td>0.0</td>\n",
       "      <td>1.0</td>\n",
       "      <td>4.0</td>\n",
       "      <td>604.00</td>\n",
       "    </tr>\n",
       "    <tr>\n",
       "      <th>learner_cnt_other_courses_paid_active</th>\n",
       "      <td>413953.0</td>\n",
       "      <td>1.281520</td>\n",
       "      <td>3.743266</td>\n",
       "      <td>0.0</td>\n",
       "      <td>0.0</td>\n",
       "      <td>0.0</td>\n",
       "      <td>1.0</td>\n",
       "      <td>215.00</td>\n",
       "    </tr>\n",
       "    <tr>\n",
       "      <th>learner_cnt_other_courses_items_completed</th>\n",
       "      <td>413953.0</td>\n",
       "      <td>114.289243</td>\n",
       "      <td>303.469990</td>\n",
       "      <td>0.0</td>\n",
       "      <td>0.0</td>\n",
       "      <td>4.0</td>\n",
       "      <td>90.0</td>\n",
       "      <td>19439.00</td>\n",
       "    </tr>\n",
       "    <tr>\n",
       "      <th>learner_cnt_other_courses_paid_items_completed</th>\n",
       "      <td>413953.0</td>\n",
       "      <td>62.943660</td>\n",
       "      <td>194.270090</td>\n",
       "      <td>0.0</td>\n",
       "      <td>0.0</td>\n",
       "      <td>0.0</td>\n",
       "      <td>13.0</td>\n",
       "      <td>6912.00</td>\n",
       "    </tr>\n",
       "    <tr>\n",
       "      <th>learner_cnt_other_transactions_past</th>\n",
       "      <td>413953.0</td>\n",
       "      <td>1.966615</td>\n",
       "      <td>6.517248</td>\n",
       "      <td>0.0</td>\n",
       "      <td>0.0</td>\n",
       "      <td>0.0</td>\n",
       "      <td>1.0</td>\n",
       "      <td>474.00</td>\n",
       "    </tr>\n",
       "    <tr>\n",
       "      <th>learner_other_revenue</th>\n",
       "      <td>413953.0</td>\n",
       "      <td>101.281377</td>\n",
       "      <td>353.680276</td>\n",
       "      <td>0.0</td>\n",
       "      <td>0.0</td>\n",
       "      <td>0.0</td>\n",
       "      <td>49.0</td>\n",
       "      <td>24069.92</td>\n",
       "    </tr>\n",
       "  </tbody>\n",
       "</table>\n",
       "</div>"
      ],
      "text/plain": [
       "                                                   count        mean  \\\n",
       "learner_days_since_registration                 413953.0  745.107128   \n",
       "learner_cnt_other_courses_active                413953.0    5.421739   \n",
       "learner_cnt_other_courses_paid_active           413953.0    1.281520   \n",
       "learner_cnt_other_courses_items_completed       413953.0  114.289243   \n",
       "learner_cnt_other_courses_paid_items_completed  413953.0   62.943660   \n",
       "learner_cnt_other_transactions_past             413953.0    1.966615   \n",
       "learner_other_revenue                           413953.0  101.281377   \n",
       "\n",
       "                                                       std  min   25%    50%  \\\n",
       "learner_days_since_registration                 950.801071  0.0  71.0  279.0   \n",
       "learner_cnt_other_courses_active                 13.819050  0.0   0.0    1.0   \n",
       "learner_cnt_other_courses_paid_active             3.743266  0.0   0.0    0.0   \n",
       "learner_cnt_other_courses_items_completed       303.469990  0.0   0.0    4.0   \n",
       "learner_cnt_other_courses_paid_items_completed  194.270090  0.0   0.0    0.0   \n",
       "learner_cnt_other_transactions_past               6.517248  0.0   0.0    0.0   \n",
       "learner_other_revenue                           353.680276  0.0   0.0    0.0   \n",
       "\n",
       "                                                   75%       max  \n",
       "learner_days_since_registration                 1109.0   3857.00  \n",
       "learner_cnt_other_courses_active                   4.0    604.00  \n",
       "learner_cnt_other_courses_paid_active              1.0    215.00  \n",
       "learner_cnt_other_courses_items_completed         90.0  19439.00  \n",
       "learner_cnt_other_courses_paid_items_completed    13.0   6912.00  \n",
       "learner_cnt_other_transactions_past                1.0    474.00  \n",
       "learner_other_revenue                             49.0  24069.92  "
      ]
     },
     "execution_count": 25,
     "metadata": {},
     "output_type": "execute_result"
    }
   ],
   "source": [
    "train_df[learner_columns].describe().transpose()"
   ]
  },
  {
   "cell_type": "code",
   "execution_count": 26,
   "metadata": {},
   "outputs": [
    {
     "data": {
      "text/plain": [
       "male       0.438820\n",
       "unknown    0.288943\n",
       "female     0.269560\n",
       "other      0.002677\n",
       "Name: learner_gender, dtype: float64"
      ]
     },
     "execution_count": 26,
     "metadata": {},
     "output_type": "execute_result"
    }
   ],
   "source": [
    "## How many gender values?\n",
    "train_df[\"learner_gender\"].value_counts(normalize=True)\n",
    "\n",
    "## We can see that the male gender is quit dominated in the data \n",
    "## (this migh cause some bias later)"
   ]
  },
  {
   "cell_type": "code",
   "execution_count": 27,
   "metadata": {},
   "outputs": [
    {
     "name": "stdout",
     "output_type": "stream",
     "text": [
      "Skew: 1.4040\n"
     ]
    },
    {
     "data": {
      "image/png": "[encoded data removed]",
      "text/plain": [
       "<Figure size 504x288 with 1 Axes>"
      ]
     },
     "metadata": {
      "needs_background": "light"
     },
     "output_type": "display_data"
    }
   ],
   "source": [
    "## Dist. of the days scince registeration\n",
    "train_df[\"learner_days_since_registration\"].hist(bins=30, figsize=(7, 4))\n",
    "plt.xlabel(\"Days Since Reg.\");\n",
    "plt.title(\"Dist. of the Learner Days Since Reg.\");\n",
    "\n",
    "## We can clearly see how the data is sklewed (very skew) to the right?\n",
    "print(\"Skew: {:.4f}\".format(train_df[\"learner_days_since_registration\"].skew()))\n",
    "\n",
    "## We will transform this data have a normal dist using\n",
    "## log, or boxcox depending on the results, as a sklearn FunctionTransformer"
   ]
  },
  {
   "cell_type": "code",
   "execution_count": 28,
   "metadata": {},
   "outputs": [
    {
     "name": "stdout",
     "output_type": "stream",
     "text": [
      "learner_cnt_other_courses_active                   7.572863\n",
      "learner_cnt_other_courses_paid_active              9.354677\n",
      "learner_cnt_other_courses_items_completed          8.390215\n",
      "learner_cnt_other_courses_paid_items_completed     6.462447\n",
      "learner_cnt_other_transactions_past               12.035487\n",
      "dtype: float64\n"
     ]
    },
    {
     "data": {
      "image/png": "[encoded data removed]",
      "text/plain": [
       "<Figure size 720x576 with 6 Axes>"
      ]
     },
     "metadata": {
      "needs_background": "light"
     },
     "output_type": "display_data"
    }
   ],
   "source": [
    "axes = (\n",
    "    train_df[\n",
    "        ['learner_cnt_other_courses_active',\n",
    "         'learner_cnt_other_courses_paid_active',\n",
    "         'learner_cnt_other_courses_items_completed',\n",
    "         'learner_cnt_other_courses_paid_items_completed',\n",
    "         'learner_cnt_other_transactions_past']\n",
    "    ].hist(figsize=(10, 8), bins=50)\n",
    ")\n",
    "for row in axes:\n",
    "    for ax in row:\n",
    "        ax.set_yscale(\"log\");\n",
    "\n",
    "## As we can see thses columns are extreamly skewed to the right\n",
    "## even after a log scale. it still very skews\n",
    "\n",
    "print(train_df[\n",
    "        ['learner_cnt_other_courses_active',\n",
    "         'learner_cnt_other_courses_paid_active',\n",
    "         'learner_cnt_other_courses_items_completed',\n",
    "         'learner_cnt_other_courses_paid_items_completed',\n",
    "         'learner_cnt_other_transactions_past']].skew()\n",
    ")"
   ]
  },
  {
   "cell_type": "code",
   "execution_count": 29,
   "metadata": {},
   "outputs": [
    {
     "data": {
      "image/png": "[encoded data removed]",
      "text/plain": [
       "<Figure size 432x288 with 1 Axes>"
      ]
     },
     "metadata": {
      "needs_background": "light"
     },
     "output_type": "display_data"
    }
   ],
   "source": [
    "train_df[\"learner_other_revenue\"].hist(bins=50)\n",
    "plt.title(\"Other Revenue\")\n",
    "plt.yscale(\"log\");"
   ]
  },
  {
   "cell_type": "code",
   "execution_count": 30,
   "metadata": {},
   "outputs": [
    {
     "data": {
      "text/plain": [
       "['cnt_courses_in_specialization',\n",
       " 'cnt_enrollments_started_before_payment_period',\n",
       " 'cnt_enrollments_completed_before_payment_period',\n",
       " 'cnt_enrollments_active_before_payment_period',\n",
       " 'cnt_items_completed_before_payment_period',\n",
       " 'cnt_graded_items_completed_before_payment_period',\n",
       " 'cnt_enrollments_started_during_payment_period',\n",
       " 'cnt_enrollments_completed_during_payment_period',\n",
       " 'cnt_enrollments_active_during_payment_period',\n",
       " 'cnt_items_completed_during_payment_period',\n",
       " 'cnt_graded_items_completed_during_payment_period',\n",
       " 'cnt_days_active_before_payment_period',\n",
       " 'cnt_days_active_during_payment_period',\n",
       " 'cnt_days_since_last_activity']"
      ]
     },
     "execution_count": 30,
     "metadata": {},
     "output_type": "execute_result"
    }
   ],
   "source": [
    "## Moving foreward with other group which is cnt_ group\n",
    "cnt_columns = list(filter(lambda x: x.startswith(\"cnt_\"), train_df.columns))\n",
    "cnt_columns"
   ]
  },
  {
   "cell_type": "code",
   "execution_count": 31,
   "metadata": {},
   "outputs": [
    {
     "data": {
      "text/html": [
       "<div>\n",
       "<style scoped>\n",
       "    .dataframe tbody tr th:only-of-type {\n",
       "        vertical-align: middle;\n",
       "    }\n",
       "\n",
       "    .dataframe tbody tr th {\n",
       "        vertical-align: top;\n",
       "    }\n",
       "\n",
       "    .dataframe thead th {\n",
       "        text-align: right;\n",
       "    }\n",
       "</style>\n",
       "<table border=\"1\" class=\"dataframe\">\n",
       "  <thead>\n",
       "    <tr style=\"text-align: right;\">\n",
       "      <th></th>\n",
       "      <th>cnt_courses_in_specialization</th>\n",
       "      <th>cnt_enrollments_started_before_payment_period</th>\n",
       "      <th>cnt_enrollments_completed_before_payment_period</th>\n",
       "      <th>cnt_enrollments_active_before_payment_period</th>\n",
       "      <th>cnt_items_completed_before_payment_period</th>\n",
       "      <th>cnt_graded_items_completed_before_payment_period</th>\n",
       "      <th>cnt_enrollments_started_during_payment_period</th>\n",
       "      <th>cnt_enrollments_completed_during_payment_period</th>\n",
       "      <th>cnt_enrollments_active_during_payment_period</th>\n",
       "      <th>cnt_items_completed_during_payment_period</th>\n",
       "      <th>cnt_graded_items_completed_during_payment_period</th>\n",
       "      <th>cnt_days_active_before_payment_period</th>\n",
       "      <th>cnt_days_active_during_payment_period</th>\n",
       "      <th>cnt_days_since_last_activity</th>\n",
       "    </tr>\n",
       "  </thead>\n",
       "  <tbody>\n",
       "    <tr>\n",
       "      <th>345226</th>\n",
       "      <td>10.0</td>\n",
       "      <td>10.0</td>\n",
       "      <td>9.0</td>\n",
       "      <td>10.0</td>\n",
       "      <td>473.0</td>\n",
       "      <td>50.0</td>\n",
       "      <td>0.0</td>\n",
       "      <td>0.0</td>\n",
       "      <td>1.0</td>\n",
       "      <td>3.0</td>\n",
       "      <td>0.0</td>\n",
       "      <td>39.0</td>\n",
       "      <td>3.0</td>\n",
       "      <td>0.0</td>\n",
       "    </tr>\n",
       "    <tr>\n",
       "      <th>149573</th>\n",
       "      <td>6.0</td>\n",
       "      <td>2.0</td>\n",
       "      <td>1.0</td>\n",
       "      <td>2.0</td>\n",
       "      <td>35.0</td>\n",
       "      <td>9.0</td>\n",
       "      <td>0.0</td>\n",
       "      <td>0.0</td>\n",
       "      <td>0.0</td>\n",
       "      <td>0.0</td>\n",
       "      <td>0.0</td>\n",
       "      <td>13.0</td>\n",
       "      <td>0.0</td>\n",
       "      <td>79.0</td>\n",
       "    </tr>\n",
       "    <tr>\n",
       "      <th>241902</th>\n",
       "      <td>6.0</td>\n",
       "      <td>3.0</td>\n",
       "      <td>2.0</td>\n",
       "      <td>3.0</td>\n",
       "      <td>109.0</td>\n",
       "      <td>13.0</td>\n",
       "      <td>0.0</td>\n",
       "      <td>0.0</td>\n",
       "      <td>1.0</td>\n",
       "      <td>27.0</td>\n",
       "      <td>2.0</td>\n",
       "      <td>10.0</td>\n",
       "      <td>7.0</td>\n",
       "      <td>2.0</td>\n",
       "    </tr>\n",
       "  </tbody>\n",
       "</table>\n",
       "</div>"
      ],
      "text/plain": [
       "        cnt_courses_in_specialization  \\\n",
       "345226                           10.0   \n",
       "149573                            6.0   \n",
       "241902                            6.0   \n",
       "\n",
       "        cnt_enrollments_started_before_payment_period  \\\n",
       "345226                                           10.0   \n",
       "149573                                            2.0   \n",
       "241902                                            3.0   \n",
       "\n",
       "        cnt_enrollments_completed_before_payment_period  \\\n",
       "345226                                              9.0   \n",
       "149573                                              1.0   \n",
       "241902                                              2.0   \n",
       "\n",
       "        cnt_enrollments_active_before_payment_period  \\\n",
       "345226                                          10.0   \n",
       "149573                                           2.0   \n",
       "241902                                           3.0   \n",
       "\n",
       "        cnt_items_completed_before_payment_period  \\\n",
       "345226                                      473.0   \n",
       "149573                                       35.0   \n",
       "241902                                      109.0   \n",
       "\n",
       "        cnt_graded_items_completed_before_payment_period  \\\n",
       "345226                                              50.0   \n",
       "149573                                               9.0   \n",
       "241902                                              13.0   \n",
       "\n",
       "        cnt_enrollments_started_during_payment_period  \\\n",
       "345226                                            0.0   \n",
       "149573                                            0.0   \n",
       "241902                                            0.0   \n",
       "\n",
       "        cnt_enrollments_completed_during_payment_period  \\\n",
       "345226                                              0.0   \n",
       "149573                                              0.0   \n",
       "241902                                              0.0   \n",
       "\n",
       "        cnt_enrollments_active_during_payment_period  \\\n",
       "345226                                           1.0   \n",
       "149573                                           0.0   \n",
       "241902                                           1.0   \n",
       "\n",
       "        cnt_items_completed_during_payment_period  \\\n",
       "345226                                        3.0   \n",
       "149573                                        0.0   \n",
       "241902                                       27.0   \n",
       "\n",
       "        cnt_graded_items_completed_during_payment_period  \\\n",
       "345226                                               0.0   \n",
       "149573                                               0.0   \n",
       "241902                                               2.0   \n",
       "\n",
       "        cnt_days_active_before_payment_period  \\\n",
       "345226                                   39.0   \n",
       "149573                                   13.0   \n",
       "241902                                   10.0   \n",
       "\n",
       "        cnt_days_active_during_payment_period  cnt_days_since_last_activity  \n",
       "345226                                    3.0                           0.0  \n",
       "149573                                    0.0                          79.0  \n",
       "241902                                    7.0                           2.0  "
      ]
     },
     "execution_count": 31,
     "metadata": {},
     "output_type": "execute_result"
    }
   ],
   "source": [
    "train_df[cnt_columns].sample(3)"
   ]
  },
  {
   "cell_type": "code",
   "execution_count": 32,
   "metadata": {},
   "outputs": [
    {
     "data": {
      "text/html": [
       "<div>\n",
       "<style scoped>\n",
       "    .dataframe tbody tr th:only-of-type {\n",
       "        vertical-align: middle;\n",
       "    }\n",
       "\n",
       "    .dataframe tbody tr th {\n",
       "        vertical-align: top;\n",
       "    }\n",
       "\n",
       "    .dataframe thead th {\n",
       "        text-align: right;\n",
       "    }\n",
       "</style>\n",
       "<table border=\"1\" class=\"dataframe\">\n",
       "  <thead>\n",
       "    <tr style=\"text-align: right;\">\n",
       "      <th></th>\n",
       "      <th>mean</th>\n",
       "      <th>std</th>\n",
       "      <th>min</th>\n",
       "      <th>25%</th>\n",
       "      <th>50%</th>\n",
       "      <th>75%</th>\n",
       "      <th>max</th>\n",
       "    </tr>\n",
       "  </thead>\n",
       "  <tbody>\n",
       "    <tr>\n",
       "      <th>cnt_courses_in_specialization</th>\n",
       "      <td>5.926644</td>\n",
       "      <td>1.759556</td>\n",
       "      <td>3.0</td>\n",
       "      <td>5.0</td>\n",
       "      <td>6.0</td>\n",
       "      <td>7.0</td>\n",
       "      <td>13.0</td>\n",
       "    </tr>\n",
       "    <tr>\n",
       "      <th>cnt_enrollments_started_before_payment_period</th>\n",
       "      <td>1.874283</td>\n",
       "      <td>1.579343</td>\n",
       "      <td>0.0</td>\n",
       "      <td>1.0</td>\n",
       "      <td>1.0</td>\n",
       "      <td>2.0</td>\n",
       "      <td>13.0</td>\n",
       "    </tr>\n",
       "    <tr>\n",
       "      <th>cnt_enrollments_completed_before_payment_period</th>\n",
       "      <td>0.768295</td>\n",
       "      <td>1.401036</td>\n",
       "      <td>0.0</td>\n",
       "      <td>0.0</td>\n",
       "      <td>0.0</td>\n",
       "      <td>1.0</td>\n",
       "      <td>12.0</td>\n",
       "    </tr>\n",
       "    <tr>\n",
       "      <th>cnt_enrollments_active_before_payment_period</th>\n",
       "      <td>1.620220</td>\n",
       "      <td>1.548553</td>\n",
       "      <td>0.0</td>\n",
       "      <td>1.0</td>\n",
       "      <td>1.0</td>\n",
       "      <td>2.0</td>\n",
       "      <td>13.0</td>\n",
       "    </tr>\n",
       "    <tr>\n",
       "      <th>cnt_items_completed_before_payment_period</th>\n",
       "      <td>89.319193</td>\n",
       "      <td>131.895267</td>\n",
       "      <td>0.0</td>\n",
       "      <td>7.0</td>\n",
       "      <td>37.0</td>\n",
       "      <td>112.0</td>\n",
       "      <td>1111.0</td>\n",
       "    </tr>\n",
       "    <tr>\n",
       "      <th>cnt_graded_items_completed_before_payment_period</th>\n",
       "      <td>6.571811</td>\n",
       "      <td>10.675660</td>\n",
       "      <td>0.0</td>\n",
       "      <td>0.0</td>\n",
       "      <td>2.0</td>\n",
       "      <td>8.0</td>\n",
       "      <td>182.0</td>\n",
       "    </tr>\n",
       "    <tr>\n",
       "      <th>cnt_enrollments_started_during_payment_period</th>\n",
       "      <td>0.285387</td>\n",
       "      <td>0.720925</td>\n",
       "      <td>0.0</td>\n",
       "      <td>0.0</td>\n",
       "      <td>0.0</td>\n",
       "      <td>0.0</td>\n",
       "      <td>13.0</td>\n",
       "    </tr>\n",
       "    <tr>\n",
       "      <th>cnt_enrollments_completed_during_payment_period</th>\n",
       "      <td>0.235051</td>\n",
       "      <td>0.655435</td>\n",
       "      <td>0.0</td>\n",
       "      <td>0.0</td>\n",
       "      <td>0.0</td>\n",
       "      <td>0.0</td>\n",
       "      <td>10.0</td>\n",
       "    </tr>\n",
       "    <tr>\n",
       "      <th>cnt_enrollments_active_during_payment_period</th>\n",
       "      <td>0.681227</td>\n",
       "      <td>0.949701</td>\n",
       "      <td>0.0</td>\n",
       "      <td>0.0</td>\n",
       "      <td>0.0</td>\n",
       "      <td>1.0</td>\n",
       "      <td>11.0</td>\n",
       "    </tr>\n",
       "    <tr>\n",
       "      <th>cnt_items_completed_during_payment_period</th>\n",
       "      <td>21.015077</td>\n",
       "      <td>50.313255</td>\n",
       "      <td>0.0</td>\n",
       "      <td>0.0</td>\n",
       "      <td>0.0</td>\n",
       "      <td>20.0</td>\n",
       "      <td>1043.0</td>\n",
       "    </tr>\n",
       "    <tr>\n",
       "      <th>cnt_graded_items_completed_during_payment_period</th>\n",
       "      <td>1.743268</td>\n",
       "      <td>4.422368</td>\n",
       "      <td>0.0</td>\n",
       "      <td>0.0</td>\n",
       "      <td>0.0</td>\n",
       "      <td>2.0</td>\n",
       "      <td>149.0</td>\n",
       "    </tr>\n",
       "    <tr>\n",
       "      <th>cnt_days_active_before_payment_period</th>\n",
       "      <td>12.474890</td>\n",
       "      <td>18.937637</td>\n",
       "      <td>0.0</td>\n",
       "      <td>2.0</td>\n",
       "      <td>6.0</td>\n",
       "      <td>15.0</td>\n",
       "      <td>616.0</td>\n",
       "    </tr>\n",
       "    <tr>\n",
       "      <th>cnt_days_active_during_payment_period</th>\n",
       "      <td>2.585724</td>\n",
       "      <td>4.062458</td>\n",
       "      <td>0.0</td>\n",
       "      <td>0.0</td>\n",
       "      <td>1.0</td>\n",
       "      <td>4.0</td>\n",
       "      <td>31.0</td>\n",
       "    </tr>\n",
       "    <tr>\n",
       "      <th>cnt_days_since_last_activity</th>\n",
       "      <td>29.130725</td>\n",
       "      <td>52.340980</td>\n",
       "      <td>0.0</td>\n",
       "      <td>1.0</td>\n",
       "      <td>9.0</td>\n",
       "      <td>32.0</td>\n",
       "      <td>548.0</td>\n",
       "    </tr>\n",
       "  </tbody>\n",
       "</table>\n",
       "</div>"
      ],
      "text/plain": [
       "                                                       mean         std  min  \\\n",
       "cnt_courses_in_specialization                      5.926644    1.759556  3.0   \n",
       "cnt_enrollments_started_before_payment_period      1.874283    1.579343  0.0   \n",
       "cnt_enrollments_completed_before_payment_period    0.768295    1.401036  0.0   \n",
       "cnt_enrollments_active_before_payment_period       1.620220    1.548553  0.0   \n",
       "cnt_items_completed_before_payment_period         89.319193  131.895267  0.0   \n",
       "cnt_graded_items_completed_before_payment_period   6.571811   10.675660  0.0   \n",
       "cnt_enrollments_started_during_payment_period      0.285387    0.720925  0.0   \n",
       "cnt_enrollments_completed_during_payment_period    0.235051    0.655435  0.0   \n",
       "cnt_enrollments_active_during_payment_period       0.681227    0.949701  0.0   \n",
       "cnt_items_completed_during_payment_period         21.015077   50.313255  0.0   \n",
       "cnt_graded_items_completed_during_payment_period   1.743268    4.422368  0.0   \n",
       "cnt_days_active_before_payment_period             12.474890   18.937637  0.0   \n",
       "cnt_days_active_during_payment_period              2.585724    4.062458  0.0   \n",
       "cnt_days_since_last_activity                      29.130725   52.340980  0.0   \n",
       "\n",
       "                                                  25%   50%    75%     max  \n",
       "cnt_courses_in_specialization                     5.0   6.0    7.0    13.0  \n",
       "cnt_enrollments_started_before_payment_period     1.0   1.0    2.0    13.0  \n",
       "cnt_enrollments_completed_before_payment_period   0.0   0.0    1.0    12.0  \n",
       "cnt_enrollments_active_before_payment_period      1.0   1.0    2.0    13.0  \n",
       "cnt_items_completed_before_payment_period         7.0  37.0  112.0  1111.0  \n",
       "cnt_graded_items_completed_before_payment_period  0.0   2.0    8.0   182.0  \n",
       "cnt_enrollments_started_during_payment_period     0.0   0.0    0.0    13.0  \n",
       "cnt_enrollments_completed_during_payment_period   0.0   0.0    0.0    10.0  \n",
       "cnt_enrollments_active_during_payment_period      0.0   0.0    1.0    11.0  \n",
       "cnt_items_completed_during_payment_period         0.0   0.0   20.0  1043.0  \n",
       "cnt_graded_items_completed_during_payment_period  0.0   0.0    2.0   149.0  \n",
       "cnt_days_active_before_payment_period             2.0   6.0   15.0   616.0  \n",
       "cnt_days_active_during_payment_period             0.0   1.0    4.0    31.0  \n",
       "cnt_days_since_last_activity                      1.0   9.0   32.0   548.0  "
      ]
     },
     "execution_count": 32,
     "metadata": {},
     "output_type": "execute_result"
    }
   ],
   "source": [
    "train_df[cnt_columns].describe().transpose().drop(\"count\", axis=1)"
   ]
  },
  {
   "cell_type": "code",
   "execution_count": 33,
   "metadata": {},
   "outputs": [
    {
     "data": {
      "image/png": "[encoded data removed]",
      "text/plain": [
       "<Figure size 1008x720 with 16 Axes>"
      ]
     },
     "metadata": {
      "needs_background": "light"
     },
     "output_type": "display_data"
    }
   ],
   "source": [
    "axes = train_df[cnt_columns].hist(figsize=(14, 10), bins=50);\n",
    "\n",
    "for row in axes:\n",
    "    for ax in row:\n",
    "        ax.set_yscale(\"log\");\n",
    "        title = ax.get_title()\n",
    "        ax.set_title(\" \".join(title.split(\"_\")[1:4]))\n",
    "\n",
    "## As also seen here that data is very skewed and we will try.\n",
    "## to transform it using the method mentioned above"
   ]
  },
  {
   "cell_type": "code",
   "execution_count": 34,
   "metadata": {},
   "outputs": [
    {
     "data": {
      "text/plain": [
       "['specialization_id', 'specialization_domain']"
      ]
     },
     "execution_count": 34,
     "metadata": {},
     "output_type": "execute_result"
    }
   ],
   "source": [
    "## Moving foreward with the Specialization columns\n",
    "specialization_columns = list(filter(lambda x: x.startswith(\"specialization_\"), train_df.columns))\n",
    "specialization_columns"
   ]
  },
  {
   "cell_type": "code",
   "execution_count": 35,
   "metadata": {},
   "outputs": [
    {
     "data": {
      "image/png": "[encoded data removed]",
      "text/plain": [
       "<Figure size 432x288 with 1 Axes>"
      ]
     },
     "metadata": {
      "needs_background": "light"
     },
     "output_type": "display_data"
    }
   ],
   "source": [
    "(\n",
    "    train_df[\"specialization_domain\"]\n",
    "    .value_counts(normalize=True)\n",
    "    .sort_values(ascending=True)\n",
    ").plot.barh();\n",
    "\n",
    "## We can clearly see that the data science domain is quit dominand in the dataset."
   ]
  },
  {
   "cell_type": "code",
   "execution_count": 36,
   "metadata": {},
   "outputs": [
    {
     "data": {
      "text/plain": [
       "Text(0, 0.5, 'Proportion')"
      ]
     },
     "execution_count": 36,
     "metadata": {},
     "output_type": "execute_result"
    },
    {
     "data": {
      "image/png": "[encoded data removed]",
      "text/plain": [
       "<Figure size 576x288 with 1 Axes>"
      ]
     },
     "metadata": {
      "needs_background": "light"
     },
     "output_type": "display_data"
    }
   ],
   "source": [
    "## How Specialiation Domain is related to the Retain Outcome.\n",
    "(\n",
    "    train_df.groupby(\"specialization_domain\")[\"is_retained\"]\n",
    "    .value_counts(normalize=True)\n",
    "    .unstack()\n",
    "    .rename(columns={0.0: \"Retained\", 1: \"Not Retained\"})\n",
    "    .sort_values(\"Not Retained\", ascending=True)\n",
    "    \n",
    ").plot.bar(figsize=(8, 4));\n",
    "plt.xlabel(\"Specialization Domain\");\n",
    "plt.ylabel(\"Proportion\")\n",
    "\n",
    "## We can see the all the Domains have rouphly the same Retain Rate."
   ]
  },
  {
   "cell_type": "code",
   "execution_count": 37,
   "metadata": {},
   "outputs": [
    {
     "data": {
      "text/plain": [
       "<AxesSubplot:>"
      ]
     },
     "execution_count": 37,
     "metadata": {},
     "output_type": "execute_result"
    },
    {
     "data": {
      "image/png": "[encoded data removed]",
      "text/plain": [
       "<Figure size 576x360 with 1 Axes>"
      ]
     },
     "metadata": {
      "needs_background": "light"
     },
     "output_type": "display_data"
    }
   ],
   "source": [
    "train_df[\"learner_country_group\"].value_counts().plot.barh(figsize=(8, 5))"
   ]
  },
  {
   "cell_type": "code",
   "execution_count": 38,
   "metadata": {},
   "outputs": [
    {
     "data": {
      "text/plain": [
       "<AxesSubplot:>"
      ]
     },
     "execution_count": 38,
     "metadata": {},
     "output_type": "execute_result"
    },
    {
     "data": {
      "image/png": "[encoded data removed]",
      "text/plain": [
       "<Figure size 1008x864 with 2 Axes>"
      ]
     },
     "metadata": {
      "needs_background": "light"
     },
     "output_type": "display_data"
    }
   ],
   "source": [
    "## Not lets look at how each column is correlated with each other\n",
    "corr = train_df.corr()\n",
    "\n",
    "plt.figure(figsize=(14, 12))\n",
    "sns.heatmap(corr)"
   ]
  },
  {
   "cell_type": "code",
   "execution_count": 39,
   "metadata": {},
   "outputs": [],
   "source": [
    "## Now, enough performing EDA and let's start doing some ML work\n",
    "## Since, The Data is quit large to do work very fast I will chose just a sample with 10,000 entries to test with\n",
    "## splitted into train, and val as 80%, 20%.\n",
    "## this sample will be just for testing things out and performing things fast.\n",
    "## and at the end I will will perform the same operations on the entire dataset."
   ]
  },
  {
   "cell_type": "code",
   "execution_count": 40,
   "metadata": {},
   "outputs": [
    {
     "data": {
      "text/plain": [
       "(10000, 37)"
      ]
     },
     "execution_count": 40,
     "metadata": {},
     "output_type": "execute_result"
    }
   ],
   "source": [
    "SAMPLE_SIZE = 10_000\n",
    "RANDOM_STATE = 42\n",
    "\n",
    "sample_df = train_df.sample(SAMPLE_SIZE, random_state=RANDOM_STATE)\n",
    "sample_df.shape"
   ]
  },
  {
   "cell_type": "code",
   "execution_count": 41,
   "metadata": {},
   "outputs": [],
   "source": [
    "## What We Need to Do is this:\n",
    "#  - Transform object columns to OneHotVectors using OneHotEncoder\n",
    "#  - Transform The Highly Skewed Data using log, or boxcox\n",
    "#  - Standarize the Data using StandardScaler\n",
    "#  - Fit Every Thing into a Pipeline for faster Testing"
   ]
  },
  {
   "cell_type": "code",
   "execution_count": 42,
   "metadata": {},
   "outputs": [],
   "source": [
    "def log_transformer(X, small_value=1e-3, mult_value=1):\n",
    "    return np.log((X + small_value) * mult_value)\n",
    "\n",
    "def sqrt_transformer(X):\n",
    "    X = X + np.abs(np.min(X))\n",
    "    return np.sqrt(X)\n",
    "\n",
    "def boxcox_transformer(X):\n",
    "    X = X + np.abs(np.min(X))+1e-3\n",
    "    columns = X.columns\n",
    "    new_X = pd.DataFrame({col: stats.boxcox(X[col])[0] for col in columns})\n",
    "    return new_X\n"
   ]
  },
  {
   "cell_type": "code",
   "execution_count": 43,
   "metadata": {},
   "outputs": [],
   "source": [
    "to_onehot_columns = [\n",
    "    \"specialization_domain\",\n",
    "    \"learner_country_group\",\n",
    "    \"learner_gender\"\n",
    "]\n",
    "\n",
    "to_log_columns = [\n",
    "    'learner_cnt_other_courses_active',\n",
    "    'learner_cnt_other_courses_paid_active',\n",
    "    'learner_cnt_other_courses_items_completed',\n",
    "    'learner_cnt_other_courses_paid_items_completed',\n",
    "    'learner_cnt_other_transactions_past',\n",
    "    'subscription_period_order'\n",
    "]\n",
    "\n",
    "to_boxcox_columns = [\n",
    "    'cnt_courses_in_specialization',\n",
    "    'cnt_enrollments_started_before_payment_period',\n",
    "    'cnt_enrollments_completed_before_payment_period',\n",
    "    'cnt_enrollments_active_before_payment_period',\n",
    "    'cnt_items_completed_before_payment_period',\n",
    "    'cnt_graded_items_completed_before_payment_period',\n",
    "    'cnt_enrollments_started_during_payment_period',\n",
    "    'cnt_enrollments_completed_during_payment_period',\n",
    "    'cnt_enrollments_active_during_payment_period',\n",
    "    'cnt_items_completed_during_payment_period',\n",
    "    'cnt_graded_items_completed_during_payment_period',\n",
    "    'cnt_days_active_before_payment_period',\n",
    "    'cnt_days_active_during_payment_period',\n",
    "    'cnt_days_since_last_activity',\n",
    "    'sum_hours_learning_before_payment_period',\n",
    "    'sum_hours_learning_during_payment_period',\n",
    "]\n",
    "\n",
    "to_sqrt_columns = [\n",
    "    'days_since_last_payment',\n",
    "    'days_til_next_payment_due'\n",
    "]\n",
    "\n",
    "feature_columns = to_onehot_columns + to_log_columns + to_boxcox_columns + to_sqrt_columns + [\n",
    "    'is_professional_certificate',\n",
    "    'is_gateway_certificate',\n",
    "    'is_subscription_started_with_free_trial',\n",
    "    'is_active_capstone_during_pay_period'\n",
    "]\n",
    "\n",
    "target_column = 'is_retained'\n"
   ]
  },
  {
   "cell_type": "code",
   "execution_count": 51,
   "metadata": {},
   "outputs": [
    {
     "data": {
      "text/html": [
       "<style>#sk-680b0a21-ba43-44ea-9415-c30d9a42540c {color: black;background-color: white;}#sk-680b0a21-ba43-44ea-9415-c30d9a42540c pre{padding: 0;}#sk-680b0a21-ba43-44ea-9415-c30d9a42540c div.sk-toggleable {background-color: white;}#sk-680b0a21-ba43-44ea-9415-c30d9a42540c label.sk-toggleable__label {cursor: pointer;display: block;width: 100%;margin-bottom: 0;padding: 0.3em;box-sizing: border-box;text-align: center;}#sk-680b0a21-ba43-44ea-9415-c30d9a42540c label.sk-toggleable__label-arrow:before {content: \"▸\";float: left;margin-right: 0.25em;color: #696969;}#sk-680b0a21-ba43-44ea-9415-c30d9a42540c label.sk-toggleable__label-arrow:hover:before {color: black;}#sk-680b0a21-ba43-44ea-9415-c30d9a42540c div.sk-estimator:hover label.sk-toggleable__label-arrow:before {color: black;}#sk-680b0a21-ba43-44ea-9415-c30d9a42540c div.sk-toggleable__content {max-height: 0;max-width: 0;overflow: hidden;text-align: left;background-color: #f0f8ff;}#sk-680b0a21-ba43-44ea-9415-c30d9a42540c div.sk-toggleable__content pre {margin: 0.2em;color: black;border-radius: 0.25em;background-color: #f0f8ff;}#sk-680b0a21-ba43-44ea-9415-c30d9a42540c input.sk-toggleable__control:checked~div.sk-toggleable__content {max-height: 200px;max-width: 100%;overflow: auto;}#sk-680b0a21-ba43-44ea-9415-c30d9a42540c input.sk-toggleable__control:checked~label.sk-toggleable__label-arrow:before {content: \"▾\";}#sk-680b0a21-ba43-44ea-9415-c30d9a42540c div.sk-estimator input.sk-toggleable__control:checked~label.sk-toggleable__label {background-color: #d4ebff;}#sk-680b0a21-ba43-44ea-9415-c30d9a42540c div.sk-label input.sk-toggleable__control:checked~label.sk-toggleable__label {background-color: #d4ebff;}#sk-680b0a21-ba43-44ea-9415-c30d9a42540c input.sk-hidden--visually {border: 0;clip: rect(1px 1px 1px 1px);clip: rect(1px, 1px, 1px, 1px);height: 1px;margin: -1px;overflow: hidden;padding: 0;position: absolute;width: 1px;}#sk-680b0a21-ba43-44ea-9415-c30d9a42540c div.sk-estimator {font-family: monospace;background-color: #f0f8ff;border: 1px dotted black;border-radius: 0.25em;box-sizing: border-box;margin-bottom: 0.5em;}#sk-680b0a21-ba43-44ea-9415-c30d9a42540c div.sk-estimator:hover {background-color: #d4ebff;}#sk-680b0a21-ba43-44ea-9415-c30d9a42540c div.sk-parallel-item::after {content: \"\";width: 100%;border-bottom: 1px solid gray;flex-grow: 1;}#sk-680b0a21-ba43-44ea-9415-c30d9a42540c div.sk-label:hover label.sk-toggleable__label {background-color: #d4ebff;}#sk-680b0a21-ba43-44ea-9415-c30d9a42540c div.sk-serial::before {content: \"\";position: absolute;border-left: 1px solid gray;box-sizing: border-box;top: 2em;bottom: 0;left: 50%;}#sk-680b0a21-ba43-44ea-9415-c30d9a42540c div.sk-serial {display: flex;flex-direction: column;align-items: center;background-color: white;padding-right: 0.2em;padding-left: 0.2em;}#sk-680b0a21-ba43-44ea-9415-c30d9a42540c div.sk-item {z-index: 1;}#sk-680b0a21-ba43-44ea-9415-c30d9a42540c div.sk-parallel {display: flex;align-items: stretch;justify-content: center;background-color: white;}#sk-680b0a21-ba43-44ea-9415-c30d9a42540c div.sk-parallel::before {content: \"\";position: absolute;border-left: 1px solid gray;box-sizing: border-box;top: 2em;bottom: 0;left: 50%;}#sk-680b0a21-ba43-44ea-9415-c30d9a42540c div.sk-parallel-item {display: flex;flex-direction: column;position: relative;background-color: white;}#sk-680b0a21-ba43-44ea-9415-c30d9a42540c div.sk-parallel-item:first-child::after {align-self: flex-end;width: 50%;}#sk-680b0a21-ba43-44ea-9415-c30d9a42540c div.sk-parallel-item:last-child::after {align-self: flex-start;width: 50%;}#sk-680b0a21-ba43-44ea-9415-c30d9a42540c div.sk-parallel-item:only-child::after {width: 0;}#sk-680b0a21-ba43-44ea-9415-c30d9a42540c div.sk-dashed-wrapped {border: 1px dashed gray;margin: 0 0.4em 0.5em 0.4em;box-sizing: border-box;padding-bottom: 0.4em;background-color: white;position: relative;}#sk-680b0a21-ba43-44ea-9415-c30d9a42540c div.sk-label label {font-family: monospace;font-weight: bold;background-color: white;display: inline-block;line-height: 1.2em;}#sk-680b0a21-ba43-44ea-9415-c30d9a42540c div.sk-label-container {position: relative;z-index: 2;text-align: center;}#sk-680b0a21-ba43-44ea-9415-c30d9a42540c div.sk-container {/* jupyter's `normalize.less` sets `[hidden] { display: none; }` but bootstrap.min.css set `[hidden] { display: none !important; }` so we also need the `!important` here to be able to override the default hidden behavior on the sphinx rendered scikit-learn.org. See: https://github.com/scikit-learn/scikit-learn/issues/21755 */display: inline-block !important;position: relative;}#sk-680b0a21-ba43-44ea-9415-c30d9a42540c div.sk-text-repr-fallback {display: none;}</style><div id=\"sk-680b0a21-ba43-44ea-9415-c30d9a42540c\" class=\"sk-top-container\"><div class=\"sk-text-repr-fallback\"><pre>ColumnTransformer(transformers=[(&#x27;onehot_trf&#x27;, OneHotEncoder(),\n",
       "                                 [&#x27;specialization_domain&#x27;,\n",
       "                                  &#x27;learner_country_group&#x27;, &#x27;learner_gender&#x27;]),\n",
       "                                (&#x27;log_trf&#x27;,\n",
       "                                 FunctionTransformer(func=&lt;function log_transformer at 0x7f7ef42181f0&gt;),\n",
       "                                 [&#x27;learner_cnt_other_courses_active&#x27;,\n",
       "                                  &#x27;learner_cnt_other_courses_paid_active&#x27;,\n",
       "                                  &#x27;learner_cnt_other_courses_items_completed&#x27;,\n",
       "                                  &#x27;learner_cnt_other_co...\n",
       "                                  &#x27;cnt_graded_items_completed_during_payment_period&#x27;,\n",
       "                                  &#x27;cnt_days_active_before_payment_period&#x27;,\n",
       "                                  &#x27;cnt_days_active_during_payment_period&#x27;,\n",
       "                                  &#x27;cnt_days_since_last_activity&#x27;,\n",
       "                                  &#x27;sum_hours_learning_before_payment_period&#x27;,\n",
       "                                  &#x27;sum_hours_learning_during_payment_period&#x27;]),\n",
       "                                (&#x27;sqrt_trf&#x27;,\n",
       "                                 FunctionTransformer(func=&lt;function sqrt_transformer at 0x7f7ef4218040&gt;),\n",
       "                                 [&#x27;days_since_last_payment&#x27;,\n",
       "                                  &#x27;days_til_next_payment_due&#x27;])])</pre><b>Please rerun this cell to show the HTML repr or trust the notebook.</b></div><div class=\"sk-container\" hidden><div class=\"sk-item sk-dashed-wrapped\"><div class=\"sk-label-container\"><div class=\"sk-label sk-toggleable\"><input class=\"sk-toggleable__control sk-hidden--visually\" id=\"570a005f-9f62-416b-9f99-8dbf1de903b1\" type=\"checkbox\" ><label for=\"570a005f-9f62-416b-9f99-8dbf1de903b1\" class=\"sk-toggleable__label sk-toggleable__label-arrow\">ColumnTransformer</label><div class=\"sk-toggleable__content\"><pre>ColumnTransformer(transformers=[(&#x27;onehot_trf&#x27;, OneHotEncoder(),\n",
       "                                 [&#x27;specialization_domain&#x27;,\n",
       "                                  &#x27;learner_country_group&#x27;, &#x27;learner_gender&#x27;]),\n",
       "                                (&#x27;log_trf&#x27;,\n",
       "                                 FunctionTransformer(func=&lt;function log_transformer at 0x7f7ef42181f0&gt;),\n",
       "                                 [&#x27;learner_cnt_other_courses_active&#x27;,\n",
       "                                  &#x27;learner_cnt_other_courses_paid_active&#x27;,\n",
       "                                  &#x27;learner_cnt_other_courses_items_completed&#x27;,\n",
       "                                  &#x27;learner_cnt_other_co...\n",
       "                                  &#x27;cnt_graded_items_completed_during_payment_period&#x27;,\n",
       "                                  &#x27;cnt_days_active_before_payment_period&#x27;,\n",
       "                                  &#x27;cnt_days_active_during_payment_period&#x27;,\n",
       "                                  &#x27;cnt_days_since_last_activity&#x27;,\n",
       "                                  &#x27;sum_hours_learning_before_payment_period&#x27;,\n",
       "                                  &#x27;sum_hours_learning_during_payment_period&#x27;]),\n",
       "                                (&#x27;sqrt_trf&#x27;,\n",
       "                                 FunctionTransformer(func=&lt;function sqrt_transformer at 0x7f7ef4218040&gt;),\n",
       "                                 [&#x27;days_since_last_payment&#x27;,\n",
       "                                  &#x27;days_til_next_payment_due&#x27;])])</pre></div></div></div><div class=\"sk-parallel\"><div class=\"sk-parallel-item\"><div class=\"sk-item\"><div class=\"sk-label-container\"><div class=\"sk-label sk-toggleable\"><input class=\"sk-toggleable__control sk-hidden--visually\" id=\"d1fc8c2c-06b0-4da4-87ed-e461a426f027\" type=\"checkbox\" ><label for=\"d1fc8c2c-06b0-4da4-87ed-e461a426f027\" class=\"sk-toggleable__label sk-toggleable__label-arrow\">onehot_trf</label><div class=\"sk-toggleable__content\"><pre>[&#x27;specialization_domain&#x27;, &#x27;learner_country_group&#x27;, &#x27;learner_gender&#x27;]</pre></div></div></div><div class=\"sk-serial\"><div class=\"sk-item\"><div class=\"sk-estimator sk-toggleable\"><input class=\"sk-toggleable__control sk-hidden--visually\" id=\"49ec4d52-2d75-42a0-b145-ae5457e2398b\" type=\"checkbox\" ><label for=\"49ec4d52-2d75-42a0-b145-ae5457e2398b\" class=\"sk-toggleable__label sk-toggleable__label-arrow\">OneHotEncoder</label><div class=\"sk-toggleable__content\"><pre>OneHotEncoder()</pre></div></div></div></div></div></div><div class=\"sk-parallel-item\"><div class=\"sk-item\"><div class=\"sk-label-container\"><div class=\"sk-label sk-toggleable\"><input class=\"sk-toggleable__control sk-hidden--visually\" id=\"24d7566a-3b5c-4ce0-a5bb-0e0c253810ef\" type=\"checkbox\" ><label for=\"24d7566a-3b5c-4ce0-a5bb-0e0c253810ef\" class=\"sk-toggleable__label sk-toggleable__label-arrow\">log_trf</label><div class=\"sk-toggleable__content\"><pre>[&#x27;learner_cnt_other_courses_active&#x27;, &#x27;learner_cnt_other_courses_paid_active&#x27;, &#x27;learner_cnt_other_courses_items_completed&#x27;, &#x27;learner_cnt_other_courses_paid_items_completed&#x27;, &#x27;learner_cnt_other_transactions_past&#x27;, &#x27;subscription_period_order&#x27;]</pre></div></div></div><div class=\"sk-serial\"><div class=\"sk-item\"><div class=\"sk-estimator sk-toggleable\"><input class=\"sk-toggleable__control sk-hidden--visually\" id=\"6325e545-d880-4425-9d34-2e50f24ce834\" type=\"checkbox\" ><label for=\"6325e545-d880-4425-9d34-2e50f24ce834\" class=\"sk-toggleable__label sk-toggleable__label-arrow\">FunctionTransformer</label><div class=\"sk-toggleable__content\"><pre>FunctionTransformer(func=&lt;function log_transformer at 0x7f7ef42181f0&gt;)</pre></div></div></div></div></div></div><div class=\"sk-parallel-item\"><div class=\"sk-item\"><div class=\"sk-label-container\"><div class=\"sk-label sk-toggleable\"><input class=\"sk-toggleable__control sk-hidden--visually\" id=\"c467cd7f-1765-4118-bfae-d3958e5fdc62\" type=\"checkbox\" ><label for=\"c467cd7f-1765-4118-bfae-d3958e5fdc62\" class=\"sk-toggleable__label sk-toggleable__label-arrow\">boxcox_trf</label><div class=\"sk-toggleable__content\"><pre>[&#x27;cnt_courses_in_specialization&#x27;, &#x27;cnt_enrollments_started_before_payment_period&#x27;, &#x27;cnt_enrollments_completed_before_payment_period&#x27;, &#x27;cnt_enrollments_active_before_payment_period&#x27;, &#x27;cnt_items_completed_before_payment_period&#x27;, &#x27;cnt_graded_items_completed_before_payment_period&#x27;, &#x27;cnt_enrollments_started_during_payment_period&#x27;, &#x27;cnt_enrollments_completed_during_payment_period&#x27;, &#x27;cnt_enrollments_active_during_payment_period&#x27;, &#x27;cnt_items_completed_during_payment_period&#x27;, &#x27;cnt_graded_items_completed_during_payment_period&#x27;, &#x27;cnt_days_active_before_payment_period&#x27;, &#x27;cnt_days_active_during_payment_period&#x27;, &#x27;cnt_days_since_last_activity&#x27;, &#x27;sum_hours_learning_before_payment_period&#x27;, &#x27;sum_hours_learning_during_payment_period&#x27;]</pre></div></div></div><div class=\"sk-serial\"><div class=\"sk-item\"><div class=\"sk-estimator sk-toggleable\"><input class=\"sk-toggleable__control sk-hidden--visually\" id=\"416f3e34-9010-4b50-8ef9-bf2bc0098eb2\" type=\"checkbox\" ><label for=\"416f3e34-9010-4b50-8ef9-bf2bc0098eb2\" class=\"sk-toggleable__label sk-toggleable__label-arrow\">FunctionTransformer</label><div class=\"sk-toggleable__content\"><pre>FunctionTransformer(func=&lt;function boxcox_transformer at 0x7f7ef42dd820&gt;)</pre></div></div></div></div></div></div><div class=\"sk-parallel-item\"><div class=\"sk-item\"><div class=\"sk-label-container\"><div class=\"sk-label sk-toggleable\"><input class=\"sk-toggleable__control sk-hidden--visually\" id=\"3f0e6e0c-9bb6-442b-8a85-49bee4a3ed91\" type=\"checkbox\" ><label for=\"3f0e6e0c-9bb6-442b-8a85-49bee4a3ed91\" class=\"sk-toggleable__label sk-toggleable__label-arrow\">sqrt_trf</label><div class=\"sk-toggleable__content\"><pre>[&#x27;days_since_last_payment&#x27;, &#x27;days_til_next_payment_due&#x27;]</pre></div></div></div><div class=\"sk-serial\"><div class=\"sk-item\"><div class=\"sk-estimator sk-toggleable\"><input class=\"sk-toggleable__control sk-hidden--visually\" id=\"b3d91ee0-45d6-4c3d-9a9e-f1060bb66bfa\" type=\"checkbox\" ><label for=\"b3d91ee0-45d6-4c3d-9a9e-f1060bb66bfa\" class=\"sk-toggleable__label sk-toggleable__label-arrow\">FunctionTransformer</label><div class=\"sk-toggleable__content\"><pre>FunctionTransformer(func=&lt;function sqrt_transformer at 0x7f7ef4218040&gt;)</pre></div></div></div></div></div></div></div></div></div></div>"
      ],
      "text/plain": [
       "ColumnTransformer(transformers=[('onehot_trf', OneHotEncoder(),\n",
       "                                 ['specialization_domain',\n",
       "                                  'learner_country_group', 'learner_gender']),\n",
       "                                ('log_trf',\n",
       "                                 FunctionTransformer(func=<function log_transformer at 0x7f7ef42181f0>),\n",
       "                                 ['learner_cnt_other_courses_active',\n",
       "                                  'learner_cnt_other_courses_paid_active',\n",
       "                                  'learner_cnt_other_courses_items_completed',\n",
       "                                  'learner_cnt_other_co...\n",
       "                                  'cnt_graded_items_completed_during_payment_period',\n",
       "                                  'cnt_days_active_before_payment_period',\n",
       "                                  'cnt_days_active_during_payment_period',\n",
       "                                  'cnt_days_since_last_activity',\n",
       "                                  'sum_hours_learning_before_payment_period',\n",
       "                                  'sum_hours_learning_during_payment_period']),\n",
       "                                ('sqrt_trf',\n",
       "                                 FunctionTransformer(func=<function sqrt_transformer at 0x7f7ef4218040>),\n",
       "                                 ['days_since_last_payment',\n",
       "                                  'days_til_next_payment_due'])])"
      ]
     },
     "execution_count": 51,
     "metadata": {},
     "output_type": "execute_result"
    }
   ],
   "source": [
    "transformers = ColumnTransformer([\n",
    "    (\"onehot_trf\", OneHotEncoder(), to_onehot_columns),\n",
    "    (\"log_trf\", FunctionTransformer(log_transformer), to_log_columns),\n",
    "    (\"boxcox_trf\", FunctionTransformer(boxcox_transformer), to_boxcox_columns),\n",
    "    (\"sqrt_trf\", FunctionTransformer(sqrt_transformer), to_sqrt_columns)\n",
    "])\n",
    "\n",
    "transformers"
   ]
  },
  {
   "cell_type": "code",
   "execution_count": 46,
   "metadata": {},
   "outputs": [
    {
     "data": {
      "text/plain": [
       "((10000, 31), (10000,))"
      ]
     },
     "execution_count": 46,
     "metadata": {},
     "output_type": "execute_result"
    }
   ],
   "source": [
    "## Remeber we only using the sample_df here just for acc. things \n",
    "target = sample_df[target_column]\n",
    "features = sample_df[feature_columns]\n",
    "\n",
    "features.shape, target.shape"
   ]
  },
  {
   "cell_type": "code",
   "execution_count": 47,
   "metadata": {},
   "outputs": [
    {
     "data": {
      "text/plain": [
       "((8000, 31), (2000, 31))"
      ]
     },
     "execution_count": 47,
     "metadata": {},
     "output_type": "execute_result"
    }
   ],
   "source": [
    "## lets split the data into train, and valid data\n",
    "VALID_SIZE = 0.2\n",
    "RANDOM_STATE = 42\n",
    "\n",
    "x_train, x_valid, y_train, y_valid = train_test_split(features, target,\n",
    "                                                     test_size=VALID_SIZE, random_state=RANDOM_STATE)\n",
    "\n",
    "x_train.shape, x_valid.shape"
   ]
  },
  {
   "cell_type": "code",
   "execution_count": 52,
   "metadata": {},
   "outputs": [
    {
     "data": {
      "text/html": [
       "<style>#sk-2fefb51b-ca47-4a93-b010-4e30db1a17e0 {color: black;background-color: white;}#sk-2fefb51b-ca47-4a93-b010-4e30db1a17e0 pre{padding: 0;}#sk-2fefb51b-ca47-4a93-b010-4e30db1a17e0 div.sk-toggleable {background-color: white;}#sk-2fefb51b-ca47-4a93-b010-4e30db1a17e0 label.sk-toggleable__label {cursor: pointer;display: block;width: 100%;margin-bottom: 0;padding: 0.3em;box-sizing: border-box;text-align: center;}#sk-2fefb51b-ca47-4a93-b010-4e30db1a17e0 label.sk-toggleable__label-arrow:before {content: \"▸\";float: left;margin-right: 0.25em;color: #696969;}#sk-2fefb51b-ca47-4a93-b010-4e30db1a17e0 label.sk-toggleable__label-arrow:hover:before {color: black;}#sk-2fefb51b-ca47-4a93-b010-4e30db1a17e0 div.sk-estimator:hover label.sk-toggleable__label-arrow:before {color: black;}#sk-2fefb51b-ca47-4a93-b010-4e30db1a17e0 div.sk-toggleable__content {max-height: 0;max-width: 0;overflow: hidden;text-align: left;background-color: #f0f8ff;}#sk-2fefb51b-ca47-4a93-b010-4e30db1a17e0 div.sk-toggleable__content pre {margin: 0.2em;color: black;border-radius: 0.25em;background-color: #f0f8ff;}#sk-2fefb51b-ca47-4a93-b010-4e30db1a17e0 input.sk-toggleable__control:checked~div.sk-toggleable__content {max-height: 200px;max-width: 100%;overflow: auto;}#sk-2fefb51b-ca47-4a93-b010-4e30db1a17e0 input.sk-toggleable__control:checked~label.sk-toggleable__label-arrow:before {content: \"▾\";}#sk-2fefb51b-ca47-4a93-b010-4e30db1a17e0 div.sk-estimator input.sk-toggleable__control:checked~label.sk-toggleable__label {background-color: #d4ebff;}#sk-2fefb51b-ca47-4a93-b010-4e30db1a17e0 div.sk-label input.sk-toggleable__control:checked~label.sk-toggleable__label {background-color: #d4ebff;}#sk-2fefb51b-ca47-4a93-b010-4e30db1a17e0 input.sk-hidden--visually {border: 0;clip: rect(1px 1px 1px 1px);clip: rect(1px, 1px, 1px, 1px);height: 1px;margin: -1px;overflow: hidden;padding: 0;position: absolute;width: 1px;}#sk-2fefb51b-ca47-4a93-b010-4e30db1a17e0 div.sk-estimator {font-family: monospace;background-color: #f0f8ff;border: 1px dotted black;border-radius: 0.25em;box-sizing: border-box;margin-bottom: 0.5em;}#sk-2fefb51b-ca47-4a93-b010-4e30db1a17e0 div.sk-estimator:hover {background-color: #d4ebff;}#sk-2fefb51b-ca47-4a93-b010-4e30db1a17e0 div.sk-parallel-item::after {content: \"\";width: 100%;border-bottom: 1px solid gray;flex-grow: 1;}#sk-2fefb51b-ca47-4a93-b010-4e30db1a17e0 div.sk-label:hover label.sk-toggleable__label {background-color: #d4ebff;}#sk-2fefb51b-ca47-4a93-b010-4e30db1a17e0 div.sk-serial::before {content: \"\";position: absolute;border-left: 1px solid gray;box-sizing: border-box;top: 2em;bottom: 0;left: 50%;}#sk-2fefb51b-ca47-4a93-b010-4e30db1a17e0 div.sk-serial {display: flex;flex-direction: column;align-items: center;background-color: white;padding-right: 0.2em;padding-left: 0.2em;}#sk-2fefb51b-ca47-4a93-b010-4e30db1a17e0 div.sk-item {z-index: 1;}#sk-2fefb51b-ca47-4a93-b010-4e30db1a17e0 div.sk-parallel {display: flex;align-items: stretch;justify-content: center;background-color: white;}#sk-2fefb51b-ca47-4a93-b010-4e30db1a17e0 div.sk-parallel::before {content: \"\";position: absolute;border-left: 1px solid gray;box-sizing: border-box;top: 2em;bottom: 0;left: 50%;}#sk-2fefb51b-ca47-4a93-b010-4e30db1a17e0 div.sk-parallel-item {display: flex;flex-direction: column;position: relative;background-color: white;}#sk-2fefb51b-ca47-4a93-b010-4e30db1a17e0 div.sk-parallel-item:first-child::after {align-self: flex-end;width: 50%;}#sk-2fefb51b-ca47-4a93-b010-4e30db1a17e0 div.sk-parallel-item:last-child::after {align-self: flex-start;width: 50%;}#sk-2fefb51b-ca47-4a93-b010-4e30db1a17e0 div.sk-parallel-item:only-child::after {width: 0;}#sk-2fefb51b-ca47-4a93-b010-4e30db1a17e0 div.sk-dashed-wrapped {border: 1px dashed gray;margin: 0 0.4em 0.5em 0.4em;box-sizing: border-box;padding-bottom: 0.4em;background-color: white;position: relative;}#sk-2fefb51b-ca47-4a93-b010-4e30db1a17e0 div.sk-label label {font-family: monospace;font-weight: bold;background-color: white;display: inline-block;line-height: 1.2em;}#sk-2fefb51b-ca47-4a93-b010-4e30db1a17e0 div.sk-label-container {position: relative;z-index: 2;text-align: center;}#sk-2fefb51b-ca47-4a93-b010-4e30db1a17e0 div.sk-container {/* jupyter's `normalize.less` sets `[hidden] { display: none; }` but bootstrap.min.css set `[hidden] { display: none !important; }` so we also need the `!important` here to be able to override the default hidden behavior on the sphinx rendered scikit-learn.org. See: https://github.com/scikit-learn/scikit-learn/issues/21755 */display: inline-block !important;position: relative;}#sk-2fefb51b-ca47-4a93-b010-4e30db1a17e0 div.sk-text-repr-fallback {display: none;}</style><div id=\"sk-2fefb51b-ca47-4a93-b010-4e30db1a17e0\" class=\"sk-top-container\"><div class=\"sk-text-repr-fallback\"><pre>Pipeline(steps=[(&#x27;transformer&#x27;,\n",
       "                 ColumnTransformer(transformers=[(&#x27;onehot_trf&#x27;, OneHotEncoder(),\n",
       "                                                  [&#x27;specialization_domain&#x27;,\n",
       "                                                   &#x27;learner_country_group&#x27;,\n",
       "                                                   &#x27;learner_gender&#x27;]),\n",
       "                                                 (&#x27;log_trf&#x27;,\n",
       "                                                  FunctionTransformer(func=&lt;function log_transformer at 0x7f7ef42181f0&gt;),\n",
       "                                                  [&#x27;learner_cnt_other_courses_active&#x27;,\n",
       "                                                   &#x27;learner_cnt_other_courses_paid_active&#x27;,\n",
       "                                                   &#x27;learner_cnt_other_courses_items_c...\n",
       "                                                   &#x27;cnt_days_active_during_payment_period&#x27;,\n",
       "                                                   &#x27;cnt_days_since_last_activity&#x27;,\n",
       "                                                   &#x27;sum_hours_learning_before_payment_period&#x27;,\n",
       "                                                   &#x27;sum_hours_learning_during_payment_period&#x27;]),\n",
       "                                                 (&#x27;sqrt_trf&#x27;,\n",
       "                                                  FunctionTransformer(func=&lt;function sqrt_transformer at 0x7f7ef4218040&gt;),\n",
       "                                                  [&#x27;days_since_last_payment&#x27;,\n",
       "                                                   &#x27;days_til_next_payment_due&#x27;])])),\n",
       "                (&#x27;scaler&#x27;, MinMaxScaler()),\n",
       "                (&#x27;randomforest&#x27;, RandomForestClassifier())])</pre><b>Please rerun this cell to show the HTML repr or trust the notebook.</b></div><div class=\"sk-container\" hidden><div class=\"sk-item sk-dashed-wrapped\"><div class=\"sk-label-container\"><div class=\"sk-label sk-toggleable\"><input class=\"sk-toggleable__control sk-hidden--visually\" id=\"50e1fd93-7cf6-48e0-9e24-be33a4b891f4\" type=\"checkbox\" ><label for=\"50e1fd93-7cf6-48e0-9e24-be33a4b891f4\" class=\"sk-toggleable__label sk-toggleable__label-arrow\">Pipeline</label><div class=\"sk-toggleable__content\"><pre>Pipeline(steps=[(&#x27;transformer&#x27;,\n",
       "                 ColumnTransformer(transformers=[(&#x27;onehot_trf&#x27;, OneHotEncoder(),\n",
       "                                                  [&#x27;specialization_domain&#x27;,\n",
       "                                                   &#x27;learner_country_group&#x27;,\n",
       "                                                   &#x27;learner_gender&#x27;]),\n",
       "                                                 (&#x27;log_trf&#x27;,\n",
       "                                                  FunctionTransformer(func=&lt;function log_transformer at 0x7f7ef42181f0&gt;),\n",
       "                                                  [&#x27;learner_cnt_other_courses_active&#x27;,\n",
       "                                                   &#x27;learner_cnt_other_courses_paid_active&#x27;,\n",
       "                                                   &#x27;learner_cnt_other_courses_items_c...\n",
       "                                                   &#x27;cnt_days_active_during_payment_period&#x27;,\n",
       "                                                   &#x27;cnt_days_since_last_activity&#x27;,\n",
       "                                                   &#x27;sum_hours_learning_before_payment_period&#x27;,\n",
       "                                                   &#x27;sum_hours_learning_during_payment_period&#x27;]),\n",
       "                                                 (&#x27;sqrt_trf&#x27;,\n",
       "                                                  FunctionTransformer(func=&lt;function sqrt_transformer at 0x7f7ef4218040&gt;),\n",
       "                                                  [&#x27;days_since_last_payment&#x27;,\n",
       "                                                   &#x27;days_til_next_payment_due&#x27;])])),\n",
       "                (&#x27;scaler&#x27;, MinMaxScaler()),\n",
       "                (&#x27;randomforest&#x27;, RandomForestClassifier())])</pre></div></div></div><div class=\"sk-serial\"><div class=\"sk-item sk-dashed-wrapped\"><div class=\"sk-label-container\"><div class=\"sk-label sk-toggleable\"><input class=\"sk-toggleable__control sk-hidden--visually\" id=\"0bdfc34e-421c-4490-9a1a-56cacfeb15c6\" type=\"checkbox\" ><label for=\"0bdfc34e-421c-4490-9a1a-56cacfeb15c6\" class=\"sk-toggleable__label sk-toggleable__label-arrow\">transformer: ColumnTransformer</label><div class=\"sk-toggleable__content\"><pre>ColumnTransformer(transformers=[(&#x27;onehot_trf&#x27;, OneHotEncoder(),\n",
       "                                 [&#x27;specialization_domain&#x27;,\n",
       "                                  &#x27;learner_country_group&#x27;, &#x27;learner_gender&#x27;]),\n",
       "                                (&#x27;log_trf&#x27;,\n",
       "                                 FunctionTransformer(func=&lt;function log_transformer at 0x7f7ef42181f0&gt;),\n",
       "                                 [&#x27;learner_cnt_other_courses_active&#x27;,\n",
       "                                  &#x27;learner_cnt_other_courses_paid_active&#x27;,\n",
       "                                  &#x27;learner_cnt_other_courses_items_completed&#x27;,\n",
       "                                  &#x27;learner_cnt_other_co...\n",
       "                                  &#x27;cnt_graded_items_completed_during_payment_period&#x27;,\n",
       "                                  &#x27;cnt_days_active_before_payment_period&#x27;,\n",
       "                                  &#x27;cnt_days_active_during_payment_period&#x27;,\n",
       "                                  &#x27;cnt_days_since_last_activity&#x27;,\n",
       "                                  &#x27;sum_hours_learning_before_payment_period&#x27;,\n",
       "                                  &#x27;sum_hours_learning_during_payment_period&#x27;]),\n",
       "                                (&#x27;sqrt_trf&#x27;,\n",
       "                                 FunctionTransformer(func=&lt;function sqrt_transformer at 0x7f7ef4218040&gt;),\n",
       "                                 [&#x27;days_since_last_payment&#x27;,\n",
       "                                  &#x27;days_til_next_payment_due&#x27;])])</pre></div></div></div><div class=\"sk-parallel\"><div class=\"sk-parallel-item\"><div class=\"sk-item\"><div class=\"sk-label-container\"><div class=\"sk-label sk-toggleable\"><input class=\"sk-toggleable__control sk-hidden--visually\" id=\"6d51dd96-18a6-4e4a-b3d7-28a2a796ee06\" type=\"checkbox\" ><label for=\"6d51dd96-18a6-4e4a-b3d7-28a2a796ee06\" class=\"sk-toggleable__label sk-toggleable__label-arrow\">onehot_trf</label><div class=\"sk-toggleable__content\"><pre>[&#x27;specialization_domain&#x27;, &#x27;learner_country_group&#x27;, &#x27;learner_gender&#x27;]</pre></div></div></div><div class=\"sk-serial\"><div class=\"sk-item\"><div class=\"sk-estimator sk-toggleable\"><input class=\"sk-toggleable__control sk-hidden--visually\" id=\"8c4de209-6374-4dc3-9aaa-85cd31c5acdc\" type=\"checkbox\" ><label for=\"8c4de209-6374-4dc3-9aaa-85cd31c5acdc\" class=\"sk-toggleable__label sk-toggleable__label-arrow\">OneHotEncoder</label><div class=\"sk-toggleable__content\"><pre>OneHotEncoder()</pre></div></div></div></div></div></div><div class=\"sk-parallel-item\"><div class=\"sk-item\"><div class=\"sk-label-container\"><div class=\"sk-label sk-toggleable\"><input class=\"sk-toggleable__control sk-hidden--visually\" id=\"02b3e2a3-e726-4dac-a6b8-5f4653c74b02\" type=\"checkbox\" ><label for=\"02b3e2a3-e726-4dac-a6b8-5f4653c74b02\" class=\"sk-toggleable__label sk-toggleable__label-arrow\">log_trf</label><div class=\"sk-toggleable__content\"><pre>[&#x27;learner_cnt_other_courses_active&#x27;, &#x27;learner_cnt_other_courses_paid_active&#x27;, &#x27;learner_cnt_other_courses_items_completed&#x27;, &#x27;learner_cnt_other_courses_paid_items_completed&#x27;, &#x27;learner_cnt_other_transactions_past&#x27;, &#x27;subscription_period_order&#x27;]</pre></div></div></div><div class=\"sk-serial\"><div class=\"sk-item\"><div class=\"sk-estimator sk-toggleable\"><input class=\"sk-toggleable__control sk-hidden--visually\" id=\"36765d60-7727-4aa2-b4bf-e1971bbd2113\" type=\"checkbox\" ><label for=\"36765d60-7727-4aa2-b4bf-e1971bbd2113\" class=\"sk-toggleable__label sk-toggleable__label-arrow\">FunctionTransformer</label><div class=\"sk-toggleable__content\"><pre>FunctionTransformer(func=&lt;function log_transformer at 0x7f7ef42181f0&gt;)</pre></div></div></div></div></div></div><div class=\"sk-parallel-item\"><div class=\"sk-item\"><div class=\"sk-label-container\"><div class=\"sk-label sk-toggleable\"><input class=\"sk-toggleable__control sk-hidden--visually\" id=\"1bd202f9-c261-41d4-b11a-2301b7dbf820\" type=\"checkbox\" ><label for=\"1bd202f9-c261-41d4-b11a-2301b7dbf820\" class=\"sk-toggleable__label sk-toggleable__label-arrow\">boxcox_trf</label><div class=\"sk-toggleable__content\"><pre>[&#x27;cnt_courses_in_specialization&#x27;, &#x27;cnt_enrollments_started_before_payment_period&#x27;, &#x27;cnt_enrollments_completed_before_payment_period&#x27;, &#x27;cnt_enrollments_active_before_payment_period&#x27;, &#x27;cnt_items_completed_before_payment_period&#x27;, &#x27;cnt_graded_items_completed_before_payment_period&#x27;, &#x27;cnt_enrollments_started_during_payment_period&#x27;, &#x27;cnt_enrollments_completed_during_payment_period&#x27;, &#x27;cnt_enrollments_active_during_payment_period&#x27;, &#x27;cnt_items_completed_during_payment_period&#x27;, &#x27;cnt_graded_items_completed_during_payment_period&#x27;, &#x27;cnt_days_active_before_payment_period&#x27;, &#x27;cnt_days_active_during_payment_period&#x27;, &#x27;cnt_days_since_last_activity&#x27;, &#x27;sum_hours_learning_before_payment_period&#x27;, &#x27;sum_hours_learning_during_payment_period&#x27;]</pre></div></div></div><div class=\"sk-serial\"><div class=\"sk-item\"><div class=\"sk-estimator sk-toggleable\"><input class=\"sk-toggleable__control sk-hidden--visually\" id=\"a971cc84-a8f1-48d6-a761-be60f39577be\" type=\"checkbox\" ><label for=\"a971cc84-a8f1-48d6-a761-be60f39577be\" class=\"sk-toggleable__label sk-toggleable__label-arrow\">FunctionTransformer</label><div class=\"sk-toggleable__content\"><pre>FunctionTransformer(func=&lt;function boxcox_transformer at 0x7f7ef42dd820&gt;)</pre></div></div></div></div></div></div><div class=\"sk-parallel-item\"><div class=\"sk-item\"><div class=\"sk-label-container\"><div class=\"sk-label sk-toggleable\"><input class=\"sk-toggleable__control sk-hidden--visually\" id=\"d5746417-154a-411d-a9f3-cd2bb0a54bcc\" type=\"checkbox\" ><label for=\"d5746417-154a-411d-a9f3-cd2bb0a54bcc\" class=\"sk-toggleable__label sk-toggleable__label-arrow\">sqrt_trf</label><div class=\"sk-toggleable__content\"><pre>[&#x27;days_since_last_payment&#x27;, &#x27;days_til_next_payment_due&#x27;]</pre></div></div></div><div class=\"sk-serial\"><div class=\"sk-item\"><div class=\"sk-estimator sk-toggleable\"><input class=\"sk-toggleable__control sk-hidden--visually\" id=\"cae49901-150b-454a-a106-012e80b42b68\" type=\"checkbox\" ><label for=\"cae49901-150b-454a-a106-012e80b42b68\" class=\"sk-toggleable__label sk-toggleable__label-arrow\">FunctionTransformer</label><div class=\"sk-toggleable__content\"><pre>FunctionTransformer(func=&lt;function sqrt_transformer at 0x7f7ef4218040&gt;)</pre></div></div></div></div></div></div></div></div><div class=\"sk-item\"><div class=\"sk-estimator sk-toggleable\"><input class=\"sk-toggleable__control sk-hidden--visually\" id=\"a42ba427-fa7e-4a91-988b-cdf4521d7d2b\" type=\"checkbox\" ><label for=\"a42ba427-fa7e-4a91-988b-cdf4521d7d2b\" class=\"sk-toggleable__label sk-toggleable__label-arrow\">MinMaxScaler</label><div class=\"sk-toggleable__content\"><pre>MinMaxScaler()</pre></div></div></div><div class=\"sk-item\"><div class=\"sk-estimator sk-toggleable\"><input class=\"sk-toggleable__control sk-hidden--visually\" id=\"cd71d739-7e72-4c43-8799-de0e3f5564aa\" type=\"checkbox\" ><label for=\"cd71d739-7e72-4c43-8799-de0e3f5564aa\" class=\"sk-toggleable__label sk-toggleable__label-arrow\">RandomForestClassifier</label><div class=\"sk-toggleable__content\"><pre>RandomForestClassifier()</pre></div></div></div></div></div></div></div>"
      ],
      "text/plain": [
       "Pipeline(steps=[('transformer',\n",
       "                 ColumnTransformer(transformers=[('onehot_trf', OneHotEncoder(),\n",
       "                                                  ['specialization_domain',\n",
       "                                                   'learner_country_group',\n",
       "                                                   'learner_gender']),\n",
       "                                                 ('log_trf',\n",
       "                                                  FunctionTransformer(func=<function log_transformer at 0x7f7ef42181f0>),\n",
       "                                                  ['learner_cnt_other_courses_active',\n",
       "                                                   'learner_cnt_other_courses_paid_active',\n",
       "                                                   'learner_cnt_other_courses_items_c...\n",
       "                                                   'cnt_days_active_during_payment_period',\n",
       "                                                   'cnt_days_since_last_activity',\n",
       "                                                   'sum_hours_learning_before_payment_period',\n",
       "                                                   'sum_hours_learning_during_payment_period']),\n",
       "                                                 ('sqrt_trf',\n",
       "                                                  FunctionTransformer(func=<function sqrt_transformer at 0x7f7ef4218040>),\n",
       "                                                  ['days_since_last_payment',\n",
       "                                                   'days_til_next_payment_due'])])),\n",
       "                ('scaler', MinMaxScaler()),\n",
       "                ('randomforest', RandomForestClassifier())])"
      ]
     },
     "execution_count": 52,
     "metadata": {},
     "output_type": "execute_result"
    }
   ],
   "source": [
    "pipe = Pipeline([\n",
    "    (\"transformer\", transformers),\n",
    "    (\"scaler\", MinMaxScaler()),\n",
    "    (\"randomforest\", RandomForestClassifier()),\n",
    "])\n",
    "\n",
    "pipe"
   ]
  },
  {
   "cell_type": "code",
   "execution_count": 48,
   "metadata": {},
   "outputs": [
    {
     "name": "stderr",
     "output_type": "stream",
     "text": [
      "/home/moaz/anaconda3/lib/python3.9/site-packages/numpy/core/fromnumeric.py:84: FutureWarning: In a future version, DataFrame.min(axis=None) will return a scalar min over the entire DataFrame. To retain the old behavior, use 'frame.min(axis=0)' or just 'frame.min()'\n",
      "  return reduction(axis=axis, out=out, **passkwargs)\n",
      "/home/moaz/anaconda3/lib/python3.9/site-packages/numpy/core/fromnumeric.py:84: FutureWarning: In a future version, DataFrame.min(axis=None) will return a scalar min over the entire DataFrame. To retain the old behavior, use 'frame.min(axis=0)' or just 'frame.min()'\n",
      "  return reduction(axis=axis, out=out, **passkwargs)\n",
      "/home/moaz/anaconda3/lib/python3.9/site-packages/numpy/core/fromnumeric.py:84: FutureWarning: In a future version, DataFrame.min(axis=None) will return a scalar min over the entire DataFrame. To retain the old behavior, use 'frame.min(axis=0)' or just 'frame.min()'\n",
      "  return reduction(axis=axis, out=out, **passkwargs)\n",
      "/home/moaz/anaconda3/lib/python3.9/site-packages/numpy/core/fromnumeric.py:84: FutureWarning: In a future version, DataFrame.min(axis=None) will return a scalar min over the entire DataFrame. To retain the old behavior, use 'frame.min(axis=0)' or just 'frame.min()'\n",
      "  return reduction(axis=axis, out=out, **passkwargs)\n"
     ]
    },
    {
     "name": "stdout",
     "output_type": "stream",
     "text": [
      "              precision    recall  f1-score   support\n",
      "\n",
      "         0.0       0.64      0.57      0.60       895\n",
      "         1.0       0.68      0.75      0.71      1105\n",
      "\n",
      "    accuracy                           0.67      2000\n",
      "   macro avg       0.66      0.66      0.66      2000\n",
      "weighted avg       0.66      0.67      0.66      2000\n",
      "\n"
     ]
    },
    {
     "name": "stderr",
     "output_type": "stream",
     "text": [
      "/home/moaz/anaconda3/lib/python3.9/site-packages/numpy/core/fromnumeric.py:84: FutureWarning: In a future version, DataFrame.min(axis=None) will return a scalar min over the entire DataFrame. To retain the old behavior, use 'frame.min(axis=0)' or just 'frame.min()'\n",
      "  return reduction(axis=axis, out=out, **passkwargs)\n",
      "/home/moaz/anaconda3/lib/python3.9/site-packages/numpy/core/fromnumeric.py:84: FutureWarning: In a future version, DataFrame.min(axis=None) will return a scalar min over the entire DataFrame. To retain the old behavior, use 'frame.min(axis=0)' or just 'frame.min()'\n",
      "  return reduction(axis=axis, out=out, **passkwargs)\n"
     ]
    }
   ],
   "source": [
    "pipe.fit(x_train, y_train)\n",
    "pipe.score(x_valid, y_valid)\n",
    "print(classification_report(y_valid, pipe.predict(x_valid)))"
   ]
  },
  {
   "cell_type": "code",
   "execution_count": 61,
   "metadata": {},
   "outputs": [
    {
     "data": {
      "text/plain": [
       "<sklearn.metrics._plot.roc_curve.RocCurveDisplay at 0x7fc15d714fd0>"
      ]
     },
     "execution_count": 61,
     "metadata": {},
     "output_type": "execute_result"
    },
    {
     "data": {
      "image/png": "[encoded data removed]",
      "text/plain": [
       "<Figure size 432x288 with 1 Axes>"
      ]
     },
     "metadata": {
      "needs_background": "light"
     },
     "output_type": "display_data"
    }
   ],
   "source": [
    "plot_roc_curve(pipe, x_valid, y_valid)"
   ]
  },
  {
   "cell_type": "code",
   "execution_count": 59,
   "metadata": {},
   "outputs": [
    {
     "data": {
      "text/plain": [
       "{'bootstrap': True,\n",
       " 'ccp_alpha': 0.0,\n",
       " 'class_weight': None,\n",
       " 'criterion': 'gini',\n",
       " 'max_depth': None,\n",
       " 'max_features': 'auto',\n",
       " 'max_leaf_nodes': None,\n",
       " 'max_samples': None,\n",
       " 'min_impurity_decrease': 0.0,\n",
       " 'min_impurity_split': None,\n",
       " 'min_samples_leaf': 1,\n",
       " 'min_samples_split': 2,\n",
       " 'min_weight_fraction_leaf': 0.0,\n",
       " 'n_estimators': 100,\n",
       " 'n_jobs': None,\n",
       " 'oob_score': False,\n",
       " 'random_state': None,\n",
       " 'verbose': 0,\n",
       " 'warm_start': False}"
      ]
     },
     "execution_count": 59,
     "metadata": {},
     "output_type": "execute_result"
    }
   ],
   "source": [
    "## Current Model Hyperparameters\n",
    "model = pipe.get_params().get(\"randomforest\")\n",
    "model.get_params()"
   ]
  },
  {
   "cell_type": "code",
   "execution_count": 54,
   "metadata": {},
   "outputs": [],
   "source": [
    "## Now for finding the best hyperparameters for the model we will use the GridSearchCV.\n",
    "parameters_grid = {\n",
    "    \"randomforest__max_depth\" : [3, 5, 8],\n",
    "    \"randomforest__n_estimators\" : [100, 125, 150],\n",
    "}\n",
    "\n",
    "auc_scorer = make_scorer(roc_auc_score)"
   ]
  },
  {
   "cell_type": "code",
   "execution_count": 55,
   "metadata": {},
   "outputs": [
    {
     "data": {
      "text/html": [
       "<style>#sk-1b1c6000-42e4-4b7c-b6db-1e69d0ddcd15 {color: black;background-color: white;}#sk-1b1c6000-42e4-4b7c-b6db-1e69d0ddcd15 pre{padding: 0;}#sk-1b1c6000-42e4-4b7c-b6db-1e69d0ddcd15 div.sk-toggleable {background-color: white;}#sk-1b1c6000-42e4-4b7c-b6db-1e69d0ddcd15 label.sk-toggleable__label {cursor: pointer;display: block;width: 100%;margin-bottom: 0;padding: 0.3em;box-sizing: border-box;text-align: center;}#sk-1b1c6000-42e4-4b7c-b6db-1e69d0ddcd15 label.sk-toggleable__label-arrow:before {content: \"▸\";float: left;margin-right: 0.25em;color: #696969;}#sk-1b1c6000-42e4-4b7c-b6db-1e69d0ddcd15 label.sk-toggleable__label-arrow:hover:before {color: black;}#sk-1b1c6000-42e4-4b7c-b6db-1e69d0ddcd15 div.sk-estimator:hover label.sk-toggleable__label-arrow:before {color: black;}#sk-1b1c6000-42e4-4b7c-b6db-1e69d0ddcd15 div.sk-toggleable__content {max-height: 0;max-width: 0;overflow: hidden;text-align: left;background-color: #f0f8ff;}#sk-1b1c6000-42e4-4b7c-b6db-1e69d0ddcd15 div.sk-toggleable__content pre {margin: 0.2em;color: black;border-radius: 0.25em;background-color: #f0f8ff;}#sk-1b1c6000-42e4-4b7c-b6db-1e69d0ddcd15 input.sk-toggleable__control:checked~div.sk-toggleable__content {max-height: 200px;max-width: 100%;overflow: auto;}#sk-1b1c6000-42e4-4b7c-b6db-1e69d0ddcd15 input.sk-toggleable__control:checked~label.sk-toggleable__label-arrow:before {content: \"▾\";}#sk-1b1c6000-42e4-4b7c-b6db-1e69d0ddcd15 div.sk-estimator input.sk-toggleable__control:checked~label.sk-toggleable__label {background-color: #d4ebff;}#sk-1b1c6000-42e4-4b7c-b6db-1e69d0ddcd15 div.sk-label input.sk-toggleable__control:checked~label.sk-toggleable__label {background-color: #d4ebff;}#sk-1b1c6000-42e4-4b7c-b6db-1e69d0ddcd15 input.sk-hidden--visually {border: 0;clip: rect(1px 1px 1px 1px);clip: rect(1px, 1px, 1px, 1px);height: 1px;margin: -1px;overflow: hidden;padding: 0;position: absolute;width: 1px;}#sk-1b1c6000-42e4-4b7c-b6db-1e69d0ddcd15 div.sk-estimator {font-family: monospace;background-color: #f0f8ff;border: 1px dotted black;border-radius: 0.25em;box-sizing: border-box;margin-bottom: 0.5em;}#sk-1b1c6000-42e4-4b7c-b6db-1e69d0ddcd15 div.sk-estimator:hover {background-color: #d4ebff;}#sk-1b1c6000-42e4-4b7c-b6db-1e69d0ddcd15 div.sk-parallel-item::after {content: \"\";width: 100%;border-bottom: 1px solid gray;flex-grow: 1;}#sk-1b1c6000-42e4-4b7c-b6db-1e69d0ddcd15 div.sk-label:hover label.sk-toggleable__label {background-color: #d4ebff;}#sk-1b1c6000-42e4-4b7c-b6db-1e69d0ddcd15 div.sk-serial::before {content: \"\";position: absolute;border-left: 1px solid gray;box-sizing: border-box;top: 2em;bottom: 0;left: 50%;}#sk-1b1c6000-42e4-4b7c-b6db-1e69d0ddcd15 div.sk-serial {display: flex;flex-direction: column;align-items: center;background-color: white;padding-right: 0.2em;padding-left: 0.2em;}#sk-1b1c6000-42e4-4b7c-b6db-1e69d0ddcd15 div.sk-item {z-index: 1;}#sk-1b1c6000-42e4-4b7c-b6db-1e69d0ddcd15 div.sk-parallel {display: flex;align-items: stretch;justify-content: center;background-color: white;}#sk-1b1c6000-42e4-4b7c-b6db-1e69d0ddcd15 div.sk-parallel::before {content: \"\";position: absolute;border-left: 1px solid gray;box-sizing: border-box;top: 2em;bottom: 0;left: 50%;}#sk-1b1c6000-42e4-4b7c-b6db-1e69d0ddcd15 div.sk-parallel-item {display: flex;flex-direction: column;position: relative;background-color: white;}#sk-1b1c6000-42e4-4b7c-b6db-1e69d0ddcd15 div.sk-parallel-item:first-child::after {align-self: flex-end;width: 50%;}#sk-1b1c6000-42e4-4b7c-b6db-1e69d0ddcd15 div.sk-parallel-item:last-child::after {align-self: flex-start;width: 50%;}#sk-1b1c6000-42e4-4b7c-b6db-1e69d0ddcd15 div.sk-parallel-item:only-child::after {width: 0;}#sk-1b1c6000-42e4-4b7c-b6db-1e69d0ddcd15 div.sk-dashed-wrapped {border: 1px dashed gray;margin: 0 0.4em 0.5em 0.4em;box-sizing: border-box;padding-bottom: 0.4em;background-color: white;position: relative;}#sk-1b1c6000-42e4-4b7c-b6db-1e69d0ddcd15 div.sk-label label {font-family: monospace;font-weight: bold;background-color: white;display: inline-block;line-height: 1.2em;}#sk-1b1c6000-42e4-4b7c-b6db-1e69d0ddcd15 div.sk-label-container {position: relative;z-index: 2;text-align: center;}#sk-1b1c6000-42e4-4b7c-b6db-1e69d0ddcd15 div.sk-container {/* jupyter's `normalize.less` sets `[hidden] { display: none; }` but bootstrap.min.css set `[hidden] { display: none !important; }` so we also need the `!important` here to be able to override the default hidden behavior on the sphinx rendered scikit-learn.org. See: https://github.com/scikit-learn/scikit-learn/issues/21755 */display: inline-block !important;position: relative;}#sk-1b1c6000-42e4-4b7c-b6db-1e69d0ddcd15 div.sk-text-repr-fallback {display: none;}</style><div id=\"sk-1b1c6000-42e4-4b7c-b6db-1e69d0ddcd15\" class=\"sk-top-container\"><div class=\"sk-text-repr-fallback\"><pre>GridSearchCV(estimator=Pipeline(steps=[(&#x27;transformer&#x27;,\n",
       "                                        ColumnTransformer(transformers=[(&#x27;onehot_trf&#x27;,\n",
       "                                                                         OneHotEncoder(),\n",
       "                                                                         [&#x27;specialization_domain&#x27;,\n",
       "                                                                          &#x27;learner_country_group&#x27;,\n",
       "                                                                          &#x27;learner_gender&#x27;]),\n",
       "                                                                        (&#x27;log_trf&#x27;,\n",
       "                                                                         FunctionTransformer(func=&lt;function log_transformer at 0x7f7ef42181f0&gt;),\n",
       "                                                                         [&#x27;learner_cnt_other_courses_active&#x27;,\n",
       "                                                                          &#x27;learner_cnt_other_courses_paid_active&#x27;,\n",
       "                                                                          &#x27;learner_cn...\n",
       "                                                                        (&#x27;sqrt_trf&#x27;,\n",
       "                                                                         FunctionTransformer(func=&lt;function sqrt_transformer at 0x7f7ef4218040&gt;),\n",
       "                                                                         [&#x27;days_since_last_payment&#x27;,\n",
       "                                                                          &#x27;days_til_next_payment_due&#x27;])])),\n",
       "                                       (&#x27;scaler&#x27;, MinMaxScaler()),\n",
       "                                       (&#x27;randomforest&#x27;,\n",
       "                                        RandomForestClassifier())]),\n",
       "             n_jobs=-1,\n",
       "             param_grid={&#x27;randomforest__max_depth&#x27;: [3, 5, 8],\n",
       "                         &#x27;randomforest__n_estimators&#x27;: [100, 125, 150]},\n",
       "             scoring=make_scorer(roc_auc_score), verbose=1)</pre><b>Please rerun this cell to show the HTML repr or trust the notebook.</b></div><div class=\"sk-container\" hidden><div class=\"sk-item sk-dashed-wrapped\"><div class=\"sk-label-container\"><div class=\"sk-label sk-toggleable\"><input class=\"sk-toggleable__control sk-hidden--visually\" id=\"9be96a72-4728-486e-a0bd-ad48335ce579\" type=\"checkbox\" ><label for=\"9be96a72-4728-486e-a0bd-ad48335ce579\" class=\"sk-toggleable__label sk-toggleable__label-arrow\">GridSearchCV</label><div class=\"sk-toggleable__content\"><pre>GridSearchCV(estimator=Pipeline(steps=[(&#x27;transformer&#x27;,\n",
       "                                        ColumnTransformer(transformers=[(&#x27;onehot_trf&#x27;,\n",
       "                                                                         OneHotEncoder(),\n",
       "                                                                         [&#x27;specialization_domain&#x27;,\n",
       "                                                                          &#x27;learner_country_group&#x27;,\n",
       "                                                                          &#x27;learner_gender&#x27;]),\n",
       "                                                                        (&#x27;log_trf&#x27;,\n",
       "                                                                         FunctionTransformer(func=&lt;function log_transformer at 0x7f7ef42181f0&gt;),\n",
       "                                                                         [&#x27;learner_cnt_other_courses_active&#x27;,\n",
       "                                                                          &#x27;learner_cnt_other_courses_paid_active&#x27;,\n",
       "                                                                          &#x27;learner_cn...\n",
       "                                                                        (&#x27;sqrt_trf&#x27;,\n",
       "                                                                         FunctionTransformer(func=&lt;function sqrt_transformer at 0x7f7ef4218040&gt;),\n",
       "                                                                         [&#x27;days_since_last_payment&#x27;,\n",
       "                                                                          &#x27;days_til_next_payment_due&#x27;])])),\n",
       "                                       (&#x27;scaler&#x27;, MinMaxScaler()),\n",
       "                                       (&#x27;randomforest&#x27;,\n",
       "                                        RandomForestClassifier())]),\n",
       "             n_jobs=-1,\n",
       "             param_grid={&#x27;randomforest__max_depth&#x27;: [3, 5, 8],\n",
       "                         &#x27;randomforest__n_estimators&#x27;: [100, 125, 150]},\n",
       "             scoring=make_scorer(roc_auc_score), verbose=1)</pre></div></div></div><div class=\"sk-parallel\"><div class=\"sk-parallel-item\"><div class=\"sk-item\"><div class=\"sk-serial\"><div class=\"sk-item\"><div class=\"sk-serial\"><div class=\"sk-item sk-dashed-wrapped\"><div class=\"sk-label-container\"><div class=\"sk-label sk-toggleable\"><input class=\"sk-toggleable__control sk-hidden--visually\" id=\"1fc4dd7b-f078-4047-8215-86626ad7457e\" type=\"checkbox\" ><label for=\"1fc4dd7b-f078-4047-8215-86626ad7457e\" class=\"sk-toggleable__label sk-toggleable__label-arrow\">transformer: ColumnTransformer</label><div class=\"sk-toggleable__content\"><pre>ColumnTransformer(transformers=[(&#x27;onehot_trf&#x27;, OneHotEncoder(),\n",
       "                                 [&#x27;specialization_domain&#x27;,\n",
       "                                  &#x27;learner_country_group&#x27;, &#x27;learner_gender&#x27;]),\n",
       "                                (&#x27;log_trf&#x27;,\n",
       "                                 FunctionTransformer(func=&lt;function log_transformer at 0x7f7ef42181f0&gt;),\n",
       "                                 [&#x27;learner_cnt_other_courses_active&#x27;,\n",
       "                                  &#x27;learner_cnt_other_courses_paid_active&#x27;,\n",
       "                                  &#x27;learner_cnt_other_courses_items_completed&#x27;,\n",
       "                                  &#x27;learner_cnt_other_co...\n",
       "                                  &#x27;cnt_graded_items_completed_during_payment_period&#x27;,\n",
       "                                  &#x27;cnt_days_active_before_payment_period&#x27;,\n",
       "                                  &#x27;cnt_days_active_during_payment_period&#x27;,\n",
       "                                  &#x27;cnt_days_since_last_activity&#x27;,\n",
       "                                  &#x27;sum_hours_learning_before_payment_period&#x27;,\n",
       "                                  &#x27;sum_hours_learning_during_payment_period&#x27;]),\n",
       "                                (&#x27;sqrt_trf&#x27;,\n",
       "                                 FunctionTransformer(func=&lt;function sqrt_transformer at 0x7f7ef4218040&gt;),\n",
       "                                 [&#x27;days_since_last_payment&#x27;,\n",
       "                                  &#x27;days_til_next_payment_due&#x27;])])</pre></div></div></div><div class=\"sk-parallel\"><div class=\"sk-parallel-item\"><div class=\"sk-item\"><div class=\"sk-label-container\"><div class=\"sk-label sk-toggleable\"><input class=\"sk-toggleable__control sk-hidden--visually\" id=\"cbd71d3d-214d-4628-9246-39212c22e5f2\" type=\"checkbox\" ><label for=\"cbd71d3d-214d-4628-9246-39212c22e5f2\" class=\"sk-toggleable__label sk-toggleable__label-arrow\">onehot_trf</label><div class=\"sk-toggleable__content\"><pre>[&#x27;specialization_domain&#x27;, &#x27;learner_country_group&#x27;, &#x27;learner_gender&#x27;]</pre></div></div></div><div class=\"sk-serial\"><div class=\"sk-item\"><div class=\"sk-estimator sk-toggleable\"><input class=\"sk-toggleable__control sk-hidden--visually\" id=\"f80ac844-65be-4af4-9cf7-db4445408fde\" type=\"checkbox\" ><label for=\"f80ac844-65be-4af4-9cf7-db4445408fde\" class=\"sk-toggleable__label sk-toggleable__label-arrow\">OneHotEncoder</label><div class=\"sk-toggleable__content\"><pre>OneHotEncoder()</pre></div></div></div></div></div></div><div class=\"sk-parallel-item\"><div class=\"sk-item\"><div class=\"sk-label-container\"><div class=\"sk-label sk-toggleable\"><input class=\"sk-toggleable__control sk-hidden--visually\" id=\"ff1792f9-15f2-4561-8d9d-083df7c721f9\" type=\"checkbox\" ><label for=\"ff1792f9-15f2-4561-8d9d-083df7c721f9\" class=\"sk-toggleable__label sk-toggleable__label-arrow\">log_trf</label><div class=\"sk-toggleable__content\"><pre>[&#x27;learner_cnt_other_courses_active&#x27;, &#x27;learner_cnt_other_courses_paid_active&#x27;, &#x27;learner_cnt_other_courses_items_completed&#x27;, &#x27;learner_cnt_other_courses_paid_items_completed&#x27;, &#x27;learner_cnt_other_transactions_past&#x27;, &#x27;subscription_period_order&#x27;]</pre></div></div></div><div class=\"sk-serial\"><div class=\"sk-item\"><div class=\"sk-estimator sk-toggleable\"><input class=\"sk-toggleable__control sk-hidden--visually\" id=\"53051f7a-66c8-4d47-9e3a-55df9d22bf2e\" type=\"checkbox\" ><label for=\"53051f7a-66c8-4d47-9e3a-55df9d22bf2e\" class=\"sk-toggleable__label sk-toggleable__label-arrow\">FunctionTransformer</label><div class=\"sk-toggleable__content\"><pre>FunctionTransformer(func=&lt;function log_transformer at 0x7f7ef42181f0&gt;)</pre></div></div></div></div></div></div><div class=\"sk-parallel-item\"><div class=\"sk-item\"><div class=\"sk-label-container\"><div class=\"sk-label sk-toggleable\"><input class=\"sk-toggleable__control sk-hidden--visually\" id=\"24656003-f400-4964-a6a0-17216066a669\" type=\"checkbox\" ><label for=\"24656003-f400-4964-a6a0-17216066a669\" class=\"sk-toggleable__label sk-toggleable__label-arrow\">boxcox_trf</label><div class=\"sk-toggleable__content\"><pre>[&#x27;cnt_courses_in_specialization&#x27;, &#x27;cnt_enrollments_started_before_payment_period&#x27;, &#x27;cnt_enrollments_completed_before_payment_period&#x27;, &#x27;cnt_enrollments_active_before_payment_period&#x27;, &#x27;cnt_items_completed_before_payment_period&#x27;, &#x27;cnt_graded_items_completed_before_payment_period&#x27;, &#x27;cnt_enrollments_started_during_payment_period&#x27;, &#x27;cnt_enrollments_completed_during_payment_period&#x27;, &#x27;cnt_enrollments_active_during_payment_period&#x27;, &#x27;cnt_items_completed_during_payment_period&#x27;, &#x27;cnt_graded_items_completed_during_payment_period&#x27;, &#x27;cnt_days_active_before_payment_period&#x27;, &#x27;cnt_days_active_during_payment_period&#x27;, &#x27;cnt_days_since_last_activity&#x27;, &#x27;sum_hours_learning_before_payment_period&#x27;, &#x27;sum_hours_learning_during_payment_period&#x27;]</pre></div></div></div><div class=\"sk-serial\"><div class=\"sk-item\"><div class=\"sk-estimator sk-toggleable\"><input class=\"sk-toggleable__control sk-hidden--visually\" id=\"21c0080e-59ca-4df8-aa9e-cc0a4a70b3e1\" type=\"checkbox\" ><label for=\"21c0080e-59ca-4df8-aa9e-cc0a4a70b3e1\" class=\"sk-toggleable__label sk-toggleable__label-arrow\">FunctionTransformer</label><div class=\"sk-toggleable__content\"><pre>FunctionTransformer(func=&lt;function boxcox_transformer at 0x7f7ef42dd820&gt;)</pre></div></div></div></div></div></div><div class=\"sk-parallel-item\"><div class=\"sk-item\"><div class=\"sk-label-container\"><div class=\"sk-label sk-toggleable\"><input class=\"sk-toggleable__control sk-hidden--visually\" id=\"bdba7de7-e350-46d3-9884-3cd7cc1fc2d8\" type=\"checkbox\" ><label for=\"bdba7de7-e350-46d3-9884-3cd7cc1fc2d8\" class=\"sk-toggleable__label sk-toggleable__label-arrow\">sqrt_trf</label><div class=\"sk-toggleable__content\"><pre>[&#x27;days_since_last_payment&#x27;, &#x27;days_til_next_payment_due&#x27;]</pre></div></div></div><div class=\"sk-serial\"><div class=\"sk-item\"><div class=\"sk-estimator sk-toggleable\"><input class=\"sk-toggleable__control sk-hidden--visually\" id=\"b3c9c31b-1f55-4705-b3e8-3a4523889212\" type=\"checkbox\" ><label for=\"b3c9c31b-1f55-4705-b3e8-3a4523889212\" class=\"sk-toggleable__label sk-toggleable__label-arrow\">FunctionTransformer</label><div class=\"sk-toggleable__content\"><pre>FunctionTransformer(func=&lt;function sqrt_transformer at 0x7f7ef4218040&gt;)</pre></div></div></div></div></div></div></div></div><div class=\"sk-item\"><div class=\"sk-estimator sk-toggleable\"><input class=\"sk-toggleable__control sk-hidden--visually\" id=\"3a9654ad-711b-4b08-b46c-66d0751f602c\" type=\"checkbox\" ><label for=\"3a9654ad-711b-4b08-b46c-66d0751f602c\" class=\"sk-toggleable__label sk-toggleable__label-arrow\">MinMaxScaler</label><div class=\"sk-toggleable__content\"><pre>MinMaxScaler()</pre></div></div></div><div class=\"sk-item\"><div class=\"sk-estimator sk-toggleable\"><input class=\"sk-toggleable__control sk-hidden--visually\" id=\"d0d7fb4c-7cf0-4254-b030-e8a427402929\" type=\"checkbox\" ><label for=\"d0d7fb4c-7cf0-4254-b030-e8a427402929\" class=\"sk-toggleable__label sk-toggleable__label-arrow\">RandomForestClassifier</label><div class=\"sk-toggleable__content\"><pre>RandomForestClassifier()</pre></div></div></div></div></div></div></div></div></div></div></div></div>"
      ],
      "text/plain": [
       "GridSearchCV(estimator=Pipeline(steps=[('transformer',\n",
       "                                        ColumnTransformer(transformers=[('onehot_trf',\n",
       "                                                                         OneHotEncoder(),\n",
       "                                                                         ['specialization_domain',\n",
       "                                                                          'learner_country_group',\n",
       "                                                                          'learner_gender']),\n",
       "                                                                        ('log_trf',\n",
       "                                                                         FunctionTransformer(func=<function log_transformer at 0x7f7ef42181f0>),\n",
       "                                                                         ['learner_cnt_other_courses_active',\n",
       "                                                                          'learner_cnt_other_courses_paid_active',\n",
       "                                                                          'learner_cn...\n",
       "                                                                        ('sqrt_trf',\n",
       "                                                                         FunctionTransformer(func=<function sqrt_transformer at 0x7f7ef4218040>),\n",
       "                                                                         ['days_since_last_payment',\n",
       "                                                                          'days_til_next_payment_due'])])),\n",
       "                                       ('scaler', MinMaxScaler()),\n",
       "                                       ('randomforest',\n",
       "                                        RandomForestClassifier())]),\n",
       "             n_jobs=-1,\n",
       "             param_grid={'randomforest__max_depth': [3, 5, 8],\n",
       "                         'randomforest__n_estimators': [100, 125, 150]},\n",
       "             scoring=make_scorer(roc_auc_score), verbose=1)"
      ]
     },
     "execution_count": 55,
     "metadata": {},
     "output_type": "execute_result"
    }
   ],
   "source": [
    "grid_obj = GridSearchCV(estimator=pipe, param_grid=parameters_grid,\n",
    "                        n_jobs=-1, scoring=auc_scorer, verbose=1)\n",
    "grid_obj"
   ]
  },
  {
   "cell_type": "code",
   "execution_count": 69,
   "metadata": {},
   "outputs": [
    {
     "name": "stdout",
     "output_type": "stream",
     "text": [
      "Fitting 5 folds for each of 9 candidates, totalling 45 fits\n"
     ]
    },
    {
     "name": "stderr",
     "output_type": "stream",
     "text": [
      "[Parallel(n_jobs=-1)]: Using backend LokyBackend with 2 concurrent workers.\n",
      "[Parallel(n_jobs=-1)]: Done  45 out of  45 | elapsed: 12.6min finished\n"
     ]
    }
   ],
   "source": [
    "grid_obj = grid_obj.fit(x_train, y_train)"
   ]
  },
  {
   "cell_type": "code",
   "execution_count": 72,
   "metadata": {
    "scrolled": false
   },
   "outputs": [
    {
     "data": {
      "text/plain": [
       "<sklearn.metrics._plot.roc_curve.RocCurveDisplay at 0x7fc15d92f850>"
      ]
     },
     "execution_count": 72,
     "metadata": {},
     "output_type": "execute_result"
    },
    {
     "data": {
      "image/png": "[encoded data removed]",
      "text/plain": [
       "<Figure size 432x288 with 1 Axes>"
      ]
     },
     "metadata": {
      "needs_background": "light"
     },
     "output_type": "display_data"
    }
   ],
   "source": [
    "best_estimator = grid_obj.best_estimator_\n",
    "plot_roc_curve(best_estimator, x_valid, y_valid)"
   ]
  },
  {
   "cell_type": "code",
   "execution_count": 73,
   "metadata": {},
   "outputs": [
    {
     "name": "stdout",
     "output_type": "stream",
     "text": [
      "              precision    recall  f1-score   support\n",
      "\n",
      "         0.0       0.66      0.58      0.61     37634\n",
      "         1.0       0.68      0.75      0.71     45157\n",
      "\n",
      "    accuracy                           0.67     82791\n",
      "   macro avg       0.67      0.66      0.66     82791\n",
      "weighted avg       0.67      0.67      0.67     82791\n",
      "\n"
     ]
    }
   ],
   "source": [
    "best_estimator.score(x_valid, y_valid)\n",
    "print(classification_report(y_valid, best_estimator.predict(x_valid)))"
   ]
  },
  {
   "cell_type": "code",
   "execution_count": null,
   "metadata": {},
   "outputs": [],
   "source": []
  },
  {
   "cell_type": "markdown",
   "metadata": {
    "deletable": false,
    "editable": false,
    "nbgrader": {
     "cell_type": "markdown",
     "checksum": "25877df7d489a1bc02cd7e2db0bbc7c4",
     "grade": false,
     "grade_id": "cell-d0f3069026d19f9c",
     "locked": true,
     "schema_version": 3,
     "solution": false,
     "task": false
    }
   },
   "source": [
    "## Make predictions (required)\n",
    "\n",
    "Remember you should create a dataframe named `prediction_df` with exactly 217,921 entries plus a header row attempting to predict the likelihood of retention for subscriptions in `test_df`. Your submission will throw an error if you have extra columns (beyond `subscription_id` and `predicted_probaility`) or extra rows.\n",
    "\n",
    "The file should have exactly 2 columns:\n",
    "`subscription_id` (sorted in any order)\n",
    "`predicted_probability` (contains your numeric predicted probabilities between 0 and 1, e.g. from `estimator.predict_proba(X, y)[:, 1]`)\n",
    "\n",
    "The naming convention of the dataframe and columns are critical for our autograding, so please make sure to use the exact naming conventions of `prediction_df` with column names `subscription_id` and `predicted_probability`!"
   ]
  },
  {
   "cell_type": "markdown",
   "metadata": {
    "deletable": false,
    "editable": false,
    "nbgrader": {
     "cell_type": "markdown",
     "checksum": "fe6a9f76bf3afadd8bca14844cc29822",
     "grade": false,
     "grade_id": "cell-6df7c772d801196c",
     "locked": true,
     "schema_version": 3,
     "solution": false,
     "task": false
    }
   },
   "source": [
    "### Example prediction submission:\n",
    "\n",
    "The code below is a very naive prediction method that simply predicts retention using a Dummy Classifier. This is used as just an example showing the submission format required. Please change/alter/delete this code below and create your own improved prediction methods for generating `prediction_df`."
   ]
  },
  {
   "cell_type": "markdown",
   "metadata": {
    "deletable": false,
    "editable": false,
    "nbgrader": {
     "cell_type": "markdown",
     "checksum": "d1dd997e53033d6b60dd735f47bc5ed8",
     "grade": false,
     "grade_id": "cell-985b2d76f8109daf",
     "locked": true,
     "schema_version": 3,
     "solution": false,
     "task": false
    }
   },
   "source": [
    "**PLEASE CHANGE CODE BELOW TO IMPLEMENT YOUR OWN PREDICTIONS**"
   ]
  },
  {
   "cell_type": "code",
   "execution_count": 74,
   "metadata": {},
   "outputs": [],
   "source": [
    "### PLEASE CHANGE THIS CODE TO IMPLEMENT YOUR OWN PREDICTIONS\n",
    "\n",
    "# Use our dummy classifier to make predictions on test_df using `predict_proba` method:\n",
    "predicted_probability = best_estimator.predict_proba(test_df[feature_columns])[:, 1]"
   ]
  },
  {
   "cell_type": "code",
   "execution_count": 75,
   "metadata": {},
   "outputs": [],
   "source": [
    "### PLEASE CHANGE THIS CODE TO IMPLEMENT YOUR OWN PREDICTIONS\n",
    "\n",
    "# Combine predictions with label column into a dataframe\n",
    "prediction_df = pd.DataFrame({'subscription_id': test_df[['subscription_id']].values[:, 0],\n",
    "                             'predicted_probability': predicted_probability})"
   ]
  },
  {
   "cell_type": "code",
   "execution_count": 76,
   "metadata": {},
   "outputs": [
    {
     "name": "stdout",
     "output_type": "stream",
     "text": [
      "(217921, 2)\n"
     ]
    },
    {
     "data": {
      "text/html": [
       "<div>\n",
       "<style scoped>\n",
       "    .dataframe tbody tr th:only-of-type {\n",
       "        vertical-align: middle;\n",
       "    }\n",
       "\n",
       "    .dataframe tbody tr th {\n",
       "        vertical-align: top;\n",
       "    }\n",
       "\n",
       "    .dataframe thead th {\n",
       "        text-align: right;\n",
       "    }\n",
       "</style>\n",
       "<table border=\"1\" class=\"dataframe\">\n",
       "  <thead>\n",
       "    <tr style=\"text-align: right;\">\n",
       "      <th></th>\n",
       "      <th>subscription_id</th>\n",
       "      <th>predicted_probability</th>\n",
       "    </tr>\n",
       "  </thead>\n",
       "  <tbody>\n",
       "    <tr>\n",
       "      <th>0</th>\n",
       "      <td>-1flsPG4EeuOTBLG4RY78Q</td>\n",
       "      <td>0.587668</td>\n",
       "    </tr>\n",
       "    <tr>\n",
       "      <th>1</th>\n",
       "      <td>-3jgpo3XEeuquA5bylYGqQ</td>\n",
       "      <td>0.767948</td>\n",
       "    </tr>\n",
       "    <tr>\n",
       "      <th>2</th>\n",
       "      <td>-4iSgbBhEeutEwol7kuJnw</td>\n",
       "      <td>0.702421</td>\n",
       "    </tr>\n",
       "    <tr>\n",
       "      <th>3</th>\n",
       "      <td>-D1ayv64Eeuw4w5IkZJKbw</td>\n",
       "      <td>0.494505</td>\n",
       "    </tr>\n",
       "    <tr>\n",
       "      <th>4</th>\n",
       "      <td>-DJEc-L5Eeub2BLESLBCkw</td>\n",
       "      <td>0.678390</td>\n",
       "    </tr>\n",
       "    <tr>\n",
       "      <th>5</th>\n",
       "      <td>-EbzSDdgEeyiog5l139adw</td>\n",
       "      <td>0.653511</td>\n",
       "    </tr>\n",
       "    <tr>\n",
       "      <th>6</th>\n",
       "      <td>-GVVgmMxEeuQZgoplpe76w</td>\n",
       "      <td>0.398883</td>\n",
       "    </tr>\n",
       "    <tr>\n",
       "      <th>7</th>\n",
       "      <td>-H4Bil5DEeyGdgqSaUkc7Q</td>\n",
       "      <td>0.247972</td>\n",
       "    </tr>\n",
       "    <tr>\n",
       "      <th>8</th>\n",
       "      <td>-O-hHcevEeuPIA4yld1PaQ</td>\n",
       "      <td>0.487248</td>\n",
       "    </tr>\n",
       "    <tr>\n",
       "      <th>9</th>\n",
       "      <td>-VFHd3C_EeuyDgqvLkrnfQ</td>\n",
       "      <td>0.761386</td>\n",
       "    </tr>\n",
       "  </tbody>\n",
       "</table>\n",
       "</div>"
      ],
      "text/plain": [
       "          subscription_id  predicted_probability\n",
       "0  -1flsPG4EeuOTBLG4RY78Q               0.587668\n",
       "1  -3jgpo3XEeuquA5bylYGqQ               0.767948\n",
       "2  -4iSgbBhEeutEwol7kuJnw               0.702421\n",
       "3  -D1ayv64Eeuw4w5IkZJKbw               0.494505\n",
       "4  -DJEc-L5Eeub2BLESLBCkw               0.678390\n",
       "5  -EbzSDdgEeyiog5l139adw               0.653511\n",
       "6  -GVVgmMxEeuQZgoplpe76w               0.398883\n",
       "7  -H4Bil5DEeyGdgqSaUkc7Q               0.247972\n",
       "8  -O-hHcevEeuPIA4yld1PaQ               0.487248\n",
       "9  -VFHd3C_EeuyDgqvLkrnfQ               0.761386"
      ]
     },
     "execution_count": 76,
     "metadata": {},
     "output_type": "execute_result"
    }
   ],
   "source": [
    "### PLEASE CHANGE THIS CODE TO IMPLEMENT YOUR OWN PREDICTIONS\n",
    "\n",
    "# View our 'prediction_df' dataframe as required for submission.\n",
    "# Ensure it should contain 217,921 rows and 2 columns 'subscription_id' and 'predicted_probaility'\n",
    "print(prediction_df.shape)\n",
    "prediction_df.head(10)"
   ]
  },
  {
   "cell_type": "markdown",
   "metadata": {
    "deletable": false,
    "editable": false,
    "nbgrader": {
     "cell_type": "markdown",
     "checksum": "68d9145a0961e48fd1a64f9c67cfeb9c",
     "grade": false,
     "grade_id": "cell-68914e4d1c997ce3",
     "locked": true,
     "schema_version": 3,
     "solution": false,
     "task": false
    }
   },
   "source": [
    "**PLEASE CHANGE CODE ABOVE TO IMPLEMENT YOUR OWN PREDICTIONS**"
   ]
  },
  {
   "cell_type": "markdown",
   "metadata": {
    "deletable": false,
    "editable": false,
    "nbgrader": {
     "cell_type": "markdown",
     "checksum": "332a59fc1886c66fff06c82aa4886d3a",
     "grade": false,
     "grade_id": "cell-6ddc9c7036a31ac6",
     "locked": true,
     "schema_version": 3,
     "solution": false,
     "task": false
    }
   },
   "source": [
    "## Final Tests - **IMPORTANT** - the cells below must be run prior to submission\n",
    "\n",
    "Below are some tests to ensure your submission is in the correct format for grading. Please run the tests below an ensure no assertion errors are thrown."
   ]
  },
  {
   "cell_type": "code",
   "execution_count": 77,
   "metadata": {
    "deletable": false,
    "editable": false,
    "nbgrader": {
     "cell_type": "code",
     "checksum": "ff05a71c96b93240d469fce58ce8fbc3",
     "grade": true,
     "grade_id": "cell-2e6fe1054cecfac7",
     "locked": true,
     "points": 1,
     "schema_version": 3,
     "solution": false,
     "task": false
    }
   },
   "outputs": [],
   "source": [
    "# FINAL TEST CELLS - please make sure all of your code is above these test cells\n",
    "\n",
    "# Writing to csv for autograding purposes\n",
    "prediction_df.to_csv(\"prediction_submission.csv\", index=False)\n",
    "submission = pd.read_csv(\"prediction_submission.csv\")\n",
    "\n",
    "assert isinstance(submission, pd.DataFrame), 'You should have a dataframe named prediction_df.'"
   ]
  },
  {
   "cell_type": "code",
   "execution_count": 78,
   "metadata": {
    "deletable": false,
    "editable": false,
    "nbgrader": {
     "cell_type": "code",
     "checksum": "fe2f5aef7ad95ff49cfb0740111efc74",
     "grade": true,
     "grade_id": "cell-1890b9f3ad7dbf69",
     "locked": true,
     "points": 1,
     "schema_version": 3,
     "solution": false,
     "task": false
    }
   },
   "outputs": [],
   "source": [
    "# FINAL TEST CELLS - please make sure all of your code is above these test cells\n",
    "\n",
    "assert submission.shape[0] == 217921, 'The dataframe prediction_df should have 217921 rows.'"
   ]
  },
  {
   "cell_type": "code",
   "execution_count": 79,
   "metadata": {
    "deletable": false,
    "editable": false,
    "nbgrader": {
     "cell_type": "code",
     "checksum": "b3d0f1490eedd196d6d0fb70c3f751e4",
     "grade": true,
     "grade_id": "cell-fbdbf9aed9f70da1",
     "locked": true,
     "points": 1,
     "schema_version": 3,
     "solution": false,
     "task": false
    }
   },
   "outputs": [],
   "source": [
    "# FINAL TEST CELLS - please make sure all of your code is above these test cells\n",
    "\n",
    "assert submission.shape[1] == 2, 'The dataframe prediction_df should have 2 columns.'"
   ]
  },
  {
   "cell_type": "code",
   "execution_count": 49,
   "metadata": {
    "deletable": false,
    "editable": false,
    "nbgrader": {
     "cell_type": "code",
     "checksum": "c4c1dc6f465615cb24159f85b3d46ef1",
     "grade": true,
     "grade_id": "cell-957bf7eff73aa91d",
     "locked": true,
     "points": 1,
     "schema_version": 3,
     "solution": false,
     "task": false
    }
   },
   "outputs": [],
   "source": [
    "# FINAL TEST CELLS - please make sure all of your code is above these test cells\n",
    "\n",
    "## This cell calculates the auc score and is hidden. Submit Assignment to see AUC score.\n"
   ]
  },
  {
   "cell_type": "code",
   "execution_count": 115,
   "metadata": {},
   "outputs": [],
   "source": [
    "## Now Choosing Let's Start using DeepLearning I will use tensorflow here\n",
    "## The use of the DL approach here is just to see if it will be better or not.\n",
    "## The model will have this archit -> [128, 64, 128, 32, 16, 1]\n",
    "## with relu activations in the hidden layers and sigmoid in the output.\n"
   ]
  },
  {
   "cell_type": "code",
   "execution_count": 85,
   "metadata": {},
   "outputs": [],
   "source": [
    "dl_transformer = Pipeline([\n",
    "    (\"transformers\", transformers),\n",
    "    (\"scaler\", MinMaxScaler())\n",
    "])\n",
    "\n",
    "dl_transformer = dl_transformer.fit(x_train)\n",
    "x_train_scaled = dl_transformer.transform(x_train)\n",
    "x_valid_scaled = dl_transformer.transform(x_valid)"
   ]
  },
  {
   "cell_type": "code",
   "execution_count": 94,
   "metadata": {},
   "outputs": [
    {
     "name": "stdout",
     "output_type": "stream",
     "text": [
      "Model: \"Sequential_Model_V1\"\n",
      "_________________________________________________________________\n",
      "Layer (type)                 Output Shape              Param #   \n",
      "=================================================================\n",
      "fc1 (Dense)                  (None, 256)               14080     \n",
      "_________________________________________________________________\n",
      "fc2 (Dense)                  (None, 64)                16448     \n",
      "_________________________________________________________________\n",
      "fc3 (Dense)                  (None, 128)               8320      \n",
      "_________________________________________________________________\n",
      "fc4 (Dense)                  (None, 32)                4128      \n",
      "_________________________________________________________________\n",
      "fc5 (Dense)                  (None, 16)                528       \n",
      "_________________________________________________________________\n",
      "output (Dense)               (None, 1)                 17        \n",
      "=================================================================\n",
      "Total params: 43,521\n",
      "Trainable params: 43,521\n",
      "Non-trainable params: 0\n",
      "_________________________________________________________________\n"
     ]
    }
   ],
   "source": [
    "\n",
    "input_shape = x_train_scaled.shape\n",
    "LEARNING_RATE = 1e-3\n",
    "\n",
    "dl_model = tf.keras.models.Sequential([\n",
    "    tf.keras.layers.InputLayer(input_shape=(input_shape[1], ), name=\"input\"),\n",
    "    tf.keras.layers.Dense(units=256, activation=\"linear\"  , name=\"fc1\"),\n",
    "    tf.keras.layers.Dense(units=64 , activation=tf.nn.relu, name=\"fc2\"),\n",
    "    tf.keras.layers.Dense(units=128, activation=tf.nn.relu, name=\"fc3\"),\n",
    "    tf.keras.layers.Dense(units=32 , activation=tf.nn.relu, name=\"fc4\"),\n",
    "    tf.keras.layers.Dense(units=16 , activation=tf.nn.relu, name=\"fc5\"),\n",
    "    tf.keras.layers.Dense(units=1  , activation=tf.nn.sigmoid, name=\"output\"),\n",
    "], name=\"Sequential_Model_V1\")\n",
    "\n",
    "dl_model.compile(\n",
    "    optimizer=tf.keras.optimizers.SGD(learning_rate=LEARNING_RATE),\n",
    "    loss=tf.keras.losses.BinaryCrossentropy(),\n",
    "    metrics=[\"accuracy\"],\n",
    ")\n",
    "\n",
    "dl_model.summary()"
   ]
  },
  {
   "cell_type": "code",
   "execution_count": 95,
   "metadata": {},
   "outputs": [
    {
     "name": "stdout",
     "output_type": "stream",
     "text": [
      "Train on 331162 samples, validate on 82791 samples\n",
      "Epoch 1/30\n",
      "331162/331162 [==============================] - 8s 25us/sample - loss: 0.6883 - accuracy: 0.5359 - val_loss: 0.6834 - val_accuracy: 0.5517\n",
      "Epoch 2/30\n",
      "331162/331162 [==============================] - 8s 25us/sample - loss: 0.6776 - accuracy: 0.5760 - val_loss: 0.6689 - val_accuracy: 0.6021\n",
      "Epoch 3/30\n",
      "331162/331162 [==============================] - 8s 24us/sample - loss: 0.6558 - accuracy: 0.6228 - val_loss: 0.6400 - val_accuracy: 0.6409\n",
      "Epoch 4/30\n",
      "331162/331162 [==============================] - 8s 23us/sample - loss: 0.6290 - accuracy: 0.6487 - val_loss: 0.6206 - val_accuracy: 0.6557\n",
      "Epoch 5/30\n",
      "331162/331162 [==============================] - 8s 24us/sample - loss: 0.6182 - accuracy: 0.6573 - val_loss: 0.6151 - val_accuracy: 0.6603\n",
      "Epoch 6/30\n",
      "331162/331162 [==============================] - 8s 24us/sample - loss: 0.6145 - accuracy: 0.6605 - val_loss: 0.6126 - val_accuracy: 0.6610\n",
      "Epoch 7/30\n",
      "331162/331162 [==============================] - 8s 24us/sample - loss: 0.6124 - accuracy: 0.6620 - val_loss: 0.6112 - val_accuracy: 0.6621\n",
      "Epoch 8/30\n",
      "331162/331162 [==============================] - 8s 23us/sample - loss: 0.6112 - accuracy: 0.6637 - val_loss: 0.6098 - val_accuracy: 0.6633\n",
      "Epoch 9/30\n",
      "331162/331162 [==============================] - 8s 24us/sample - loss: 0.6102 - accuracy: 0.6647 - val_loss: 0.6095 - val_accuracy: 0.6636\n",
      "Epoch 10/30\n",
      "331162/331162 [==============================] - 8s 23us/sample - loss: 0.6094 - accuracy: 0.6654 - val_loss: 0.6088 - val_accuracy: 0.6642\n",
      "Epoch 11/30\n",
      "331162/331162 [==============================] - 8s 23us/sample - loss: 0.6086 - accuracy: 0.6660 - val_loss: 0.6074 - val_accuracy: 0.6650\n",
      "Epoch 12/30\n",
      "331162/331162 [==============================] - 8s 24us/sample - loss: 0.6079 - accuracy: 0.6666 - val_loss: 0.6066 - val_accuracy: 0.6664\n",
      "Epoch 13/30\n",
      "331162/331162 [==============================] - 8s 25us/sample - loss: 0.6072 - accuracy: 0.6674 - val_loss: 0.6065 - val_accuracy: 0.6671\n",
      "Epoch 14/30\n",
      "331162/331162 [==============================] - 8s 25us/sample - loss: 0.6065 - accuracy: 0.6682 - val_loss: 0.6054 - val_accuracy: 0.6684\n",
      "Epoch 15/30\n",
      "331162/331162 [==============================] - 8s 24us/sample - loss: 0.6060 - accuracy: 0.6690 - val_loss: 0.6056 - val_accuracy: 0.6685\n",
      "Epoch 16/30\n",
      "331162/331162 [==============================] - 8s 24us/sample - loss: 0.6053 - accuracy: 0.6694 - val_loss: 0.6051 - val_accuracy: 0.6694\n",
      "Epoch 17/30\n",
      "331162/331162 [==============================] - 8s 24us/sample - loss: 0.6048 - accuracy: 0.6700 - val_loss: 0.6045 - val_accuracy: 0.6702\n",
      "Epoch 18/30\n",
      "331162/331162 [==============================] - 8s 24us/sample - loss: 0.6043 - accuracy: 0.6710 - val_loss: 0.6044 - val_accuracy: 0.6701\n",
      "Epoch 19/30\n",
      "331162/331162 [==============================] - 8s 23us/sample - loss: 0.6039 - accuracy: 0.6711 - val_loss: 0.6041 - val_accuracy: 0.6707\n",
      "Epoch 20/30\n",
      "331162/331162 [==============================] - 8s 23us/sample - loss: 0.6035 - accuracy: 0.6715 - val_loss: 0.6047 - val_accuracy: 0.6703\n",
      "Epoch 21/30\n",
      "331162/331162 [==============================] - 8s 23us/sample - loss: 0.6031 - accuracy: 0.6719 - val_loss: 0.6040 - val_accuracy: 0.6712\n",
      "Epoch 22/30\n",
      "331162/331162 [==============================] - 8s 23us/sample - loss: 0.6027 - accuracy: 0.6723 - val_loss: 0.6020 - val_accuracy: 0.6727\n",
      "Epoch 23/30\n",
      "331162/331162 [==============================] - 8s 23us/sample - loss: 0.6024 - accuracy: 0.6724 - val_loss: 0.6023 - val_accuracy: 0.6728\n",
      "Epoch 24/30\n",
      "331162/331162 [==============================] - 8s 23us/sample - loss: 0.6021 - accuracy: 0.6728 - val_loss: 0.6015 - val_accuracy: 0.6732\n",
      "Epoch 25/30\n",
      "331162/331162 [==============================] - 8s 24us/sample - loss: 0.6018 - accuracy: 0.6730 - val_loss: 0.6019 - val_accuracy: 0.6727\n",
      "Epoch 26/30\n",
      "331162/331162 [==============================] - 8s 25us/sample - loss: 0.6015 - accuracy: 0.6735 - val_loss: 0.6017 - val_accuracy: 0.6734\n",
      "Epoch 27/30\n",
      "331162/331162 [==============================] - 8s 25us/sample - loss: 0.6013 - accuracy: 0.6739 - val_loss: 0.6012 - val_accuracy: 0.6735\n",
      "Epoch 28/30\n",
      "331162/331162 [==============================] - 8s 25us/sample - loss: 0.6010 - accuracy: 0.6739 - val_loss: 0.6012 - val_accuracy: 0.6734\n",
      "Epoch 29/30\n",
      "331162/331162 [==============================] - 8s 25us/sample - loss: 0.6007 - accuracy: 0.6740 - val_loss: 0.6010 - val_accuracy: 0.6739\n",
      "Epoch 30/30\n",
      "331162/331162 [==============================] - 8s 25us/sample - loss: 0.6005 - accuracy: 0.6742 - val_loss: 0.6006 - val_accuracy: 0.6737\n"
     ]
    }
   ],
   "source": [
    "N_EPOCHS = 30\n",
    "BATCH_SIZE = 64\n",
    "\n",
    "dl_model_history = dl_model.fit(\n",
    "    x_train_scaled, y_train,\n",
    "    validation_data=(x_valid_scaled, y_valid),\n",
    "    epochs=N_EPOCHS,\n",
    "    batch_size=BATCH_SIZE,\n",
    "    verbose=True\n",
    ")"
   ]
  },
  {
   "cell_type": "code",
   "execution_count": 98,
   "metadata": {},
   "outputs": [
    {
     "data": {
      "text/plain": [
       "<matplotlib.legend.Legend at 0x7fc14c6a9750>"
      ]
     },
     "execution_count": 98,
     "metadata": {},
     "output_type": "execute_result"
    },
    {
     "data": {
      "image/png": "[encoded data removed]",
      "text/plain": [
       "<Figure size 864x360 with 2 Axes>"
      ]
     },
     "metadata": {
      "needs_background": "light"
     },
     "output_type": "display_data"
    }
   ],
   "source": [
    "fig, (ax1, ax2) = plt.subplots(nrows=1, ncols=2, figsize=(12, 5))\n",
    "\n",
    "epochs_range = range(1, N_EPOCHS+1)\n",
    "ax1.plot(epochs_range, dl_model_history.history[\"accuracy\"], label=\"Accuracy\")\n",
    "ax1.plot(epochs_range, dl_model_history.history[\"val_accuracy\"], label=\"Valid Accuracy\")\n",
    "ax1.set_xlabel(\"Epochs\"); ax1.set_ylabel(\"Accuracy\")\n",
    "\n",
    "ax2.plot(epochs_range, dl_model_history.history[\"loss\"], label=\"Loss\")\n",
    "ax2.plot(epochs_range, dl_model_history.history[\"val_loss\"], label=\"Valid Loss\")\n",
    "ax2.set_xlabel(\"Epochs\"); ax2.set_ylabel(\"Loss\")\n",
    "\n",
    "ax1.legend(); ax2.legend()\n"
   ]
  },
  {
   "cell_type": "code",
   "execution_count": 99,
   "metadata": {},
   "outputs": [],
   "source": [
    "x_test_scaled = dl_transformer.transform(test_df[feature_columns])"
   ]
  },
  {
   "cell_type": "code",
   "execution_count": 102,
   "metadata": {},
   "outputs": [
    {
     "data": {
      "text/plain": [
       "array([0.00000000e+00, 0.00000000e+00, 0.00000000e+00, 1.00000000e+00,\n",
       "       0.00000000e+00, 0.00000000e+00, 0.00000000e+00, 0.00000000e+00,\n",
       "       0.00000000e+00, 0.00000000e+00, 0.00000000e+00, 0.00000000e+00,\n",
       "       0.00000000e+00, 0.00000000e+00, 0.00000000e+00, 0.00000000e+00,\n",
       "       0.00000000e+00, 0.00000000e+00, 0.00000000e+00, 0.00000000e+00,\n",
       "       0.00000000e+00, 0.00000000e+00, 0.00000000e+00, 1.00000000e+00,\n",
       "       0.00000000e+00, 0.00000000e+00, 1.00000000e+00, 0.00000000e+00,\n",
       "       0.00000000e+00, 0.00000000e+00, 0.00000000e+00, 0.00000000e+00,\n",
       "       0.00000000e+00, 0.00000000e+00, 0.00000000e+00, 0.00000000e+00,\n",
       "       6.66906877e-01, 3.33339531e-01, 5.60886688e-03, 1.61990591e-04,\n",
       "       2.62618276e-04, 1.00074856e-05, 5.73155147e-03, 2.35554418e-02,\n",
       "       6.52337145e-03, 3.26376591e-03, 1.26089185e-02, 2.04774257e-01,\n",
       "       3.35410127e-03, 4.95046120e-01, 2.15948117e-01, 4.35002484e-03,\n",
       "       7.62000762e-01, 5.06041816e-01])"
      ]
     },
     "execution_count": 102,
     "metadata": {},
     "output_type": "execute_result"
    }
   ],
   "source": [
    "x_test_scaled[0]"
   ]
  },
  {
   "cell_type": "code",
   "execution_count": 103,
   "metadata": {},
   "outputs": [
    {
     "data": {
      "text/plain": [
       "array([[0.56068856],\n",
       "       [0.81276584],\n",
       "       [0.82823175],\n",
       "       ...,\n",
       "       [0.23206472],\n",
       "       [0.86997205],\n",
       "       [0.36468828]], dtype=float32)"
      ]
     },
     "execution_count": 103,
     "metadata": {},
     "output_type": "execute_result"
    }
   ],
   "source": [
    "dl_predictions = dl_model.predict_proba(x_test_scaled)\n",
    "dl_predictions"
   ]
  },
  {
   "cell_type": "code",
   "execution_count": 105,
   "metadata": {},
   "outputs": [
    {
     "data": {
      "text/plain": [
       "array([0.56068856, 0.81276584, 0.82823175, ..., 0.23206472, 0.86997205,\n",
       "       0.36468828], dtype=float32)"
      ]
     },
     "execution_count": 105,
     "metadata": {},
     "output_type": "execute_result"
    }
   ],
   "source": [
    "dl_predictions.ravel()"
   ]
  },
  {
   "cell_type": "code",
   "execution_count": 116,
   "metadata": {},
   "outputs": [],
   "source": [
    "### PLEASE CHANGE THIS CODE TO IMPLEMENT YOUR OWN PREDICTIONS\n",
    "\n",
    "# Combine predictions with label column into a dataframe\n",
    "prediction_df = pd.DataFrame({'subscription_id': test_df[['subscription_id']].values[:, 0],\n",
    "                             'predicted_probability': dl_predictions.ravel()})"
   ]
  },
  {
   "cell_type": "code",
   "execution_count": 117,
   "metadata": {},
   "outputs": [
    {
     "name": "stdout",
     "output_type": "stream",
     "text": [
      "(217921, 2)\n"
     ]
    },
    {
     "data": {
      "text/html": [
       "<div>\n",
       "<style scoped>\n",
       "    .dataframe tbody tr th:only-of-type {\n",
       "        vertical-align: middle;\n",
       "    }\n",
       "\n",
       "    .dataframe tbody tr th {\n",
       "        vertical-align: top;\n",
       "    }\n",
       "\n",
       "    .dataframe thead th {\n",
       "        text-align: right;\n",
       "    }\n",
       "</style>\n",
       "<table border=\"1\" class=\"dataframe\">\n",
       "  <thead>\n",
       "    <tr style=\"text-align: right;\">\n",
       "      <th></th>\n",
       "      <th>subscription_id</th>\n",
       "      <th>predicted_probability</th>\n",
       "    </tr>\n",
       "  </thead>\n",
       "  <tbody>\n",
       "    <tr>\n",
       "      <th>0</th>\n",
       "      <td>-1flsPG4EeuOTBLG4RY78Q</td>\n",
       "      <td>0.560689</td>\n",
       "    </tr>\n",
       "    <tr>\n",
       "      <th>1</th>\n",
       "      <td>-3jgpo3XEeuquA5bylYGqQ</td>\n",
       "      <td>0.812766</td>\n",
       "    </tr>\n",
       "    <tr>\n",
       "      <th>2</th>\n",
       "      <td>-4iSgbBhEeutEwol7kuJnw</td>\n",
       "      <td>0.828232</td>\n",
       "    </tr>\n",
       "    <tr>\n",
       "      <th>3</th>\n",
       "      <td>-D1ayv64Eeuw4w5IkZJKbw</td>\n",
       "      <td>0.352159</td>\n",
       "    </tr>\n",
       "    <tr>\n",
       "      <th>4</th>\n",
       "      <td>-DJEc-L5Eeub2BLESLBCkw</td>\n",
       "      <td>0.685752</td>\n",
       "    </tr>\n",
       "    <tr>\n",
       "      <th>5</th>\n",
       "      <td>-EbzSDdgEeyiog5l139adw</td>\n",
       "      <td>0.725481</td>\n",
       "    </tr>\n",
       "    <tr>\n",
       "      <th>6</th>\n",
       "      <td>-GVVgmMxEeuQZgoplpe76w</td>\n",
       "      <td>0.408719</td>\n",
       "    </tr>\n",
       "    <tr>\n",
       "      <th>7</th>\n",
       "      <td>-H4Bil5DEeyGdgqSaUkc7Q</td>\n",
       "      <td>0.118344</td>\n",
       "    </tr>\n",
       "    <tr>\n",
       "      <th>8</th>\n",
       "      <td>-O-hHcevEeuPIA4yld1PaQ</td>\n",
       "      <td>0.476879</td>\n",
       "    </tr>\n",
       "    <tr>\n",
       "      <th>9</th>\n",
       "      <td>-VFHd3C_EeuyDgqvLkrnfQ</td>\n",
       "      <td>0.770775</td>\n",
       "    </tr>\n",
       "  </tbody>\n",
       "</table>\n",
       "</div>"
      ],
      "text/plain": [
       "          subscription_id  predicted_probability\n",
       "0  -1flsPG4EeuOTBLG4RY78Q               0.560689\n",
       "1  -3jgpo3XEeuquA5bylYGqQ               0.812766\n",
       "2  -4iSgbBhEeutEwol7kuJnw               0.828232\n",
       "3  -D1ayv64Eeuw4w5IkZJKbw               0.352159\n",
       "4  -DJEc-L5Eeub2BLESLBCkw               0.685752\n",
       "5  -EbzSDdgEeyiog5l139adw               0.725481\n",
       "6  -GVVgmMxEeuQZgoplpe76w               0.408719\n",
       "7  -H4Bil5DEeyGdgqSaUkc7Q               0.118344\n",
       "8  -O-hHcevEeuPIA4yld1PaQ               0.476879\n",
       "9  -VFHd3C_EeuyDgqvLkrnfQ               0.770775"
      ]
     },
     "execution_count": 117,
     "metadata": {},
     "output_type": "execute_result"
    }
   ],
   "source": [
    "### PLEASE CHANGE THIS CODE TO IMPLEMENT YOUR OWN PREDICTIONS\n",
    "\n",
    "# View our 'prediction_df' dataframe as required for submission.\n",
    "# Ensure it should contain 217,921 rows and 2 columns 'subscription_id' and 'predicted_probaility'\n",
    "print(prediction_df.shape)\n",
    "prediction_df.head(10)"
   ]
  },
  {
   "cell_type": "code",
   "execution_count": 118,
   "metadata": {},
   "outputs": [],
   "source": [
    "# FINAL TEST CELLS - please make sure all of your code is above these test cells\n",
    "\n",
    "assert submission.shape[0] == 217921, 'The dataframe prediction_df should have 217921 rows.'"
   ]
  },
  {
   "cell_type": "code",
   "execution_count": 119,
   "metadata": {},
   "outputs": [],
   "source": [
    "# FINAL TEST CELLS - please make sure all of your code is above these test cells\n",
    "\n",
    "# Writing to csv for autograding purposes\n",
    "prediction_df.to_csv(\"prediction_submission.csv\", index=False)\n",
    "submission = pd.read_csv(\"prediction_submission.csv\")\n",
    "\n",
    "assert isinstance(submission, pd.DataFrame), 'You should have a dataframe named prediction_df.'"
   ]
  },
  {
   "cell_type": "code",
   "execution_count": 120,
   "metadata": {},
   "outputs": [],
   "source": [
    "# FINAL TEST CELLS - please make sure all of your code is above these test cells\n",
    "\n",
    "assert submission.shape[0] == 217921, 'The dataframe prediction_df should have 217921 rows.'"
   ]
  },
  {
   "cell_type": "code",
   "execution_count": 121,
   "metadata": {},
   "outputs": [],
   "source": [
    "# FINAL TEST CELLS - please make sure all of your code is above these test cells\n",
    "\n",
    "assert submission.shape[1] == 2, 'The dataframe prediction_df should have 2 columns.'"
   ]
  },
  {
   "cell_type": "code",
   "execution_count": 129,
   "metadata": {},
   "outputs": [],
   "source": [
    "from sklearn.metrics import auc, roc_curve\n",
    "fpr, tpr, thresholds = roc_curve(y_valid, dl_model.predict_proba(x_valid_scaled), pos_label=2)"
   ]
  },
  {
   "cell_type": "code",
   "execution_count": 130,
   "metadata": {},
   "outputs": [
    {
     "data": {
      "text/plain": [
       "nan"
      ]
     },
     "execution_count": 130,
     "metadata": {},
     "output_type": "execute_result"
    }
   ],
   "source": [
    "auc(fpr, tpr)"
   ]
  },
  {
   "cell_type": "markdown",
   "metadata": {
    "deletable": false,
    "editable": false,
    "nbgrader": {
     "cell_type": "markdown",
     "checksum": "a26e871efdc73025547000ab61191afe",
     "grade": false,
     "grade_id": "cell-3bfd585b82e8e11a",
     "locked": true,
     "schema_version": 3,
     "solution": false,
     "task": false
    }
   },
   "source": [
    "## SUBMIT YOUR WORK!\n",
    "\n",
    "Once we are happy with our `prediction_df` we can now submit for autograding! Submit by using the blue **Submit Assignment** at the top of your notebook. Don't worry if your initial submission isn't perfect as you have multiple submission attempts and will obtain some feedback after each submission!"
   ]
  }
 ],
 "metadata": {
  "kernelspec": {
   "display_name": "Python 3 (ipykernel)",
   "language": "python",
   "name": "python3"
  },
  "language_info": {
   "codemirror_mode": {
    "name": "ipython",
    "version": 3
   },
   "file_extension": ".py",
   "mimetype": "text/x-python",
   "name": "python",
   "nbconvert_exporter": "python",
   "pygments_lexer": "ipython3",
   "version": "3.9.12"
  }
 },
 "nbformat": 4,
 "nbformat_minor": 4
}
